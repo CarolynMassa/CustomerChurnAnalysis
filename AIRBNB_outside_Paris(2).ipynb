{
 "cells": [
  {
   "cell_type": "markdown",
   "metadata": {},
   "source": [
    "<html><head>\n",
    "\n",
    "\n",
    "\n",
    "Carolyn Massa - April, 2020\n",
    "\n",
    "Capstone #2 - AirBnb Price Prediction - An exploration into key factors that determine the pricing of an AIRBNB\n",
    "\n",
    "<ol>\n",
    "Primary Source of AirBNB Data:\n",
    "<li> http://insideairbnb.com/get-the-data.html</li>\n",
    "Supplementary Sources of Data:\n",
    "<li>2018 top 10 attractions in Paris</li> \n",
    "<li>Haversine Formula</li>\n",
    "</ol>\n",
    "\n",
    "</script>\n",
    "\n",
    "</head>\n",
    "\n",
    "<body>\n",
    "    <h2>Here's a high-level overview:\n",
    "</h2>\n",
    "<ol>\n",
    "  <li>Data Collection</li>\n",
    "  <li>Exploratory Data Analysis</li>\n",
    "  <li>Data Wrangling</li>\n",
    "  <li>Test and Train using Logistic Regression and LIGHT Model Gradient Boost</li>\n",
    "   <li>A one tailed T -Test, Chi Squared to test the H0:  \"It does not matter if you are close to the Top 10 attractions in Paris as the price is the same\" and the HA \"Prices are higher the closer you are to the Top 10 Attractions\"\n",
    "       P-Value and T Stat tests</li>\n",
    "    <li>A word cloud generated from using nltk.WordNetLemmatizer to show the most popular words to use for a listing description</li>\n",
    "</ol>\n",
    "\n",
    "\n",
    "\n",
    "<head>\n",
    "\n",
    "\n",
    "\n",
    "1) I would like to be able to explore and answer the following questions:\n",
    "•\tHow does each location influence the property rental price?  \n",
    "•\tDo reviews affect the pricing?  \n",
    "•\tCan a traveler stay close to the main attractions such as the Eiffel Tower and the most popular museums such as the Louvre and Musee D’Orsay?\n",
    "•\tWhat other features drive the price of an airbnb rental property?\n",
    "o\ti.e. price vs location, price vs distance from a top attraction, price vs. access to transportation and perhaps convention centers as there are many conventions in September\n",
    "\n",
    "2) Recommend Airbnb properties given a certain criteria, and enable a more informed decision for a traveler:\n",
    "\n",
    "•\twalking distance to one of the top attractions (within 2 miles)\n",
    "•\twalking distance to metro or other mass transit stations (within 1 mile)\n",
    "•\trating >= 8 miles\n",
    "•\tother user defined criteria i.e. cleanliness, views, etc\n",
    "•\tnumber of beds\n",
    "•\tnumber of bedrooms\n",
    "•\tprice range\n",
    "•\ttype of property\n",
    "\n",
    "3) How well can we predict a listing's price and what features correlate well with the pricing?\n",
    "\n",
    "Business Case questions:\n",
    "\n",
    "Where to invest in a property in Paris to get the maximum number of returns from Airbnb?\n",
    "How well can we predict reviews and what features correlate well with the reviews?\n",
    "Which neighborhoods have the largest increase in listings from 2015 to 2019?\n",
    "\n",
    "In this notebook I plan to just show EDA and results outside Paris and different functions of Calendar DataSet\n",
    "\n",
    "</body>\n",
    "</html>\n",
    "\n"
   ]
  },
  {
   "cell_type": "markdown",
   "metadata": {},
   "source": [
    "# Below I import my libraries to collect and  explore my data"
   ]
  },
  {
   "cell_type": "code",
   "execution_count": 1,
   "metadata": {},
   "outputs": [
    {
     "ename": "ModuleNotFoundError",
     "evalue": "No module named 'geopandas'",
     "output_type": "error",
     "traceback": [
      "\u001b[1;31m---------------------------------------------------------------------------\u001b[0m",
      "\u001b[1;31mModuleNotFoundError\u001b[0m                       Traceback (most recent call last)",
      "\u001b[1;32m<ipython-input-1-e9dd8b9bfa78>\u001b[0m in \u001b[0;36m<module>\u001b[1;34m\u001b[0m\n\u001b[0;32m      9\u001b[0m \u001b[1;33m\u001b[0m\u001b[0m\n\u001b[0;32m     10\u001b[0m \u001b[1;32mimport\u001b[0m \u001b[0mdatetime\u001b[0m\u001b[1;33m\u001b[0m\u001b[1;33m\u001b[0m\u001b[0m\n\u001b[1;32m---> 11\u001b[1;33m \u001b[1;32mimport\u001b[0m \u001b[0mgeopandas\u001b[0m\u001b[1;33m\u001b[0m\u001b[1;33m\u001b[0m\u001b[0m\n\u001b[0m\u001b[0;32m     12\u001b[0m \u001b[1;32mimport\u001b[0m \u001b[0mbranca\u001b[0m\u001b[1;33m\u001b[0m\u001b[1;33m\u001b[0m\u001b[0m\n\u001b[0;32m     13\u001b[0m \u001b[1;32mimport\u001b[0m \u001b[0mfolium\u001b[0m\u001b[1;33m\u001b[0m\u001b[1;33m\u001b[0m\u001b[0m\n",
      "\u001b[1;31mModuleNotFoundError\u001b[0m: No module named 'geopandas'"
     ]
    }
   ],
   "source": [
    "#Data Collection\n",
    "\n",
    "import pandas as pd\n",
    "import numpy as np\n",
    "pd.set_option('display.max_columns', None)\n",
    "pd.set_option('display.max_rows', None)\n",
    "import matplotlib.pyplot as plt\n",
    "import seaborn as sns\n",
    "\n",
    "import datetime\n",
    "import geopandas\n",
    "import branca\n",
    "import folium\n",
    "import urllib\n",
    "import os\n",
    "print(os.getcwd())\n",
    "import pyximport\n",
    "pyximport.install()\n",
    "import squarify\n",
    "import re\n",
    "from datetime import date\n",
    "import datetime\n",
    "import calendar\n",
    "import holidays\n",
    "\n",
    "#Stats Modeling/Comparisons of Means\n",
    "\n",
    "import statsmodels.stats.api as sms\n",
    "from statsmodels.compat import lzip\n",
    "import scipy.stats as stats\n",
    "import math\n",
    "from statsmodels.stats.multicomp import pairwise_tukeyhsd\n",
    "\n",
    "from shapely.geometry import Point\n",
    "import shapely.ops as sp_ops\n",
    "import pyproj\n",
    "import functools\n",
    "\n",
    "import missingno as msno\n",
    "import pandas_profiling\n",
    "\n",
    "import ipywidgets as widgets\n",
    "\n",
    "#Data Modeling/Algorithms\n",
    "\n",
    "import sklearn\n",
    "import scipy\n",
    "\n",
    "\n",
    "\n",
    "\n",
    "#Word Vectorization\n",
    "from sklearn.feature_extraction.text import TfidfVectorizer, CountVectorizer\n",
    "from nltk.corpus import stopwords\n",
    "import nltk\n",
    "import string\n",
    "from wordcloud import WordCloud,ImageColorGenerator\n",
    "\n"
   ]
  },
  {
   "cell_type": "markdown",
   "metadata": {},
   "source": [
    "# Data Collection and Review - First let's read our date in and see what we are working with.\n",
    "#I import my datasets from insideAirBNB by the years and Months I will Analyze (2015, 2016 & 2019)"
   ]
  },
  {
   "cell_type": "code",
   "execution_count": 115,
   "metadata": {},
   "outputs": [
    {
     "name": "stderr",
     "output_type": "stream",
     "text": [
      "C:\\Users\\1800r\\anaconda3\\lib\\site-packages\\IPython\\core\\interactiveshell.py:3063: DtypeWarning: Columns (43,61,62) have mixed types.Specify dtype option on import or set low_memory=False.\n",
      "  interactivity=interactivity, compiler=compiler, result=result)\n"
     ]
    }
   ],
   "source": [
    "#First let's Analyze a typical dataset of the listings by month to review the data points\n",
    "#I start with 2019 for 5 months from insideairbnb.com\n",
    "\n",
    "listing_2019_04_OP = pd.read_csv('listings_basics_2019_04.csv', parse_dates=['last_review'])\n",
    "listing_Details_2019_4_OP = pd.read_csv('listings_details_2019_04.csv')\n",
    "\n",
    "\n",
    "\n"
   ]
  },
  {
   "cell_type": "code",
   "execution_count": 116,
   "metadata": {
    "scrolled": true
   },
   "outputs": [
    {
     "data": {
      "text/html": [
       "<div>\n",
       "<style scoped>\n",
       "    .dataframe tbody tr th:only-of-type {\n",
       "        vertical-align: middle;\n",
       "    }\n",
       "\n",
       "    .dataframe tbody tr th {\n",
       "        vertical-align: top;\n",
       "    }\n",
       "\n",
       "    .dataframe thead th {\n",
       "        text-align: right;\n",
       "    }\n",
       "</style>\n",
       "<table border=\"1\" class=\"dataframe\">\n",
       "  <thead>\n",
       "    <tr style=\"text-align: right;\">\n",
       "      <th></th>\n",
       "      <th>id</th>\n",
       "      <th>name</th>\n",
       "      <th>host_id</th>\n",
       "      <th>host_name</th>\n",
       "      <th>neighbourhood_group</th>\n",
       "      <th>neighbourhood</th>\n",
       "      <th>latitude</th>\n",
       "      <th>longitude</th>\n",
       "      <th>room_type</th>\n",
       "      <th>price</th>\n",
       "      <th>minimum_nights</th>\n",
       "      <th>number_of_reviews</th>\n",
       "      <th>last_review</th>\n",
       "      <th>reviews_per_month</th>\n",
       "      <th>calculated_host_listings_count</th>\n",
       "      <th>availability_365</th>\n",
       "    </tr>\n",
       "  </thead>\n",
       "  <tbody>\n",
       "    <tr>\n",
       "      <th>0</th>\n",
       "      <td>2394</td>\n",
       "      <td>HAUT MARAIS / STUDIO- 840 EUR/MONTH</td>\n",
       "      <td>2626</td>\n",
       "      <td>Franck</td>\n",
       "      <td>NaN</td>\n",
       "      <td>Temple</td>\n",
       "      <td>48.86518</td>\n",
       "      <td>2.35590</td>\n",
       "      <td>Entire home/apt</td>\n",
       "      <td>52</td>\n",
       "      <td>7</td>\n",
       "      <td>71</td>\n",
       "      <td>2015-09-05</td>\n",
       "      <td>0.56</td>\n",
       "      <td>2</td>\n",
       "      <td>315</td>\n",
       "    </tr>\n",
       "    <tr>\n",
       "      <th>1</th>\n",
       "      <td>2577</td>\n",
       "      <td>Loft for 4 by Canal Saint Martin</td>\n",
       "      <td>2827</td>\n",
       "      <td>Karine</td>\n",
       "      <td>NaN</td>\n",
       "      <td>Entrepôt</td>\n",
       "      <td>48.86993</td>\n",
       "      <td>2.36251</td>\n",
       "      <td>Entire home/apt</td>\n",
       "      <td>125</td>\n",
       "      <td>3</td>\n",
       "      <td>1</td>\n",
       "      <td>2019-01-02</td>\n",
       "      <td>0.31</td>\n",
       "      <td>1</td>\n",
       "      <td>148</td>\n",
       "    </tr>\n",
       "    <tr>\n",
       "      <th>2</th>\n",
       "      <td>3109</td>\n",
       "      <td>zen and calm</td>\n",
       "      <td>3631</td>\n",
       "      <td>Anne</td>\n",
       "      <td>NaN</td>\n",
       "      <td>Observatoire</td>\n",
       "      <td>48.83349</td>\n",
       "      <td>2.31852</td>\n",
       "      <td>Entire home/apt</td>\n",
       "      <td>75</td>\n",
       "      <td>3</td>\n",
       "      <td>8</td>\n",
       "      <td>2018-12-19</td>\n",
       "      <td>0.29</td>\n",
       "      <td>1</td>\n",
       "      <td>277</td>\n",
       "    </tr>\n",
       "    <tr>\n",
       "      <th>3</th>\n",
       "      <td>5396</td>\n",
       "      <td>Explore the heart of old Paris</td>\n",
       "      <td>7903</td>\n",
       "      <td>Borzou</td>\n",
       "      <td>NaN</td>\n",
       "      <td>Hôtel-de-Ville</td>\n",
       "      <td>48.85100</td>\n",
       "      <td>2.35869</td>\n",
       "      <td>Entire home/apt</td>\n",
       "      <td>115</td>\n",
       "      <td>1</td>\n",
       "      <td>168</td>\n",
       "      <td>2019-03-25</td>\n",
       "      <td>1.41</td>\n",
       "      <td>1</td>\n",
       "      <td>59</td>\n",
       "    </tr>\n",
       "    <tr>\n",
       "      <th>4</th>\n",
       "      <td>7397</td>\n",
       "      <td>MARAIS - 2ROOMS APT - 2/4 PEOPLE</td>\n",
       "      <td>2626</td>\n",
       "      <td>Franck</td>\n",
       "      <td>NaN</td>\n",
       "      <td>Hôtel-de-Ville</td>\n",
       "      <td>48.85758</td>\n",
       "      <td>2.35275</td>\n",
       "      <td>Entire home/apt</td>\n",
       "      <td>115</td>\n",
       "      <td>10</td>\n",
       "      <td>241</td>\n",
       "      <td>2019-03-22</td>\n",
       "      <td>2.47</td>\n",
       "      <td>2</td>\n",
       "      <td>216</td>\n",
       "    </tr>\n",
       "  </tbody>\n",
       "</table>\n",
       "</div>"
      ],
      "text/plain": [
       "     id                                 name  host_id host_name  \\\n",
       "0  2394  HAUT MARAIS / STUDIO- 840 EUR/MONTH     2626    Franck   \n",
       "1  2577     Loft for 4 by Canal Saint Martin     2827    Karine   \n",
       "2  3109                         zen and calm     3631      Anne   \n",
       "3  5396       Explore the heart of old Paris     7903    Borzou   \n",
       "4  7397     MARAIS - 2ROOMS APT - 2/4 PEOPLE     2626    Franck   \n",
       "\n",
       "   neighbourhood_group   neighbourhood  latitude  longitude        room_type  \\\n",
       "0                  NaN          Temple  48.86518    2.35590  Entire home/apt   \n",
       "1                  NaN        Entrepôt  48.86993    2.36251  Entire home/apt   \n",
       "2                  NaN    Observatoire  48.83349    2.31852  Entire home/apt   \n",
       "3                  NaN  Hôtel-de-Ville  48.85100    2.35869  Entire home/apt   \n",
       "4                  NaN  Hôtel-de-Ville  48.85758    2.35275  Entire home/apt   \n",
       "\n",
       "   price  minimum_nights  number_of_reviews last_review  reviews_per_month  \\\n",
       "0     52               7                 71  2015-09-05               0.56   \n",
       "1    125               3                  1  2019-01-02               0.31   \n",
       "2     75               3                  8  2018-12-19               0.29   \n",
       "3    115               1                168  2019-03-25               1.41   \n",
       "4    115              10                241  2019-03-22               2.47   \n",
       "\n",
       "   calculated_host_listings_count  availability_365  \n",
       "0                               2               315  \n",
       "1                               1               148  \n",
       "2                               1               277  \n",
       "3                               1                59  \n",
       "4                               2               216  "
      ]
     },
     "execution_count": 116,
     "metadata": {},
     "output_type": "execute_result"
    }
   ],
   "source": [
    "listing_2019_04_OP.head(5) #Below in my first list I see 18 variables related to the listing host and id, price and area"
   ]
  },
  {
   "cell_type": "code",
   "execution_count": 117,
   "metadata": {},
   "outputs": [],
   "source": [
    "#now let's look at the quantity of our observations starting with 2015 and see how the listings have grown with the popularity of AirBNB"
   ]
  },
  {
   "cell_type": "code",
   "execution_count": 118,
   "metadata": {},
   "outputs": [
    {
     "data": {
      "text/plain": [
       "(58184, 16)"
      ]
     },
     "execution_count": 118,
     "metadata": {},
     "output_type": "execute_result"
    }
   ],
   "source": [
    "listing_2019_04_OP.shape #Here we see how many Variables and observations we have"
   ]
  },
  {
   "cell_type": "code",
   "execution_count": 12,
   "metadata": {},
   "outputs": [
    {
     "ename": "NameError",
     "evalue": "name 'geopandas' is not defined",
     "output_type": "error",
     "traceback": [
      "\u001b[1;31m---------------------------------------------------------------------------\u001b[0m",
      "\u001b[1;31mNameError\u001b[0m                                 Traceback (most recent call last)",
      "\u001b[1;32m<ipython-input-12-ad1a2041a1a8>\u001b[0m in \u001b[0;36m<module>\u001b[1;34m\u001b[0m\n\u001b[1;32m----> 1\u001b[1;33m Geo_NBH_2019 = geopandas.read_file('neighbourhoods_2019_05.geojson',\n\u001b[0m\u001b[0;32m      2\u001b[0m                                      driver='GeoJSON')\n",
      "\u001b[1;31mNameError\u001b[0m: name 'geopandas' is not defined"
     ]
    }
   ],
   "source": [
    "\n",
    "Geo_NBH_2019 = geopandas.read_file('neighbourhoods_2019_05.geojson',\n",
    "                                     driver='GeoJSON')"
   ]
  },
  {
   "cell_type": "code",
   "execution_count": 13,
   "metadata": {},
   "outputs": [
    {
     "ename": "NameError",
     "evalue": "name 'Geo_NBH_2019' is not defined",
     "output_type": "error",
     "traceback": [
      "\u001b[1;31m---------------------------------------------------------------------------\u001b[0m",
      "\u001b[1;31mNameError\u001b[0m                                 Traceback (most recent call last)",
      "\u001b[1;32m<ipython-input-13-992d086298e0>\u001b[0m in \u001b[0;36m<module>\u001b[1;34m\u001b[0m\n\u001b[1;32m----> 1\u001b[1;33m \u001b[0mGeo_NBH_2019\u001b[0m\u001b[1;33m.\u001b[0m\u001b[0mhead\u001b[0m\u001b[1;33m(\u001b[0m\u001b[1;36m5\u001b[0m\u001b[1;33m)\u001b[0m\u001b[1;33m\u001b[0m\u001b[1;33m\u001b[0m\u001b[0m\n\u001b[0m",
      "\u001b[1;31mNameError\u001b[0m: name 'Geo_NBH_2019' is not defined"
     ]
    }
   ],
   "source": [
    "Geo_NBH_2019.head(5)"
   ]
  },
  {
   "cell_type": "code",
   "execution_count": 14,
   "metadata": {},
   "outputs": [
    {
     "ename": "NameError",
     "evalue": "name 'Geo_NBH_2019' is not defined",
     "output_type": "error",
     "traceback": [
      "\u001b[1;31m---------------------------------------------------------------------------\u001b[0m",
      "\u001b[1;31mNameError\u001b[0m                                 Traceback (most recent call last)",
      "\u001b[1;32m<ipython-input-14-3de81ea90852>\u001b[0m in \u001b[0;36m<module>\u001b[1;34m\u001b[0m\n\u001b[1;32m----> 1\u001b[1;33m \u001b[0mGeo_NBH_2019\u001b[0m\u001b[1;33m.\u001b[0m\u001b[0mshape\u001b[0m \u001b[1;31m# We see 20 neighborhoods and 3 Variables\u001b[0m\u001b[1;33m\u001b[0m\u001b[1;33m\u001b[0m\u001b[0m\n\u001b[0m",
      "\u001b[1;31mNameError\u001b[0m: name 'Geo_NBH_2019' is not defined"
     ]
    }
   ],
   "source": [
    "Geo_NBH_2019.shape # We see 20 neighborhoods and 3 Variables"
   ]
  },
  {
   "cell_type": "code",
   "execution_count": 15,
   "metadata": {},
   "outputs": [
    {
     "name": "stdout",
     "output_type": "stream",
     "text": [
      "{'neighbourhood': 'Batignolles-Monceau', 'neighbourhood_group': None}\n",
      "{'neighbourhood': 'Palais-Bourbon', 'neighbourhood_group': None}\n",
      "{'neighbourhood': 'Buttes-Chaumont', 'neighbourhood_group': None}\n",
      "{'neighbourhood': 'OpÃ©ra', 'neighbourhood_group': None}\n",
      "{'neighbourhood': 'EntrepÃ´t', 'neighbourhood_group': None}\n",
      "{'neighbourhood': 'Gobelins', 'neighbourhood_group': None}\n",
      "{'neighbourhood': 'Vaugirard', 'neighbourhood_group': None}\n",
      "{'neighbourhood': 'Reuilly', 'neighbourhood_group': None}\n",
      "{'neighbourhood': 'Louvre', 'neighbourhood_group': None}\n",
      "{'neighbourhood': 'Luxembourg', 'neighbourhood_group': None}\n",
      "{'neighbourhood': 'Ã‰lysÃ©e', 'neighbourhood_group': None}\n",
      "{'neighbourhood': 'Temple', 'neighbourhood_group': None}\n",
      "{'neighbourhood': 'MÃ©nilmontant', 'neighbourhood_group': None}\n",
      "{'neighbourhood': 'PanthÃ©on', 'neighbourhood_group': None}\n",
      "{'neighbourhood': 'Passy', 'neighbourhood_group': None}\n",
      "{'neighbourhood': 'Observatoire', 'neighbourhood_group': None}\n",
      "{'neighbourhood': 'Popincourt', 'neighbourhood_group': None}\n",
      "{'neighbourhood': 'Bourse', 'neighbourhood_group': None}\n",
      "{'neighbourhood': 'Buttes-Montmartre', 'neighbourhood_group': None}\n",
      "{'neighbourhood': 'HÃ´tel-de-Ville', 'neighbourhood_group': None}\n"
     ]
    }
   ],
   "source": [
    "import json #Here I use GEOJSON to review the features in the neighborhood groups\n",
    "with open('neighbourhoods_2019_05.geojson') as f:\n",
    "    data = json.load(f)\n",
    "for feature in data['features']:\n",
    "    print(feature['properties'])"
   ]
  },
  {
   "cell_type": "code",
   "execution_count": 16,
   "metadata": {},
   "outputs": [
    {
     "ename": "NameError",
     "evalue": "name 'Calendar_2019_04' is not defined",
     "output_type": "error",
     "traceback": [
      "\u001b[1;31m---------------------------------------------------------------------------\u001b[0m",
      "\u001b[1;31mNameError\u001b[0m                                 Traceback (most recent call last)",
      "\u001b[1;32m<ipython-input-16-906fb3527c3c>\u001b[0m in \u001b[0;36m<module>\u001b[1;34m\u001b[0m\n\u001b[1;32m----> 1\u001b[1;33m \u001b[0mCalendar_2019_04\u001b[0m\u001b[1;33m.\u001b[0m\u001b[0mhead\u001b[0m\u001b[1;33m(\u001b[0m\u001b[1;36m5\u001b[0m\u001b[1;33m)\u001b[0m \u001b[1;31m#Here I review the availability of the properties\u001b[0m\u001b[1;33m\u001b[0m\u001b[1;33m\u001b[0m\u001b[0m\n\u001b[0m",
      "\u001b[1;31mNameError\u001b[0m: name 'Calendar_2019_04' is not defined"
     ]
    }
   ],
   "source": [
    "Calendar_2019_04.head(5) #Here I review the availability of the properties "
   ]
  },
  {
   "cell_type": "markdown",
   "metadata": {},
   "source": [
    "# Below I will work with my Listing Summary data as well as the Full detailed Listings"
   ]
  },
  {
   "cell_type": "code",
   "execution_count": 121,
   "metadata": {},
   "outputs": [
    {
     "data": {
      "text/plain": [
       "Index(['id', 'listing_url', 'scrape_id', 'last_scraped', 'name', 'summary',\n",
       "       'space', 'description', 'experiences_offered', 'neighborhood_overview',\n",
       "       ...\n",
       "       'instant_bookable', 'is_business_travel_ready', 'cancellation_policy',\n",
       "       'require_guest_profile_picture', 'require_guest_phone_verification',\n",
       "       'calculated_host_listings_count',\n",
       "       'calculated_host_listings_count_entire_homes',\n",
       "       'calculated_host_listings_count_private_rooms',\n",
       "       'calculated_host_listings_count_shared_rooms', 'reviews_per_month'],\n",
       "      dtype='object', length=106)"
      ]
     },
     "execution_count": 121,
     "metadata": {},
     "output_type": "execute_result"
    }
   ],
   "source": [
    "listing_Details_2019_4_OP.columns"
   ]
  },
  {
   "cell_type": "code",
   "execution_count": 122,
   "metadata": {},
   "outputs": [],
   "source": [
    "#Here I Extract the columns I think are useful to my analysis and format the datetime \n",
    "listing_Details_2019_4_OP= listing_Details_2019_4_OP[['id', 'host_since', 'host_location',\n",
    "                                                 'zipcode', 'smart_location', 'accommodates', \n",
    "                                                 'bathrooms', 'beds', 'bed_type', 'review_scores_rating', 'property_type','cancellation_policy','availability_30', 'availability_60', 'availability_90', 'amenities']]\n",
    "listing_Details_2019_4_OP.host_since = pd.to_datetime(listing_Details_2019_4_OP.host_since, format='%Y-%m-%d')\n"
   ]
  },
  {
   "cell_type": "markdown",
   "metadata": {},
   "source": [
    "# Below I merge my 2 types of listings data together to form one list with the Variables that are valuable to my research"
   ]
  },
  {
   "cell_type": "code",
   "execution_count": 123,
   "metadata": {},
   "outputs": [
    {
     "ename": "NameError",
     "evalue": "name 'listing_2019_04' is not defined",
     "output_type": "error",
     "traceback": [
      "\u001b[1;31m---------------------------------------------------------------------------\u001b[0m",
      "\u001b[1;31mNameError\u001b[0m                                 Traceback (most recent call last)",
      "\u001b[1;32m<ipython-input-123-871ceb397e1c>\u001b[0m in \u001b[0;36m<module>\u001b[1;34m\u001b[0m\n\u001b[1;32m----> 1\u001b[1;33m \u001b[0mlisting_2019_April_OP\u001b[0m \u001b[1;33m=\u001b[0m \u001b[0mpd\u001b[0m\u001b[1;33m.\u001b[0m\u001b[0mmerge\u001b[0m\u001b[1;33m(\u001b[0m\u001b[0mlisting_2019_04\u001b[0m\u001b[1;33m,\u001b[0m \u001b[0mlisting_Details_2019_4\u001b[0m\u001b[1;33m,\u001b[0m \u001b[0mon\u001b[0m\u001b[1;33m=\u001b[0m\u001b[1;34m'id'\u001b[0m\u001b[1;33m)\u001b[0m\u001b[1;33m\u001b[0m\u001b[1;33m\u001b[0m\u001b[0m\n\u001b[0m\u001b[0;32m      2\u001b[0m \u001b[1;34m\"\"\" Here I merge the listing basics with the FULL summary to review each column together in one df\"\"\"\u001b[0m\u001b[1;33m\u001b[0m\u001b[1;33m\u001b[0m\u001b[0m\n\u001b[0;32m      3\u001b[0m \u001b[1;33m\u001b[0m\u001b[0m\n\u001b[0;32m      4\u001b[0m listing_2019_April_OP = listing_2019_April_OP[['id',\n\u001b[0;32m      5\u001b[0m                                  \u001b[1;34m'host_id'\u001b[0m\u001b[1;33m,\u001b[0m\u001b[1;33m\u001b[0m\u001b[1;33m\u001b[0m\u001b[0m\n",
      "\u001b[1;31mNameError\u001b[0m: name 'listing_2019_04' is not defined"
     ]
    }
   ],
   "source": [
    "listing_2019_April_OP = pd.merge(listing_2019_04, listing_Details_2019_4, on='id')\n",
    "\"\"\" Here I merge the listing basics with the FULL summary to review each column together in one df\"\"\"\n",
    "\n",
    "listing_2019_April_OP = listing_2019_April_OP[['id',\n",
    "                                 'host_id',\n",
    "                                 'host_name',\n",
    "                                 'host_since',\n",
    "                                 'host_location',\n",
    "                                 'neighbourhood',\n",
    "                                  'beds',\n",
    "                                 'latitude',\n",
    "                                 'longitude',\n",
    "                                 'zipcode',\n",
    "                                 'smart_location',\n",
    "                                  'property_type',\n",
    "                                 'room_type',\n",
    "                                 'accommodates',\n",
    "                                 'bed_type',\n",
    "                                 'review_scores_rating',\n",
    "                                 'price',\n",
    "                                  'amenities',\n",
    "                                 'minimum_nights',\n",
    "                                 'number_of_reviews',\n",
    "                                 'reviews_per_month',\n",
    "                                 'cancellation_policy',\n",
    "                                 'calculated_host_listings_count',\n",
    "                                  'availability_30','availability_60','availability_90',\n",
    "                                 'availability_365']]"
   ]
  },
  {
   "cell_type": "code",
   "execution_count": 124,
   "metadata": {
    "scrolled": false
   },
   "outputs": [
    {
     "ename": "NameError",
     "evalue": "name 'listing_2019_April_OP' is not defined",
     "output_type": "error",
     "traceback": [
      "\u001b[1;31m---------------------------------------------------------------------------\u001b[0m",
      "\u001b[1;31mNameError\u001b[0m                                 Traceback (most recent call last)",
      "\u001b[1;32m<ipython-input-124-214873a617b1>\u001b[0m in \u001b[0;36m<module>\u001b[1;34m\u001b[0m\n\u001b[1;32m----> 1\u001b[1;33m \u001b[0mlisting_2019_April_OP\u001b[0m\u001b[1;33m.\u001b[0m\u001b[0mhead\u001b[0m\u001b[1;33m(\u001b[0m\u001b[1;36m5\u001b[0m\u001b[1;33m)\u001b[0m \u001b[1;31m#Now I have 27 columns of data points in one dataframe. # Notes about each dota column that have ambiguity are below\u001b[0m\u001b[1;33m\u001b[0m\u001b[1;33m\u001b[0m\u001b[0m\n\u001b[0m",
      "\u001b[1;31mNameError\u001b[0m: name 'listing_2019_April_OP' is not defined"
     ]
    }
   ],
   "source": [
    "listing_2019_April_OP.head(5) #Now I have 27 columns of data points in one dataframe. # Notes about each dota column that have ambiguity are below"
   ]
  },
  {
   "cell_type": "code",
   "execution_count": 37,
   "metadata": {},
   "outputs": [
    {
     "ename": "NameError",
     "evalue": "name 'listing_2019_April_OP' is not defined",
     "output_type": "error",
     "traceback": [
      "\u001b[1;31m---------------------------------------------------------------------------\u001b[0m",
      "\u001b[1;31mNameError\u001b[0m                                 Traceback (most recent call last)",
      "\u001b[1;32m<ipython-input-37-0bc9127fdafc>\u001b[0m in \u001b[0;36m<module>\u001b[1;34m\u001b[0m\n\u001b[1;32m----> 1\u001b[1;33m \u001b[0mlisting_2019_April_OP\u001b[0m\u001b[1;33m.\u001b[0m\u001b[0mshape\u001b[0m\u001b[1;33m\u001b[0m\u001b[1;33m\u001b[0m\u001b[0m\n\u001b[0m",
      "\u001b[1;31mNameError\u001b[0m: name 'listing_2019_April_OP' is not defined"
     ]
    }
   ],
   "source": [
    "listing_2019_April_OP.shape"
   ]
  },
  {
   "cell_type": "code",
   "execution_count": 38,
   "metadata": {},
   "outputs": [],
   "source": [
    "#Accommodates = # of people the location can capacitate (the range is 1 through 17),"
   ]
  },
  {
   "cell_type": "code",
   "execution_count": 39,
   "metadata": {
    "scrolled": true
   },
   "outputs": [
    {
     "ename": "NameError",
     "evalue": "name 'listing_2019_April_OP' is not defined",
     "output_type": "error",
     "traceback": [
      "\u001b[1;31m---------------------------------------------------------------------------\u001b[0m",
      "\u001b[1;31mNameError\u001b[0m                                 Traceback (most recent call last)",
      "\u001b[1;32m<ipython-input-39-0e21be21b399>\u001b[0m in \u001b[0;36m<module>\u001b[1;34m\u001b[0m\n\u001b[1;32m----> 1\u001b[1;33m \u001b[0mlisting_2019_April_OP\u001b[0m\u001b[1;33m.\u001b[0m\u001b[0mdescribe\u001b[0m\u001b[1;33m(\u001b[0m\u001b[1;33m)\u001b[0m\u001b[1;33m.\u001b[0m\u001b[0mT\u001b[0m \u001b[1;31m#I see that I have 58184 listings in April of 2019\u001b[0m\u001b[1;33m\u001b[0m\u001b[1;33m\u001b[0m\u001b[0m\n\u001b[0m",
      "\u001b[1;31mNameError\u001b[0m: name 'listing_2019_April_OP' is not defined"
     ]
    }
   ],
   "source": [
    "listing_2019_April_OP.describe().T #I see that I have 58184 listings in April of 2019"
   ]
  },
  {
   "cell_type": "markdown",
   "metadata": {},
   "source": [
    "# Data Wrangling : Now Let's Review our Data and check for missing values"
   ]
  },
  {
   "cell_type": "code",
   "execution_count": 40,
   "metadata": {},
   "outputs": [
    {
     "ename": "NameError",
     "evalue": "name 'listing_2019_April_OP' is not defined",
     "output_type": "error",
     "traceback": [
      "\u001b[1;31m---------------------------------------------------------------------------\u001b[0m",
      "\u001b[1;31mNameError\u001b[0m                                 Traceback (most recent call last)",
      "\u001b[1;32m<ipython-input-40-45228c069b8c>\u001b[0m in \u001b[0;36m<module>\u001b[1;34m\u001b[0m\n\u001b[1;32m----> 1\u001b[1;33m \u001b[0mlisting_2019_April_OP\u001b[0m\u001b[1;33m.\u001b[0m\u001b[0minfo\u001b[0m\u001b[1;33m(\u001b[0m\u001b[1;33m)\u001b[0m\u001b[1;31m#I review details to verify that I have missing\u001b[0m\u001b[1;33m\u001b[0m\u001b[1;33m\u001b[0m\u001b[0m\n\u001b[0m\u001b[0;32m      2\u001b[0m \u001b[1;31m#data as reviewScores are not matching with my listing id counts as well as 6 other data point variables\u001b[0m\u001b[1;33m\u001b[0m\u001b[1;33m\u001b[0m\u001b[1;33m\u001b[0m\u001b[0m\n",
      "\u001b[1;31mNameError\u001b[0m: name 'listing_2019_April_OP' is not defined"
     ]
    }
   ],
   "source": [
    "listing_2019_April_OP.info()#I review details to verify that I have missing \n",
    "#data as reviewScores are not matching with my listing id counts as well as 6 other data point variables\n"
   ]
  },
  {
   "cell_type": "code",
   "execution_count": 41,
   "metadata": {},
   "outputs": [
    {
     "ename": "NameError",
     "evalue": "name 'listing_2019_April_OP' is not defined",
     "output_type": "error",
     "traceback": [
      "\u001b[1;31m---------------------------------------------------------------------------\u001b[0m",
      "\u001b[1;31mNameError\u001b[0m                                 Traceback (most recent call last)",
      "\u001b[1;32m<ipython-input-41-d3fe5e98ee5b>\u001b[0m in \u001b[0;36m<module>\u001b[1;34m\u001b[0m\n\u001b[1;32m----> 1\u001b[1;33m \u001b[0mlisting_2019_April_OP\u001b[0m\u001b[1;33m.\u001b[0m\u001b[0misnull\u001b[0m\u001b[1;33m(\u001b[0m\u001b[1;33m)\u001b[0m\u001b[1;33m.\u001b[0m\u001b[0msum\u001b[0m\u001b[1;33m(\u001b[0m\u001b[1;33m)\u001b[0m \u001b[1;31m#I check to look for the missing values and immediately notice that BEDS contains missing values that could be important\u001b[0m\u001b[1;33m\u001b[0m\u001b[1;33m\u001b[0m\u001b[0m\n\u001b[0m",
      "\u001b[1;31mNameError\u001b[0m: name 'listing_2019_April_OP' is not defined"
     ]
    }
   ],
   "source": [
    "listing_2019_April_OP.isnull().sum() #I check to look for the missing values and immediately notice that BEDS contains missing values that could be important"
   ]
  },
  {
   "cell_type": "code",
   "execution_count": 42,
   "metadata": {},
   "outputs": [
    {
     "ename": "NameError",
     "evalue": "name 'listing_2019_April_OP' is not defined",
     "output_type": "error",
     "traceback": [
      "\u001b[1;31m---------------------------------------------------------------------------\u001b[0m",
      "\u001b[1;31mNameError\u001b[0m                                 Traceback (most recent call last)",
      "\u001b[1;32m<ipython-input-42-f2e25740739b>\u001b[0m in \u001b[0;36m<module>\u001b[1;34m\u001b[0m\n\u001b[1;32m----> 1\u001b[1;33m \u001b[0mlisting_2019_April_OP\u001b[0m\u001b[1;33m.\u001b[0m\u001b[0mminimum_nights\u001b[0m\u001b[1;33m.\u001b[0m\u001b[0mmax\u001b[0m\u001b[1;33m(\u001b[0m\u001b[1;33m)\u001b[0m \u001b[1;31m#I verify that there are many outliers in my data for min nights\u001b[0m\u001b[1;33m\u001b[0m\u001b[1;33m\u001b[0m\u001b[0m\n\u001b[0m",
      "\u001b[1;31mNameError\u001b[0m: name 'listing_2019_April_OP' is not defined"
     ]
    }
   ],
   "source": [
    "listing_2019_April_OP.minimum_nights.max() #I verify that there are many outliers in my data for min nights"
   ]
  },
  {
   "cell_type": "code",
   "execution_count": 43,
   "metadata": {},
   "outputs": [
    {
     "ename": "NameError",
     "evalue": "name 'listing_2019_April_OP' is not defined",
     "output_type": "error",
     "traceback": [
      "\u001b[1;31m---------------------------------------------------------------------------\u001b[0m",
      "\u001b[1;31mNameError\u001b[0m                                 Traceback (most recent call last)",
      "\u001b[1;32m<ipython-input-43-87efd0feb89f>\u001b[0m in \u001b[0;36m<module>\u001b[1;34m\u001b[0m\n\u001b[1;32m----> 1\u001b[1;33m \u001b[0msns\u001b[0m\u001b[1;33m.\u001b[0m\u001b[0mboxplot\u001b[0m\u001b[1;33m(\u001b[0m\u001b[0mx\u001b[0m\u001b[1;33m=\u001b[0m\u001b[0mlisting_2019_April_OP\u001b[0m\u001b[1;33m[\u001b[0m\u001b[1;34m'minimum_nights'\u001b[0m\u001b[1;33m]\u001b[0m\u001b[1;33m,\u001b[0m \u001b[0my\u001b[0m\u001b[1;33m=\u001b[0m\u001b[0mlisting_2019_April_OP\u001b[0m\u001b[1;33m[\u001b[0m\u001b[1;34m'price'\u001b[0m\u001b[1;33m]\u001b[0m\u001b[1;33m,\u001b[0m \u001b[0mshowmeans\u001b[0m\u001b[1;33m=\u001b[0m\u001b[1;32mTrue\u001b[0m\u001b[1;33m)\u001b[0m\u001b[1;33m\u001b[0m\u001b[1;33m\u001b[0m\u001b[0m\n\u001b[0m\u001b[0;32m      2\u001b[0m \u001b[0mplt\u001b[0m\u001b[1;33m.\u001b[0m\u001b[0mtitle\u001b[0m\u001b[1;33m(\u001b[0m\u001b[1;34m'minimum nights vs Price'\u001b[0m\u001b[1;33m,\u001b[0m\u001b[0mfontsize\u001b[0m\u001b[1;33m=\u001b[0m\u001b[1;36m20\u001b[0m \u001b[1;33m)\u001b[0m\u001b[1;33m\u001b[0m\u001b[1;33m\u001b[0m\u001b[0m\n\u001b[0;32m      3\u001b[0m \u001b[0mplt\u001b[0m\u001b[1;33m.\u001b[0m\u001b[0mxticks\u001b[0m\u001b[1;33m(\u001b[0m\u001b[1;33m[\u001b[0m\u001b[1;36m0\u001b[0m\u001b[1;33m,\u001b[0m\u001b[1;36m1\u001b[0m\u001b[1;33m]\u001b[0m\u001b[1;33m,\u001b[0m\u001b[1;33m[\u001b[0m\u001b[1;34m'minimum nights'\u001b[0m\u001b[1;33m,\u001b[0m \u001b[1;34m'Price'\u001b[0m\u001b[1;33m]\u001b[0m\u001b[1;33m)\u001b[0m\u001b[1;33m\u001b[0m\u001b[1;33m\u001b[0m\u001b[0m\n\u001b[0;32m      4\u001b[0m \u001b[0mplt\u001b[0m\u001b[1;33m.\u001b[0m\u001b[0mshow\u001b[0m\u001b[1;33m(\u001b[0m\u001b[1;33m)\u001b[0m\u001b[1;33m\u001b[0m\u001b[1;33m\u001b[0m\u001b[0m\n",
      "\u001b[1;31mNameError\u001b[0m: name 'listing_2019_April_OP' is not defined"
     ]
    }
   ],
   "source": [
    "sns.boxplot(x=listing_2019_April_OP['minimum_nights'], y=listing_2019_April_OP['price'], showmeans=True)\n",
    "plt.title('minimum nights vs Price',fontsize=20 )\n",
    "plt.xticks([0,1],['minimum nights', 'Price'])\n",
    "plt.show()"
   ]
  },
  {
   "cell_type": "code",
   "execution_count": 44,
   "metadata": {},
   "outputs": [
    {
     "ename": "NameError",
     "evalue": "name 'listing_2019_April_OP' is not defined",
     "output_type": "error",
     "traceback": [
      "\u001b[1;31m---------------------------------------------------------------------------\u001b[0m",
      "\u001b[1;31mNameError\u001b[0m                                 Traceback (most recent call last)",
      "\u001b[1;32m<ipython-input-44-7bd8931b8d0c>\u001b[0m in \u001b[0;36m<module>\u001b[1;34m\u001b[0m\n\u001b[1;32m----> 1\u001b[1;33m \u001b[0mlisting_2019_April_OP\u001b[0m\u001b[1;33m[\u001b[0m\u001b[1;34m'minimum_nights'\u001b[0m\u001b[1;33m]\u001b[0m\u001b[1;33m.\u001b[0m\u001b[0mvalue_counts\u001b[0m\u001b[1;33m(\u001b[0m\u001b[1;33m)\u001b[0m\u001b[1;33m\u001b[0m\u001b[1;33m\u001b[0m\u001b[0m\n\u001b[0m\u001b[0;32m      2\u001b[0m \u001b[0mlisting_2019_April_OP\u001b[0m\u001b[1;33m[\u001b[0m\u001b[1;34m'minimum_nights'\u001b[0m\u001b[1;33m]\u001b[0m\u001b[1;33m.\u001b[0m\u001b[0mdescribe\u001b[0m\u001b[1;33m(\u001b[0m\u001b[1;33m)\u001b[0m \u001b[1;31m#We see we our average is 5.6 so I will impute my minimum_nights column with the average\u001b[0m\u001b[1;33m\u001b[0m\u001b[1;33m\u001b[0m\u001b[0m\n",
      "\u001b[1;31mNameError\u001b[0m: name 'listing_2019_April_OP' is not defined"
     ]
    }
   ],
   "source": [
    "listing_2019_April_OP['minimum_nights'].value_counts()\n",
    "listing_2019_April_OP['minimum_nights'].describe() #We see we our average is 5.6 so I will impute my minimum_nights column with the average"
   ]
  },
  {
   "cell_type": "markdown",
   "metadata": {},
   "source": [
    "# I notice it is strange to have such a large \"Minimum nights\" so I create a countplot to check them"
   ]
  },
  {
   "cell_type": "code",
   "execution_count": 45,
   "metadata": {},
   "outputs": [
    {
     "ename": "NameError",
     "evalue": "name 'listing_2019_April_OP' is not defined",
     "output_type": "error",
     "traceback": [
      "\u001b[1;31m---------------------------------------------------------------------------\u001b[0m",
      "\u001b[1;31mNameError\u001b[0m                                 Traceback (most recent call last)",
      "\u001b[1;32m<ipython-input-45-5a5fbbf7e0c8>\u001b[0m in \u001b[0;36m<module>\u001b[1;34m\u001b[0m\n\u001b[1;32m----> 1\u001b[1;33m \u001b[0mg\u001b[0m \u001b[1;33m=\u001b[0m \u001b[0mlisting_2019_April_OP\u001b[0m\u001b[1;33m.\u001b[0m\u001b[0mgroupby\u001b[0m\u001b[1;33m(\u001b[0m\u001b[1;33m[\u001b[0m\u001b[1;34m'minimum_nights'\u001b[0m\u001b[1;33m,\u001b[0m \u001b[1;34m'room_type'\u001b[0m\u001b[1;33m]\u001b[0m\u001b[1;33m)\u001b[0m\u001b[1;33m.\u001b[0m\u001b[0msize\u001b[0m\u001b[1;33m(\u001b[0m\u001b[1;33m)\u001b[0m\u001b[1;33m.\u001b[0m\u001b[0mreset_index\u001b[0m\u001b[1;33m(\u001b[0m\u001b[0mname\u001b[0m\u001b[1;33m=\u001b[0m\u001b[1;34m'count'\u001b[0m\u001b[1;33m)\u001b[0m \u001b[1;31m#I need to group the ages then plot them as % against churn like \"the highest churn rate was those customers between 35 and 50 with a churn % of 28%, etc\"\u001b[0m\u001b[1;33m\u001b[0m\u001b[1;33m\u001b[0m\u001b[0m\n\u001b[0m\u001b[0;32m      2\u001b[0m \u001b[0mplt\u001b[0m\u001b[1;33m.\u001b[0m\u001b[0mbar\u001b[0m\u001b[1;33m(\u001b[0m\u001b[0mg\u001b[0m\u001b[1;33m[\u001b[0m\u001b[1;34m'minimum_nights'\u001b[0m\u001b[1;33m]\u001b[0m\u001b[1;33m,\u001b[0m\u001b[0mg\u001b[0m\u001b[1;33m[\u001b[0m\u001b[1;34m'count'\u001b[0m\u001b[1;33m]\u001b[0m\u001b[1;33m)\u001b[0m\u001b[1;33m\u001b[0m\u001b[1;33m\u001b[0m\u001b[0m\n\u001b[0;32m      3\u001b[0m \u001b[0mplt\u001b[0m\u001b[1;33m.\u001b[0m\u001b[0mxlabel\u001b[0m\u001b[1;33m(\u001b[0m\u001b[1;34m'Minimum Nights required'\u001b[0m\u001b[1;33m)\u001b[0m\u001b[1;33m\u001b[0m\u001b[1;33m\u001b[0m\u001b[0m\n\u001b[0;32m      4\u001b[0m \u001b[0mplt\u001b[0m\u001b[1;33m.\u001b[0m\u001b[0mylabel\u001b[0m\u001b[1;33m(\u001b[0m\u001b[1;34m'Type of Property - Room/Apartment/Home'\u001b[0m\u001b[1;33m)\u001b[0m\u001b[1;33m\u001b[0m\u001b[1;33m\u001b[0m\u001b[0m\n",
      "\u001b[1;31mNameError\u001b[0m: name 'listing_2019_April_OP' is not defined"
     ]
    }
   ],
   "source": [
    "g = listing_2019_April_OP.groupby(['minimum_nights', 'room_type']).size().reset_index(name='count') #I need to group the ages then plot them as % against churn like \"the highest churn rate was those customers between 35 and 50 with a churn % of 28%, etc\"\n",
    "plt.bar(g['minimum_nights'],g['count'])\n",
    "plt.xlabel('Minimum Nights required')\n",
    "plt.ylabel('Type of Property - Room/Apartment/Home')"
   ]
  },
  {
   "cell_type": "code",
   "execution_count": 46,
   "metadata": {},
   "outputs": [],
   "source": [
    "#Below I simple change any values in minimum_nights that are above 15 to 5 which is the average."
   ]
  },
  {
   "cell_type": "code",
   "execution_count": 47,
   "metadata": {},
   "outputs": [
    {
     "ename": "NameError",
     "evalue": "name 'listing_2019_April_OP' is not defined",
     "output_type": "error",
     "traceback": [
      "\u001b[1;31m---------------------------------------------------------------------------\u001b[0m",
      "\u001b[1;31mNameError\u001b[0m                                 Traceback (most recent call last)",
      "\u001b[1;32m<ipython-input-47-e5566b1e8fdf>\u001b[0m in \u001b[0;36m<module>\u001b[1;34m\u001b[0m\n\u001b[1;32m----> 1\u001b[1;33m \u001b[0mlisting_2019_April_OP\u001b[0m\u001b[1;33m.\u001b[0m\u001b[0mloc\u001b[0m\u001b[1;33m[\u001b[0m\u001b[0mlisting_2019_April_OP\u001b[0m\u001b[1;33m[\u001b[0m\u001b[1;34m'minimum_nights'\u001b[0m\u001b[1;33m]\u001b[0m \u001b[1;33m>\u001b[0m \u001b[1;36m15\u001b[0m\u001b[1;33m,\u001b[0m\u001b[1;34m'minimum_nights'\u001b[0m\u001b[1;33m]\u001b[0m \u001b[1;33m=\u001b[0m \u001b[1;36m5\u001b[0m \u001b[1;31m#Check\u001b[0m\u001b[1;33m\u001b[0m\u001b[1;33m\u001b[0m\u001b[0m\n\u001b[0m",
      "\u001b[1;31mNameError\u001b[0m: name 'listing_2019_April_OP' is not defined"
     ]
    }
   ],
   "source": [
    "listing_2019_April_OP.loc[listing_2019_April_OP['minimum_nights'] > 15,'minimum_nights'] = 5 #Check"
   ]
  },
  {
   "cell_type": "code",
   "execution_count": 48,
   "metadata": {},
   "outputs": [
    {
     "ename": "NameError",
     "evalue": "name 'listing_2019_April_OP' is not defined",
     "output_type": "error",
     "traceback": [
      "\u001b[1;31m---------------------------------------------------------------------------\u001b[0m",
      "\u001b[1;31mNameError\u001b[0m                                 Traceback (most recent call last)",
      "\u001b[1;32m<ipython-input-48-446cbc7718b6>\u001b[0m in \u001b[0;36m<module>\u001b[1;34m\u001b[0m\n\u001b[1;32m----> 1\u001b[1;33m \u001b[0mlisting_2019_April_OP\u001b[0m\u001b[1;33m[\u001b[0m\u001b[1;34m'minimum_nights'\u001b[0m\u001b[1;33m]\u001b[0m\u001b[1;33m.\u001b[0m\u001b[0mdescribe\u001b[0m\u001b[1;33m(\u001b[0m\u001b[1;33m)\u001b[0m\u001b[1;33m\u001b[0m\u001b[1;33m\u001b[0m\u001b[0m\n\u001b[0m",
      "\u001b[1;31mNameError\u001b[0m: name 'listing_2019_April_OP' is not defined"
     ]
    }
   ],
   "source": [
    "listing_2019_April_OP['minimum_nights'].describe()"
   ]
  },
  {
   "cell_type": "code",
   "execution_count": 49,
   "metadata": {},
   "outputs": [
    {
     "ename": "NameError",
     "evalue": "name 'listing_2019_April_OP' is not defined",
     "output_type": "error",
     "traceback": [
      "\u001b[1;31m---------------------------------------------------------------------------\u001b[0m",
      "\u001b[1;31mNameError\u001b[0m                                 Traceback (most recent call last)",
      "\u001b[1;32m<ipython-input-49-617c73f30e68>\u001b[0m in \u001b[0;36m<module>\u001b[1;34m\u001b[0m\n\u001b[0;32m      1\u001b[0m \u001b[1;31m#fill missing values for rows with null values in 'beds' which I equate with the 'accommodates' numbers\u001b[0m\u001b[1;33m\u001b[0m\u001b[1;33m\u001b[0m\u001b[1;33m\u001b[0m\u001b[0m\n\u001b[1;32m----> 2\u001b[1;33m \u001b[1;32mfor\u001b[0m \u001b[0mi\u001b[0m\u001b[1;33m,\u001b[0m\u001b[0mrow\u001b[0m \u001b[1;32min\u001b[0m \u001b[0mlisting_2019_April_OP\u001b[0m\u001b[1;33m.\u001b[0m\u001b[0mloc\u001b[0m\u001b[1;33m[\u001b[0m\u001b[0mlisting_2019_April_OP\u001b[0m\u001b[1;33m[\u001b[0m\u001b[1;34m'beds'\u001b[0m\u001b[1;33m]\u001b[0m\u001b[1;33m.\u001b[0m\u001b[0misnull\u001b[0m\u001b[1;33m(\u001b[0m\u001b[1;33m)\u001b[0m\u001b[1;33m,\u001b[0m\u001b[1;33m:\u001b[0m\u001b[1;33m]\u001b[0m\u001b[1;33m.\u001b[0m\u001b[0miterrows\u001b[0m\u001b[1;33m(\u001b[0m\u001b[1;33m)\u001b[0m\u001b[1;33m:\u001b[0m\u001b[1;33m\u001b[0m\u001b[1;33m\u001b[0m\u001b[0m\n\u001b[0m\u001b[0;32m      3\u001b[0m \u001b[1;33m\u001b[0m\u001b[0m\n\u001b[0;32m      4\u001b[0m     \u001b[1;32mif\u001b[0m \u001b[0mnp\u001b[0m\u001b[1;33m.\u001b[0m\u001b[0misnan\u001b[0m\u001b[1;33m(\u001b[0m\u001b[0mlisting_2019_April_OP\u001b[0m\u001b[1;33m.\u001b[0m\u001b[0mloc\u001b[0m\u001b[1;33m[\u001b[0m\u001b[0mi\u001b[0m\u001b[1;33m,\u001b[0m \u001b[1;34m'accommodates'\u001b[0m\u001b[1;33m]\u001b[0m\u001b[1;33m)\u001b[0m \u001b[1;33m==\u001b[0m \u001b[1;32mFalse\u001b[0m\u001b[1;33m:\u001b[0m\u001b[1;33m\u001b[0m\u001b[1;33m\u001b[0m\u001b[0m\n\u001b[0;32m      5\u001b[0m         \u001b[0mlisting_2019_April_OP\u001b[0m\u001b[1;33m.\u001b[0m\u001b[0mloc\u001b[0m\u001b[1;33m[\u001b[0m\u001b[0mi\u001b[0m\u001b[1;33m,\u001b[0m\u001b[1;34m'beds'\u001b[0m\u001b[1;33m]\u001b[0m \u001b[1;33m=\u001b[0m \u001b[0mlisting_2019_April_OP\u001b[0m\u001b[1;33m.\u001b[0m\u001b[0mloc\u001b[0m\u001b[1;33m[\u001b[0m\u001b[0mi\u001b[0m\u001b[1;33m,\u001b[0m \u001b[1;34m'accommodates'\u001b[0m\u001b[1;33m]\u001b[0m\u001b[1;33m\u001b[0m\u001b[1;33m\u001b[0m\u001b[0m\n",
      "\u001b[1;31mNameError\u001b[0m: name 'listing_2019_April_OP' is not defined"
     ]
    }
   ],
   "source": [
    "#fill missing values for rows with null values in 'beds' which I equate with the 'accommodates' numbers\n",
    "for i,row in listing_2019_April_OP.loc[listing_2019_April_OP['beds'].isnull(),:].iterrows():\n",
    "   \n",
    "    if np.isnan(listing_2019_April_OP.loc[i, 'accommodates']) == False:\n",
    "        listing_2019_April_OP.loc[i,'beds'] = listing_2019_April_OP.loc[i, 'accommodates']\n",
    "       # print('set', dfParis.loc[i,'beds'], dfParis.loc[i, 'bedrooms'])\n",
    "    #elif dfParis.loc[i,'rating_ind'] == 1:\n",
    "       #we set bed to 1 and set the accomodate to 1 if property is rated\n",
    "       #we can assume there is one bed for the property if it has been rented out\n",
    "       #flats or studio type flats we can assume there is a bed, and count it as a bedroom\n",
    "    else:\n",
    "        listing_2019_April_OP.loc[i,'beds'] = 1\n",
    "        listing_2019_April_OP.loc[i, 'accommodates'] =1 \n",
    "\n",
    "          \n",
    "     "
   ]
  },
  {
   "cell_type": "code",
   "execution_count": 50,
   "metadata": {},
   "outputs": [
    {
     "ename": "NameError",
     "evalue": "name 'listing_2019_April_OP' is not defined",
     "output_type": "error",
     "traceback": [
      "\u001b[1;31m---------------------------------------------------------------------------\u001b[0m",
      "\u001b[1;31mNameError\u001b[0m                                 Traceback (most recent call last)",
      "\u001b[1;32m<ipython-input-50-170034c7604c>\u001b[0m in \u001b[0;36m<module>\u001b[1;34m\u001b[0m\n\u001b[1;32m----> 1\u001b[1;33m \u001b[1;32mfor\u001b[0m \u001b[0mi\u001b[0m\u001b[1;33m,\u001b[0m\u001b[0mrow\u001b[0m \u001b[1;32min\u001b[0m \u001b[0mlisting_2019_April_OP\u001b[0m\u001b[1;33m.\u001b[0m\u001b[0mloc\u001b[0m\u001b[1;33m[\u001b[0m\u001b[0mlisting_2019_April_OP\u001b[0m\u001b[1;33m[\u001b[0m\u001b[1;34m'accommodates'\u001b[0m\u001b[1;33m]\u001b[0m\u001b[1;33m.\u001b[0m\u001b[0misnull\u001b[0m\u001b[1;33m(\u001b[0m\u001b[1;33m)\u001b[0m\u001b[1;33m,\u001b[0m\u001b[1;33m:\u001b[0m\u001b[1;33m]\u001b[0m\u001b[1;33m.\u001b[0m\u001b[0miterrows\u001b[0m\u001b[1;33m(\u001b[0m\u001b[1;33m)\u001b[0m\u001b[1;33m:\u001b[0m \u001b[1;31m#Here I match up the beds with the # of guests\u001b[0m\u001b[1;33m\u001b[0m\u001b[1;33m\u001b[0m\u001b[0m\n\u001b[0m\u001b[0;32m      2\u001b[0m \u001b[1;33m\u001b[0m\u001b[0m\n\u001b[0;32m      3\u001b[0m     \u001b[1;32mif\u001b[0m \u001b[0mlisting_2019_April_OP\u001b[0m\u001b[1;33m.\u001b[0m\u001b[0mloc\u001b[0m\u001b[1;33m[\u001b[0m\u001b[0mi\u001b[0m\u001b[1;33m,\u001b[0m \u001b[1;34m'beds'\u001b[0m\u001b[1;33m]\u001b[0m \u001b[1;33m>\u001b[0m \u001b[1;36m0\u001b[0m \u001b[1;33m:\u001b[0m\u001b[1;33m\u001b[0m\u001b[1;33m\u001b[0m\u001b[0m\n\u001b[0;32m      4\u001b[0m         \u001b[0mlisting_2019_April_OP\u001b[0m\u001b[1;33m.\u001b[0m\u001b[0mloc\u001b[0m\u001b[1;33m[\u001b[0m\u001b[0mi\u001b[0m\u001b[1;33m,\u001b[0m\u001b[1;34m'accommodates'\u001b[0m\u001b[1;33m]\u001b[0m \u001b[1;33m=\u001b[0m \u001b[1;36m1\u001b[0m\u001b[1;33m\u001b[0m\u001b[1;33m\u001b[0m\u001b[0m\n\u001b[0;32m      5\u001b[0m     \u001b[1;32melif\u001b[0m \u001b[0mnp\u001b[0m\u001b[1;33m.\u001b[0m\u001b[0misnan\u001b[0m\u001b[1;33m(\u001b[0m\u001b[0mlisting_2019_April_OP\u001b[0m\u001b[1;33m.\u001b[0m\u001b[0mloc\u001b[0m\u001b[1;33m[\u001b[0m\u001b[0mi\u001b[0m\u001b[1;33m,\u001b[0m \u001b[1;34m'beds'\u001b[0m\u001b[1;33m]\u001b[0m\u001b[1;33m)\u001b[0m \u001b[1;33m==\u001b[0m \u001b[1;32mTrue\u001b[0m\u001b[1;33m:\u001b[0m\u001b[1;33m\u001b[0m\u001b[1;33m\u001b[0m\u001b[0m\n",
      "\u001b[1;31mNameError\u001b[0m: name 'listing_2019_April_OP' is not defined"
     ]
    }
   ],
   "source": [
    "for i,row in listing_2019_April_OP.loc[listing_2019_April_OP['accommodates'].isnull(),:].iterrows(): #Here I match up the beds with the # of guests\n",
    "\n",
    "    if listing_2019_April_OP.loc[i, 'beds'] > 0 :\n",
    "        listing_2019_April_OP.loc[i,'accommodates'] = 1\n",
    "    elif np.isnan(listing_2019_April_OP.loc[i, 'beds']) == True:\n",
    "       #flats or studio type flats we can assume there is a bed, and count it as a bedroom\n",
    "        listing_2019_April_OP.loc[i,'beds'] = 1\n",
    "        listing_2019_April_OP.loc[i, 'accommodates'] =1   "
   ]
  },
  {
   "cell_type": "code",
   "execution_count": 51,
   "metadata": {},
   "outputs": [
    {
     "ename": "NameError",
     "evalue": "name 'listing_2019_April_OP' is not defined",
     "output_type": "error",
     "traceback": [
      "\u001b[1;31m---------------------------------------------------------------------------\u001b[0m",
      "\u001b[1;31mNameError\u001b[0m                                 Traceback (most recent call last)",
      "\u001b[1;32m<ipython-input-51-875da8d2b8b7>\u001b[0m in \u001b[0;36m<module>\u001b[1;34m\u001b[0m\n\u001b[1;32m----> 1\u001b[1;33m \u001b[0mlisting_2019_April_OP\u001b[0m\u001b[1;33m.\u001b[0m\u001b[0mhead\u001b[0m\u001b[1;33m(\u001b[0m\u001b[1;36m5\u001b[0m\u001b[1;33m)\u001b[0m \u001b[1;31m#We verify the above \"for loops\" have run accurately\u001b[0m\u001b[1;33m\u001b[0m\u001b[1;33m\u001b[0m\u001b[0m\n\u001b[0m",
      "\u001b[1;31mNameError\u001b[0m: name 'listing_2019_April_OP' is not defined"
     ]
    }
   ],
   "source": [
    "listing_2019_April_OP.head(5) #We verify the above \"for loops\" have run accurately"
   ]
  },
  {
   "cell_type": "code",
   "execution_count": 52,
   "metadata": {},
   "outputs": [],
   "source": [
    "#Here I need to be able to count my ratings for each listing so I replace the NAN with a 0 \n",
    "def set_rating_ind(row):\n",
    "    if np.isnan(row['review_scores_rating']) == True:\n",
    "        return 0\n",
    "    else:\n",
    "        return 1"
   ]
  },
  {
   "cell_type": "code",
   "execution_count": 53,
   "metadata": {},
   "outputs": [
    {
     "ename": "NameError",
     "evalue": "name 'listing_2019_April_OP' is not defined",
     "output_type": "error",
     "traceback": [
      "\u001b[1;31m---------------------------------------------------------------------------\u001b[0m",
      "\u001b[1;31mNameError\u001b[0m                                 Traceback (most recent call last)",
      "\u001b[1;32m<ipython-input-53-2a8cc5815ff0>\u001b[0m in \u001b[0;36m<module>\u001b[1;34m\u001b[0m\n\u001b[1;32m----> 1\u001b[1;33m \u001b[0mlisting_2019_April_OP\u001b[0m\u001b[1;33m[\u001b[0m\u001b[1;34m'rating_ind'\u001b[0m\u001b[1;33m]\u001b[0m \u001b[1;33m=\u001b[0m \u001b[0mlisting_2019_April_OP\u001b[0m\u001b[1;33m.\u001b[0m\u001b[0mapply\u001b[0m\u001b[1;33m(\u001b[0m\u001b[1;32mlambda\u001b[0m \u001b[0mx\u001b[0m\u001b[1;33m:\u001b[0m \u001b[0mset_rating_ind\u001b[0m\u001b[1;33m(\u001b[0m\u001b[0mx\u001b[0m\u001b[1;33m)\u001b[0m\u001b[1;33m,\u001b[0m \u001b[1;36m1\u001b[0m\u001b[1;33m)\u001b[0m\u001b[1;33m\u001b[0m\u001b[1;33m\u001b[0m\u001b[0m\n\u001b[0m\u001b[0;32m      2\u001b[0m \u001b[1;31m#I add a column to track the listings with reviews by applying my set_rating function\u001b[0m\u001b[1;33m\u001b[0m\u001b[1;33m\u001b[0m\u001b[1;33m\u001b[0m\u001b[0m\n",
      "\u001b[1;31mNameError\u001b[0m: name 'listing_2019_April_OP' is not defined"
     ]
    }
   ],
   "source": [
    "listing_2019_April_OP['rating_ind'] = listing_2019_April_OP.apply(lambda x: set_rating_ind(x), 1) \n",
    "#I add a column to track the listings with reviews by applying my set_rating function"
   ]
  },
  {
   "cell_type": "code",
   "execution_count": 54,
   "metadata": {},
   "outputs": [
    {
     "ename": "NameError",
     "evalue": "name 'listing_2019_April_OP' is not defined",
     "output_type": "error",
     "traceback": [
      "\u001b[1;31m---------------------------------------------------------------------------\u001b[0m",
      "\u001b[1;31mNameError\u001b[0m                                 Traceback (most recent call last)",
      "\u001b[1;32m<ipython-input-54-eac369880d96>\u001b[0m in \u001b[0;36m<module>\u001b[1;34m\u001b[0m\n\u001b[1;32m----> 1\u001b[1;33m \u001b[0mlisting_2019_April_OP\u001b[0m\u001b[1;33m.\u001b[0m\u001b[0mhead\u001b[0m\u001b[1;33m(\u001b[0m\u001b[1;36m5\u001b[0m\u001b[1;33m)\u001b[0m\u001b[1;33m\u001b[0m\u001b[1;33m\u001b[0m\u001b[0m\n\u001b[0m",
      "\u001b[1;31mNameError\u001b[0m: name 'listing_2019_April_OP' is not defined"
     ]
    }
   ],
   "source": [
    "listing_2019_April_OP.head(5)"
   ]
  },
  {
   "cell_type": "code",
   "execution_count": 55,
   "metadata": {},
   "outputs": [
    {
     "ename": "NameError",
     "evalue": "name 'listing_2019_April_OP' is not defined",
     "output_type": "error",
     "traceback": [
      "\u001b[1;31m---------------------------------------------------------------------------\u001b[0m",
      "\u001b[1;31mNameError\u001b[0m                                 Traceback (most recent call last)",
      "\u001b[1;32m<ipython-input-55-bc578c52cff0>\u001b[0m in \u001b[0;36m<module>\u001b[1;34m\u001b[0m\n\u001b[1;32m----> 1\u001b[1;33m \u001b[0mlisting_2019_April_OP\u001b[0m\u001b[1;33m.\u001b[0m\u001b[0mshape\u001b[0m\u001b[1;33m\u001b[0m\u001b[1;33m\u001b[0m\u001b[0m\n\u001b[0m",
      "\u001b[1;31mNameError\u001b[0m: name 'listing_2019_April_OP' is not defined"
     ]
    }
   ],
   "source": [
    "listing_2019_April_OP.shape "
   ]
  },
  {
   "cell_type": "code",
   "execution_count": 56,
   "metadata": {},
   "outputs": [
    {
     "ename": "NameError",
     "evalue": "name 'listing_2019_April_OP' is not defined",
     "output_type": "error",
     "traceback": [
      "\u001b[1;31m---------------------------------------------------------------------------\u001b[0m",
      "\u001b[1;31mNameError\u001b[0m                                 Traceback (most recent call last)",
      "\u001b[1;32m<ipython-input-56-2f3ca45904de>\u001b[0m in \u001b[0;36m<module>\u001b[1;34m\u001b[0m\n\u001b[0;32m      1\u001b[0m \u001b[1;31m#I need to remove my empty data points by filling them with a 0 and converting both my ID and Host ID to a string for analysis\u001b[0m\u001b[1;33m\u001b[0m\u001b[1;33m\u001b[0m\u001b[1;33m\u001b[0m\u001b[0m\n\u001b[1;32m----> 2\u001b[1;33m \u001b[0mlisting_2019_April_OP\u001b[0m\u001b[1;33m.\u001b[0m\u001b[0mfillna\u001b[0m\u001b[1;33m(\u001b[0m\u001b[1;36m0\u001b[0m\u001b[1;33m,\u001b[0m \u001b[0minplace\u001b[0m\u001b[1;33m=\u001b[0m\u001b[1;32mTrue\u001b[0m\u001b[1;33m)\u001b[0m\u001b[1;33m\u001b[0m\u001b[1;33m\u001b[0m\u001b[0m\n\u001b[0m\u001b[0;32m      3\u001b[0m \u001b[1;33m\u001b[0m\u001b[0m\n\u001b[0;32m      4\u001b[0m \u001b[0mlisting_2019_April_OP\u001b[0m\u001b[1;33m[\u001b[0m\u001b[1;34m'id'\u001b[0m\u001b[1;33m]\u001b[0m \u001b[1;33m=\u001b[0m \u001b[0mlisting_2019_April_OP\u001b[0m\u001b[1;33m[\u001b[0m\u001b[1;34m'id'\u001b[0m\u001b[1;33m]\u001b[0m\u001b[1;33m.\u001b[0m\u001b[0mastype\u001b[0m\u001b[1;33m(\u001b[0m\u001b[0mstr\u001b[0m\u001b[1;33m)\u001b[0m\u001b[1;33m\u001b[0m\u001b[1;33m\u001b[0m\u001b[0m\n\u001b[0;32m      5\u001b[0m \u001b[0mlisting_2019_April_OP\u001b[0m\u001b[1;33m[\u001b[0m\u001b[1;34m'host_id'\u001b[0m\u001b[1;33m]\u001b[0m \u001b[1;33m=\u001b[0m \u001b[0mlisting_2019_April_OP\u001b[0m\u001b[1;33m[\u001b[0m\u001b[1;34m'host_id'\u001b[0m\u001b[1;33m]\u001b[0m\u001b[1;33m.\u001b[0m\u001b[0mastype\u001b[0m\u001b[1;33m(\u001b[0m\u001b[0mstr\u001b[0m\u001b[1;33m)\u001b[0m\u001b[1;33m\u001b[0m\u001b[1;33m\u001b[0m\u001b[0m\n",
      "\u001b[1;31mNameError\u001b[0m: name 'listing_2019_April_OP' is not defined"
     ]
    }
   ],
   "source": [
    "#I need to remove my empty data points by filling them with a 0 and converting both my ID and Host ID to a string for analysis\n",
    "listing_2019_April_OP.fillna(0, inplace=True)\n",
    "\n",
    "listing_2019_April_OP['id'] = listing_2019_April_OP['id'].astype(str)\n",
    "listing_2019_April_OP['host_id'] = listing_2019_April_OP['host_id'].astype(str)"
   ]
  },
  {
   "cell_type": "markdown",
   "metadata": {},
   "source": [
    "## Since the focus here is Paris I want to drop the zip codes that do not correspond to them \"officially\" being located in Paris which mean the property is between the 75001 and 75021 Zip Codes."
   ]
  },
  {
   "cell_type": "code",
   "execution_count": 57,
   "metadata": {},
   "outputs": [
    {
     "ename": "NameError",
     "evalue": "name 'listing_2019_April_OP' is not defined",
     "output_type": "error",
     "traceback": [
      "\u001b[1;31m---------------------------------------------------------------------------\u001b[0m",
      "\u001b[1;31mNameError\u001b[0m                                 Traceback (most recent call last)",
      "\u001b[1;32m<ipython-input-57-df17a495e469>\u001b[0m in \u001b[0;36m<module>\u001b[1;34m\u001b[0m\n\u001b[1;32m----> 1\u001b[1;33m \u001b[0mlisting_2019_April_OP\u001b[0m\u001b[1;33m.\u001b[0m\u001b[0mloc\u001b[0m\u001b[1;33m[\u001b[0m\u001b[0mlisting_2019_April_OP\u001b[0m\u001b[1;33m.\u001b[0m\u001b[0mzipcode\u001b[0m \u001b[1;33m==\u001b[0m \u001b[1;34m'75011\\n75011'\u001b[0m\u001b[1;33m,\u001b[0m \u001b[1;34m'zipcode'\u001b[0m\u001b[1;33m]\u001b[0m \u001b[1;33m=\u001b[0m \u001b[1;36m75019\u001b[0m\u001b[1;33m\u001b[0m\u001b[1;33m\u001b[0m\u001b[0m\n\u001b[0m\u001b[0;32m      2\u001b[0m \u001b[0mlisting_2019_April_OP\u001b[0m\u001b[1;33m.\u001b[0m\u001b[0mloc\u001b[0m\u001b[1;33m[\u001b[0m\u001b[0mlisting_2019_April_OP\u001b[0m\u001b[1;33m.\u001b[0m\u001b[0mzipcode\u001b[0m \u001b[1;33m==\u001b[0m \u001b[1;34m'75003\\n75003'\u001b[0m\u001b[1;33m,\u001b[0m \u001b[1;34m'zipcode'\u001b[0m\u001b[1;33m]\u001b[0m \u001b[1;33m=\u001b[0m \u001b[1;36m75004\u001b[0m\u001b[1;33m\u001b[0m\u001b[1;33m\u001b[0m\u001b[0m\n\u001b[0;32m      3\u001b[0m \u001b[0mlisting_2019_April_OP\u001b[0m\u001b[1;33m.\u001b[0m\u001b[0mloc\u001b[0m\u001b[1;33m[\u001b[0m\u001b[0mlisting_2019_April_OP\u001b[0m\u001b[1;33m.\u001b[0m\u001b[0mzipcode\u001b[0m \u001b[1;33m==\u001b[0m \u001b[1;34m'FR'\u001b[0m\u001b[1;33m,\u001b[0m \u001b[1;34m'zipcode'\u001b[0m\u001b[1;33m]\u001b[0m \u001b[1;33m=\u001b[0m \u001b[1;36m92130\u001b[0m\u001b[1;33m\u001b[0m\u001b[1;33m\u001b[0m\u001b[0m\n\u001b[0;32m      4\u001b[0m \u001b[0mlisting_2019_April_OP\u001b[0m\u001b[1;33m.\u001b[0m\u001b[0mloc\u001b[0m\u001b[1;33m[\u001b[0m\u001b[0mlisting_2019_April_OP\u001b[0m\u001b[1;33m.\u001b[0m\u001b[0mzipcode\u001b[0m \u001b[1;33m==\u001b[0m \u001b[1;34m'FR75016'\u001b[0m\u001b[1;33m,\u001b[0m \u001b[1;34m'zipcode'\u001b[0m\u001b[1;33m]\u001b[0m \u001b[1;33m=\u001b[0m \u001b[1;36m75016\u001b[0m\u001b[1;33m\u001b[0m\u001b[1;33m\u001b[0m\u001b[0m\n\u001b[0;32m      5\u001b[0m \u001b[0mlisting_2019_April_OP\u001b[0m\u001b[1;33m.\u001b[0m\u001b[0mloc\u001b[0m\u001b[1;33m[\u001b[0m\u001b[0mlisting_2019_April_OP\u001b[0m\u001b[1;33m.\u001b[0m\u001b[0mzipcode\u001b[0m \u001b[1;33m==\u001b[0m \u001b[1;34m'N'\u001b[0m\u001b[1;33m,\u001b[0m \u001b[1;34m'zipcode'\u001b[0m\u001b[1;33m]\u001b[0m \u001b[1;33m=\u001b[0m \u001b[1;36m75018J\u001b[0m\u001b[1;33m\u001b[0m\u001b[1;33m\u001b[0m\u001b[0m\n",
      "\u001b[1;31mNameError\u001b[0m: name 'listing_2019_April_OP' is not defined"
     ]
    }
   ],
   "source": [
    "listing_2019_April_OP.loc[listing_2019_April_OP.zipcode == '75011\\n75011', 'zipcode'] = 75019\n",
    "listing_2019_April_OP.loc[listing_2019_April_OP.zipcode == '75003\\n75003', 'zipcode'] = 75004\n",
    "listing_2019_April_OP.loc[listing_2019_April_OP.zipcode == 'FR', 'zipcode'] = 92130\n",
    "listing_2019_April_OP.loc[listing_2019_April_OP.zipcode == 'FR75016', 'zipcode'] = 75016\n",
    "listing_2019_April_OP.loc[listing_2019_April_OP.zipcode == 'N', 'zipcode'] = 75018J\n",
    "listing_2019_April_OP.loc[listing_2019_April_OP.zipcode == 'Paris75004', 'zipcode'] = 75002\n",
    "listing_2019_April_OP.loc[listing_2019_April_OP.zipcode == '75.0', 'zipcode'] = 75012\n",
    "listing_2019_April_OP.loc[listing_2019_April_OP.zipcode == '0', 'zipcode'] = 75008\n",
    "listing_2019_April_OP.loc[listing_2019_April_OP.zipcode == '75018e', 'zipcode'] = 93310\n",
    "listing_2019_April_OP.loc[listing_2019_April_OP.zipcode == '*75016', 'zipcode'] = 92130\n",
    "listing_2019_April_OP.loc[listing_2019_April_OP.zipcode == '7518', 'zipcode'] = 75018\n",
    "listing_2019_April_OP.loc[listing_2019_April_OP.zipcode == 'Paris 75004', 'zipcode'] = 75011\n",
    "listing_2019_April_OP.loc[listing_2019_April_OP.zipcode == '74400.0', 'zipcode'] = 75002\n",
    "listing_2019_April_OP.loc[listing_2019_April_OP.zipcode == '-- default zip code --', 'zipcode'] = 75002\n",
    "listing_2019_April_OP.loc[listing_2019_April_OP.zipcode == '75007.0', 'zipcode'] = 75007\n",
    "listing_2019_April_OP.loc[listing_2019_April_OP.zipcode == '75011.0', 'zipcode'] = 75011\n",
    "listing_2019_April_OP.loc[listing_2019_April_OP.zipcode == '75001.0', 'zipcode'] = 75001\n",
    "listing_2019_April_OP.loc[listing_2019_April_OP.zipcode == '75010.0', 'zipcode'] = 75010\n",
    "listing_2019_April_OP.loc[listing_2019_April_OP.zipcode == '75012.0', 'zipcode'] = 75012\n",
    "listing_2019_April_OP.loc[listing_2019_April_OP.zipcode == '75002.0', 'zipcode'] = 75002\n",
    "listing_2019_April_OP.loc[listing_2019_April_OP.zipcode == '75008.0', 'zipcode'] = 75008\n",
    "listing_2019_April_OP.loc[listing_2019_April_OP.zipcode == '75005.0', 'zipcode'] = 75005\n",
    "listing_2019_April_OP.loc[listing_2019_April_OP.zipcode == '75009.0', 'zipcode'] = 75009\n",
    "listing_2019_April_OP.loc[listing_2019_April_OP.zipcode == '75012.0', 'zipcode'] = 75012\n",
    "listing_2019_April_OP.loc[listing_2019_April_OP.zipcode == '75016.0', 'zipcode'] = 75016\n",
    "listing_2019_April_OP.loc[listing_2019_April_OP.zipcode == '75013.0', 'zipcode'] = 75013\n",
    "listing_2019_April_OP.loc[listing_2019_April_OP.zipcode == '75018e', 'zipcode'] = 75018\n",
    "listing_2019_April_OP.loc[listing_2019_April_OP.zipcode == '75o16', 'zipcode'] = 75016\n",
    "listing_2019_April_OP.loc[listing_2019_April_OP.zipcode == '75\\xa0011', 'zipcode'] = 75011\n",
    "listing_2019_April_OP.loc[listing_2019_April_OP.zipcode == '0', 'zipcode'] = 75001\n",
    "listing_2019_April_OP.loc[listing_2019_April_OP.zipcode == '75', 'zipcode'] = 75012\n",
    "listing_2019_April_OP.loc[listing_2019_April_OP.zipcode == '700014', 'zipcode'] = 75002\n",
    "listing_2019_April_OP.loc[listing_2019_April_OP.zipcode == '33780', 'zipcode'] = 75106\n",
    "\n"
   ]
  },
  {
   "cell_type": "code",
   "execution_count": 58,
   "metadata": {},
   "outputs": [
    {
     "ename": "NameError",
     "evalue": "name 'listing_2019_April_OP' is not defined",
     "output_type": "error",
     "traceback": [
      "\u001b[1;31m---------------------------------------------------------------------------\u001b[0m",
      "\u001b[1;31mNameError\u001b[0m                                 Traceback (most recent call last)",
      "\u001b[1;32m<ipython-input-58-d6e5780d107b>\u001b[0m in \u001b[0;36m<module>\u001b[1;34m\u001b[0m\n\u001b[1;32m----> 1\u001b[1;33m \u001b[0mlisting_2019_April_OP\u001b[0m\u001b[1;33m.\u001b[0m\u001b[0mzipcode\u001b[0m \u001b[1;33m=\u001b[0m \u001b[0mlisting_2019_April_OP\u001b[0m\u001b[1;33m.\u001b[0m\u001b[0mzipcode\u001b[0m\u001b[1;33m.\u001b[0m\u001b[0mastype\u001b[0m\u001b[1;33m(\u001b[0m\u001b[0mint\u001b[0m\u001b[1;33m)\u001b[0m \u001b[1;31m#I remove floats from my zipcodes and transform them into integers\u001b[0m\u001b[1;33m\u001b[0m\u001b[1;33m\u001b[0m\u001b[0m\n\u001b[0m",
      "\u001b[1;31mNameError\u001b[0m: name 'listing_2019_April_OP' is not defined"
     ]
    }
   ],
   "source": [
    "listing_2019_April_OP.zipcode = listing_2019_April_OP.zipcode.astype(int) #I remove floats from my zipcodes and transform them into integers"
   ]
  },
  {
   "cell_type": "code",
   "execution_count": 59,
   "metadata": {
    "scrolled": true
   },
   "outputs": [
    {
     "ename": "NameError",
     "evalue": "name 'listing_2019_April_OP' is not defined",
     "output_type": "error",
     "traceback": [
      "\u001b[1;31m---------------------------------------------------------------------------\u001b[0m",
      "\u001b[1;31mNameError\u001b[0m                                 Traceback (most recent call last)",
      "\u001b[1;32m<ipython-input-59-3dc4625647a9>\u001b[0m in \u001b[0;36m<module>\u001b[1;34m\u001b[0m\n\u001b[1;32m----> 1\u001b[1;33m \u001b[0mlisting_2019_April_OP\u001b[0m\u001b[1;33m.\u001b[0m\u001b[0mgroupby\u001b[0m\u001b[1;33m(\u001b[0m\u001b[1;33m[\u001b[0m\u001b[1;34m'zipcode'\u001b[0m\u001b[1;33m]\u001b[0m\u001b[1;33m)\u001b[0m\u001b[1;33m.\u001b[0m\u001b[0mmax\u001b[0m\u001b[1;33m(\u001b[0m\u001b[1;33m)\u001b[0m\u001b[1;33m\u001b[0m\u001b[1;33m\u001b[0m\u001b[0m\n\u001b[0m",
      "\u001b[1;31mNameError\u001b[0m: name 'listing_2019_April_OP' is not defined"
     ]
    }
   ],
   "source": [
    "listing_2019_April_OP.groupby(['zipcode']).max()"
   ]
  },
  {
   "cell_type": "code",
   "execution_count": null,
   "metadata": {},
   "outputs": [],
   "source": []
  },
  {
   "cell_type": "code",
   "execution_count": 60,
   "metadata": {},
   "outputs": [
    {
     "ename": "NameError",
     "evalue": "name 'listing_2019_April_OP' is not defined",
     "output_type": "error",
     "traceback": [
      "\u001b[1;31m---------------------------------------------------------------------------\u001b[0m",
      "\u001b[1;31mNameError\u001b[0m                                 Traceback (most recent call last)",
      "\u001b[1;32m<ipython-input-60-2715c6ff5303>\u001b[0m in \u001b[0;36m<module>\u001b[1;34m\u001b[0m\n\u001b[1;32m----> 1\u001b[1;33m \u001b[0mlisting_2019_April_OP\u001b[0m\u001b[1;33m[\u001b[0m\u001b[1;34m'price'\u001b[0m\u001b[1;33m]\u001b[0m\u001b[1;33m.\u001b[0m\u001b[0mdescribe\u001b[0m\u001b[1;33m(\u001b[0m\u001b[1;33m)\u001b[0m\u001b[1;33m.\u001b[0m\u001b[0mT\u001b[0m \u001b[1;31m#here I check for outliers in my pricing data to discover the highest rate is 9379 per night which seems unlikely\u001b[0m\u001b[1;33m\u001b[0m\u001b[1;33m\u001b[0m\u001b[0m\n\u001b[0m",
      "\u001b[1;31mNameError\u001b[0m: name 'listing_2019_April_OP' is not defined"
     ]
    }
   ],
   "source": [
    "\n",
    "listing_2019_April_OP['price'].describe().T #here I check for outliers in my pricing data to discover the highest rate is 9379 per night which seems unlikely\n"
   ]
  },
  {
   "cell_type": "code",
   "execution_count": 61,
   "metadata": {},
   "outputs": [
    {
     "ename": "NameError",
     "evalue": "name 'listing_2019_April_OP' is not defined",
     "output_type": "error",
     "traceback": [
      "\u001b[1;31m---------------------------------------------------------------------------\u001b[0m",
      "\u001b[1;31mNameError\u001b[0m                                 Traceback (most recent call last)",
      "\u001b[1;32m<ipython-input-61-53b1566b473c>\u001b[0m in \u001b[0;36m<module>\u001b[1;34m\u001b[0m\n\u001b[1;32m----> 1\u001b[1;33m \u001b[0mlisting_2019_April_OP\u001b[0m\u001b[1;33m[\u001b[0m\u001b[0mlisting_2019_April_OP\u001b[0m\u001b[1;33m[\u001b[0m\u001b[1;34m'price'\u001b[0m\u001b[1;33m]\u001b[0m \u001b[1;33m==\u001b[0m \u001b[1;36m2500\u001b[0m\u001b[1;33m]\u001b[0m \u001b[1;31m#Since there seem to be outliers in my pricing data which truly are inaccurate I aim to identify them and remove them as they will skew my pricing and earnings data\u001b[0m\u001b[1;33m\u001b[0m\u001b[1;33m\u001b[0m\u001b[0m\n\u001b[0m",
      "\u001b[1;31mNameError\u001b[0m: name 'listing_2019_April_OP' is not defined"
     ]
    }
   ],
   "source": [
    "listing_2019_April_OP[listing_2019_April_OP['price'] == 2500] #Since there seem to be outliers in my pricing data which truly are inaccurate I aim to identify them and remove them as they will skew my pricing and earnings data"
   ]
  },
  {
   "cell_type": "code",
   "execution_count": 62,
   "metadata": {},
   "outputs": [
    {
     "ename": "NameError",
     "evalue": "name 'listing_2019_April_OP' is not defined",
     "output_type": "error",
     "traceback": [
      "\u001b[1;31m---------------------------------------------------------------------------\u001b[0m",
      "\u001b[1;31mNameError\u001b[0m                                 Traceback (most recent call last)",
      "\u001b[1;32m<ipython-input-62-a0a169fa6a72>\u001b[0m in \u001b[0;36m<module>\u001b[1;34m\u001b[0m\n\u001b[1;32m----> 1\u001b[1;33m \u001b[0mlisting_2019_April_OP\u001b[0m\u001b[1;33m[\u001b[0m\u001b[0mlisting_2019_April_OP\u001b[0m\u001b[1;33m[\u001b[0m\u001b[1;34m'price'\u001b[0m\u001b[1;33m]\u001b[0m \u001b[1;33m<\u001b[0m \u001b[1;36m50\u001b[0m\u001b[1;33m]\u001b[0m \u001b[1;31m# I am curious to review the listings which are priced below 50 USD\u001b[0m\u001b[1;33m\u001b[0m\u001b[1;33m\u001b[0m\u001b[0m\n\u001b[0m\u001b[0;32m      2\u001b[0m \u001b[1;33m\u001b[0m\u001b[0m\n",
      "\u001b[1;31mNameError\u001b[0m: name 'listing_2019_April_OP' is not defined"
     ]
    }
   ],
   "source": [
    "listing_2019_April_OP[listing_2019_April_OP['price'] < 50] # I am curious to review the listings which are priced below 50 USD\n",
    "\n"
   ]
  },
  {
   "cell_type": "code",
   "execution_count": 63,
   "metadata": {},
   "outputs": [
    {
     "ename": "NameError",
     "evalue": "name 'listing_2019_April_OP' is not defined",
     "output_type": "error",
     "traceback": [
      "\u001b[1;31m---------------------------------------------------------------------------\u001b[0m",
      "\u001b[1;31mNameError\u001b[0m                                 Traceback (most recent call last)",
      "\u001b[1;32m<ipython-input-63-bee8ef5cf6e8>\u001b[0m in \u001b[0;36m<module>\u001b[1;34m\u001b[0m\n\u001b[0;32m      1\u001b[0m \u001b[1;31m#Here I want to eliminate the various outliers I discovered when i reviewed the pricing ranges above and decided to cut off those priced above 2500 per night\u001b[0m\u001b[1;33m\u001b[0m\u001b[1;33m\u001b[0m\u001b[1;33m\u001b[0m\u001b[0m\n\u001b[1;32m----> 2\u001b[1;33m \u001b[0mremove_OT_Price\u001b[0m \u001b[1;33m=\u001b[0m \u001b[0mlisting_2019_April_OP\u001b[0m\u001b[1;33m.\u001b[0m\u001b[0mdrop\u001b[0m\u001b[1;33m(\u001b[0m \u001b[0mlisting_2019_April_OP\u001b[0m\u001b[1;33m[\u001b[0m \u001b[0mlisting_2019_April_OP\u001b[0m\u001b[1;33m[\u001b[0m\u001b[1;34m'price'\u001b[0m\u001b[1;33m]\u001b[0m \u001b[1;33m>\u001b[0m \u001b[1;36m2500\u001b[0m \u001b[1;33m]\u001b[0m\u001b[1;33m.\u001b[0m\u001b[0mindex\u001b[0m\u001b[1;33m,\u001b[0m \u001b[0minplace\u001b[0m\u001b[1;33m=\u001b[0m\u001b[1;32mTrue\u001b[0m\u001b[1;33m)\u001b[0m\u001b[1;33m\u001b[0m\u001b[1;33m\u001b[0m\u001b[0m\n\u001b[0m",
      "\u001b[1;31mNameError\u001b[0m: name 'listing_2019_April_OP' is not defined"
     ]
    }
   ],
   "source": [
    "#Here I want to eliminate the various outliers I discovered when i reviewed the pricing ranges above and decided to cut off those priced above 2500 per night\n",
    "remove_OT_Price = listing_2019_April_OP.drop( listing_2019_April_OP[ listing_2019_April_OP['price'] > 2500 ].index, inplace=True)\n"
   ]
  },
  {
   "cell_type": "markdown",
   "metadata": {},
   "source": [
    "# After cleaning my listing data sets I make a copy to work with zip codes found OUTSIDE PARIS"
   ]
  },
  {
   "cell_type": "code",
   "execution_count": 64,
   "metadata": {},
   "outputs": [
    {
     "ename": "NameError",
     "evalue": "name 'listing_2019_April' is not defined",
     "output_type": "error",
     "traceback": [
      "\u001b[1;31m---------------------------------------------------------------------------\u001b[0m",
      "\u001b[1;31mNameError\u001b[0m                                 Traceback (most recent call last)",
      "\u001b[1;32m<ipython-input-64-854b17d08ed8>\u001b[0m in \u001b[0;36m<module>\u001b[1;34m\u001b[0m\n\u001b[1;32m----> 1\u001b[1;33m \u001b[0mlisting_2019_April_OP\u001b[0m \u001b[1;33m=\u001b[0m \u001b[0mlisting_2019_April\u001b[0m\u001b[1;33m.\u001b[0m\u001b[0mcopy\u001b[0m\u001b[1;33m(\u001b[0m\u001b[1;33m)\u001b[0m \u001b[1;31m#here I make a copy of my dataframe as if listings are OUTSIDE PARIS which are the zip codes 75022 to 95170 I want to compare the differences\u001b[0m\u001b[1;33m\u001b[0m\u001b[1;33m\u001b[0m\u001b[0m\n\u001b[0m",
      "\u001b[1;31mNameError\u001b[0m: name 'listing_2019_April' is not defined"
     ]
    }
   ],
   "source": [
    "listing_2019_April_OP = listing_2019_April.copy() #here I make a copy of my dataframe as if listings are OUTSIDE PARIS which are the zip codes 75022 to 95170 I want to compare the differences"
   ]
  },
  {
   "cell_type": "markdown",
   "metadata": {},
   "source": [
    "# This section is for properties outside of Paris Proper\n"
   ]
  },
  {
   "cell_type": "code",
   "execution_count": 65,
   "metadata": {},
   "outputs": [
    {
     "ename": "NameError",
     "evalue": "name 'listing_2019_April_OP' is not defined",
     "output_type": "error",
     "traceback": [
      "\u001b[1;31m---------------------------------------------------------------------------\u001b[0m",
      "\u001b[1;31mNameError\u001b[0m                                 Traceback (most recent call last)",
      "\u001b[1;32m<ipython-input-65-0bc9127fdafc>\u001b[0m in \u001b[0;36m<module>\u001b[1;34m\u001b[0m\n\u001b[1;32m----> 1\u001b[1;33m \u001b[0mlisting_2019_April_OP\u001b[0m\u001b[1;33m.\u001b[0m\u001b[0mshape\u001b[0m\u001b[1;33m\u001b[0m\u001b[1;33m\u001b[0m\u001b[0m\n\u001b[0m",
      "\u001b[1;31mNameError\u001b[0m: name 'listing_2019_April_OP' is not defined"
     ]
    }
   ],
   "source": [
    "listing_2019_April_OP.shape"
   ]
  },
  {
   "cell_type": "code",
   "execution_count": 66,
   "metadata": {},
   "outputs": [
    {
     "ename": "NameError",
     "evalue": "name 'listing_2019_April_OP' is not defined",
     "output_type": "error",
     "traceback": [
      "\u001b[1;31m---------------------------------------------------------------------------\u001b[0m",
      "\u001b[1;31mNameError\u001b[0m                                 Traceback (most recent call last)",
      "\u001b[1;32m<ipython-input-66-1be353cad0f2>\u001b[0m in \u001b[0;36m<module>\u001b[1;34m\u001b[0m\n\u001b[0;32m      2\u001b[0m \u001b[0mzipcodes\u001b[0m \u001b[1;33m=\u001b[0m \u001b[1;33m[\u001b[0m\u001b[0mstr\u001b[0m\u001b[1;33m(\u001b[0m\u001b[0mx\u001b[0m\u001b[1;33m)\u001b[0m \u001b[1;32mfor\u001b[0m \u001b[0mx\u001b[0m \u001b[1;32min\u001b[0m \u001b[0mrange\u001b[0m\u001b[1;33m(\u001b[0m\u001b[1;36m75022\u001b[0m\u001b[1;33m,\u001b[0m \u001b[1;36m95170\u001b[0m\u001b[1;33m)\u001b[0m \u001b[1;33m]\u001b[0m\u001b[1;33m\u001b[0m\u001b[1;33m\u001b[0m\u001b[0m\n\u001b[0;32m      3\u001b[0m \u001b[1;31m#These are the official PARIS ZIP CODES so I apply a function to only include these zip codes\u001b[0m\u001b[1;33m\u001b[0m\u001b[1;33m\u001b[0m\u001b[1;33m\u001b[0m\u001b[0m\n\u001b[1;32m----> 4\u001b[1;33m \u001b[0mlisting_2019_April_OP\u001b[0m \u001b[1;33m=\u001b[0m \u001b[0mlisting_2019_April_OP\u001b[0m\u001b[1;33m[\u001b[0m\u001b[0mlisting_2019_April_OP\u001b[0m\u001b[1;33m[\u001b[0m\u001b[1;34m'zipcode'\u001b[0m\u001b[1;33m]\u001b[0m\u001b[1;33m.\u001b[0m\u001b[0misin\u001b[0m\u001b[1;33m(\u001b[0m\u001b[0mzipcodes\u001b[0m\u001b[1;33m)\u001b[0m\u001b[1;33m]\u001b[0m\u001b[1;33m\u001b[0m\u001b[1;33m\u001b[0m\u001b[0m\n\u001b[0m\u001b[0;32m      5\u001b[0m \u001b[0mlisting_2019_April_OP\u001b[0m\u001b[1;33m[\u001b[0m\u001b[1;34m'zipcode'\u001b[0m\u001b[1;33m]\u001b[0m\u001b[1;33m.\u001b[0m\u001b[0mvalue_counts\u001b[0m\u001b[1;33m(\u001b[0m\u001b[1;33m)\u001b[0m\u001b[1;33m\u001b[0m\u001b[1;33m\u001b[0m\u001b[0m\n",
      "\u001b[1;31mNameError\u001b[0m: name 'listing_2019_April_OP' is not defined"
     ]
    }
   ],
   "source": [
    "# I decide to create a 2nd  dataframe from my copy to analyze properties OUTSIDE of PARIS for price comparison\n",
    "zipcodes = [str(x) for x in range(75022, 95170) ]\n",
    "#These are the official PARIS ZIP CODES so I apply a function to only include these zip codes\n",
    "listing_2019_April_OP = listing_2019_April_OP[listing_2019_April_OP['zipcode'].isin(zipcodes)]\n",
    "listing_2019_April_OP['zipcode'].value_counts()"
   ]
  },
  {
   "cell_type": "code",
   "execution_count": 67,
   "metadata": {},
   "outputs": [
    {
     "ename": "NameError",
     "evalue": "name 'listing_2019_April_OP' is not defined",
     "output_type": "error",
     "traceback": [
      "\u001b[1;31m---------------------------------------------------------------------------\u001b[0m",
      "\u001b[1;31mNameError\u001b[0m                                 Traceback (most recent call last)",
      "\u001b[1;32m<ipython-input-67-e61d624e0526>\u001b[0m in \u001b[0;36m<module>\u001b[1;34m\u001b[0m\n\u001b[0;32m      1\u001b[0m \u001b[1;31m#review this code\u001b[0m\u001b[1;33m\u001b[0m\u001b[1;33m\u001b[0m\u001b[1;33m\u001b[0m\u001b[0m\n\u001b[1;32m----> 2\u001b[1;33m \u001b[0mprices_data\u001b[0m \u001b[1;33m=\u001b[0m \u001b[0mlisting_2019_April_OP\u001b[0m\u001b[1;33m.\u001b[0m\u001b[0mgroupby\u001b[0m\u001b[1;33m(\u001b[0m\u001b[1;33m[\u001b[0m\u001b[1;34m'property_type'\u001b[0m\u001b[1;33m,\u001b[0m\u001b[1;34m'room_type'\u001b[0m\u001b[1;33m]\u001b[0m\u001b[1;33m)\u001b[0m\u001b[1;33m.\u001b[0m\u001b[0mprice\u001b[0m\u001b[1;33m.\u001b[0m\u001b[0mmean\u001b[0m\u001b[1;33m(\u001b[0m\u001b[1;33m)\u001b[0m\u001b[1;33m\u001b[0m\u001b[1;33m\u001b[0m\u001b[0m\n\u001b[0m",
      "\u001b[1;31mNameError\u001b[0m: name 'listing_2019_April_OP' is not defined"
     ]
    }
   ],
   "source": [
    "#review this code \n",
    "prices_data = listing_2019_April_OP.groupby(['property_type','room_type']).price.mean()"
   ]
  },
  {
   "cell_type": "code",
   "execution_count": 68,
   "metadata": {},
   "outputs": [
    {
     "ename": "NameError",
     "evalue": "name 'listing_2019_April_OP' is not defined",
     "output_type": "error",
     "traceback": [
      "\u001b[1;31m---------------------------------------------------------------------------\u001b[0m",
      "\u001b[1;31mNameError\u001b[0m                                 Traceback (most recent call last)",
      "\u001b[1;32m<ipython-input-68-e565398641c3>\u001b[0m in \u001b[0;36m<module>\u001b[1;34m\u001b[0m\n\u001b[1;32m----> 1\u001b[1;33m \u001b[0mx\u001b[0m \u001b[1;33m=\u001b[0m \u001b[0mlen\u001b[0m\u001b[1;33m(\u001b[0m\u001b[0mlisting_2019_April_OP\u001b[0m\u001b[1;33m[\u001b[0m\u001b[1;34m'zipcode'\u001b[0m\u001b[1;33m]\u001b[0m\u001b[1;33m)\u001b[0m\u001b[1;33m\u001b[0m\u001b[1;33m\u001b[0m\u001b[0m\n\u001b[0m",
      "\u001b[1;31mNameError\u001b[0m: name 'listing_2019_April_OP' is not defined"
     ]
    }
   ],
   "source": [
    "x = len(listing_2019_April_OP['zipcode']) "
   ]
  },
  {
   "cell_type": "markdown",
   "metadata": {},
   "source": [
    "Of our 58,184 listings I separated the listings into two with those inside Paris (55,653) from those outside Paris (1,788). We note that roughtly 3.07% of our listings are OUTSIDE PARIS while 96.7 % are inside Paris."
   ]
  },
  {
   "cell_type": "markdown",
   "metadata": {},
   "source": [
    "# EDA: Here I will now work to find insights from my OUTSIDE PARIS dataset"
   ]
  },
  {
   "cell_type": "code",
   "execution_count": 69,
   "metadata": {},
   "outputs": [
    {
     "ename": "NameError",
     "evalue": "name 'msno' is not defined",
     "output_type": "error",
     "traceback": [
      "\u001b[1;31m---------------------------------------------------------------------------\u001b[0m",
      "\u001b[1;31mNameError\u001b[0m                                 Traceback (most recent call last)",
      "\u001b[1;32m<ipython-input-69-36c7f07104ff>\u001b[0m in \u001b[0;36m<module>\u001b[1;34m\u001b[0m\n\u001b[1;32m----> 1\u001b[1;33m \u001b[0mmsno\u001b[0m\u001b[1;33m.\u001b[0m\u001b[0mmatrix\u001b[0m\u001b[1;33m(\u001b[0m\u001b[0mlisting_2019_April_OP\u001b[0m\u001b[1;33m,\u001b[0m \u001b[0mlabels\u001b[0m\u001b[1;33m=\u001b[0m\u001b[1;32mTrue\u001b[0m\u001b[1;33m)\u001b[0m \u001b[1;31m# Here I review to check for missing values\u001b[0m\u001b[1;33m\u001b[0m\u001b[1;33m\u001b[0m\u001b[0m\n\u001b[0m",
      "\u001b[1;31mNameError\u001b[0m: name 'msno' is not defined"
     ]
    }
   ],
   "source": [
    "msno.matrix(listing_2019_April_OP, labels=True) # Here I review to check for missing values "
   ]
  },
  {
   "cell_type": "code",
   "execution_count": 70,
   "metadata": {
    "scrolled": true
   },
   "outputs": [
    {
     "ename": "NameError",
     "evalue": "name 'msno' is not defined",
     "output_type": "error",
     "traceback": [
      "\u001b[1;31m---------------------------------------------------------------------------\u001b[0m",
      "\u001b[1;31mNameError\u001b[0m                                 Traceback (most recent call last)",
      "\u001b[1;32m<ipython-input-70-40be36afbb2d>\u001b[0m in \u001b[0;36m<module>\u001b[1;34m\u001b[0m\n\u001b[1;32m----> 1\u001b[1;33m \u001b[0mmsno\u001b[0m\u001b[1;33m.\u001b[0m\u001b[0mbar\u001b[0m\u001b[1;33m(\u001b[0m\u001b[0mlisting_2019_April_OP\u001b[0m\u001b[1;33m,\u001b[0m \u001b[0mlabels\u001b[0m\u001b[1;33m=\u001b[0m\u001b[1;32mTrue\u001b[0m\u001b[1;33m)\u001b[0m \u001b[1;31m#Here I check for Missing Values\u001b[0m\u001b[1;33m\u001b[0m\u001b[1;33m\u001b[0m\u001b[0m\n\u001b[0m",
      "\u001b[1;31mNameError\u001b[0m: name 'msno' is not defined"
     ]
    }
   ],
   "source": [
    "msno.bar(listing_2019_April_OP, labels=True) #Here I check for Missing Values"
   ]
  },
  {
   "cell_type": "code",
   "execution_count": 71,
   "metadata": {
    "scrolled": true
   },
   "outputs": [
    {
     "ename": "NameError",
     "evalue": "name 'listing_2019_April_OP' is not defined",
     "output_type": "error",
     "traceback": [
      "\u001b[1;31m---------------------------------------------------------------------------\u001b[0m",
      "\u001b[1;31mNameError\u001b[0m                                 Traceback (most recent call last)",
      "\u001b[1;32m<ipython-input-71-58895c037325>\u001b[0m in \u001b[0;36m<module>\u001b[1;34m\u001b[0m\n\u001b[0;32m      2\u001b[0m \u001b[0mbins\u001b[0m \u001b[1;33m=\u001b[0m \u001b[1;33m[\u001b[0m \u001b[1;36m0\u001b[0m\u001b[1;33m,\u001b[0m \u001b[1;36m101\u001b[0m\u001b[1;33m,\u001b[0m \u001b[1;36m151\u001b[0m\u001b[1;33m,\u001b[0m \u001b[1;36m201\u001b[0m\u001b[1;33m,\u001b[0m \u001b[1;36m301\u001b[0m\u001b[1;33m,\u001b[0m \u001b[1;36m401\u001b[0m\u001b[1;33m,\u001b[0m \u001b[1;36m601\u001b[0m\u001b[1;33m,\u001b[0m \u001b[1;36m1001\u001b[0m\u001b[1;33m]\u001b[0m \u001b[1;31m#Here I create pricing groups\u001b[0m\u001b[1;33m\u001b[0m\u001b[1;33m\u001b[0m\u001b[0m\n\u001b[0;32m      3\u001b[0m \u001b[0mlabels\u001b[0m \u001b[1;33m=\u001b[0m \u001b[1;33m[\u001b[0m\u001b[1;34m'0-100'\u001b[0m\u001b[1;33m,\u001b[0m \u001b[1;34m'101-150'\u001b[0m\u001b[1;33m,\u001b[0m \u001b[1;34m'151-200'\u001b[0m\u001b[1;33m,\u001b[0m \u001b[1;34m'201-300'\u001b[0m\u001b[1;33m,\u001b[0m \u001b[1;34m'301-600'\u001b[0m\u001b[1;33m,\u001b[0m \u001b[1;34m'601-1000'\u001b[0m\u001b[1;33m,\u001b[0m \u001b[1;34m'1001 +'\u001b[0m\u001b[1;33m]\u001b[0m\u001b[1;33m\u001b[0m\u001b[1;33m\u001b[0m\u001b[0m\n\u001b[1;32m----> 4\u001b[1;33m \u001b[0mlisting_2019_April_OP\u001b[0m\u001b[1;33m[\u001b[0m\u001b[1;34m'GroupedbyPriceRange'\u001b[0m\u001b[1;33m]\u001b[0m \u001b[1;33m=\u001b[0m \u001b[0mpd\u001b[0m\u001b[1;33m.\u001b[0m\u001b[0mcut\u001b[0m\u001b[1;33m(\u001b[0m\u001b[0mlisting_2019_April_OP\u001b[0m\u001b[1;33m.\u001b[0m\u001b[0mprice\u001b[0m\u001b[1;33m,\u001b[0m \u001b[0mbins\u001b[0m\u001b[1;33m,\u001b[0m \u001b[0mlabels\u001b[0m \u001b[1;33m=\u001b[0m \u001b[0mlabels\u001b[0m\u001b[1;33m,\u001b[0m\u001b[0minclude_lowest\u001b[0m \u001b[1;33m=\u001b[0m \u001b[1;32mTrue\u001b[0m\u001b[1;33m)\u001b[0m\u001b[1;33m\u001b[0m\u001b[1;33m\u001b[0m\u001b[0m\n\u001b[0m\u001b[0;32m      5\u001b[0m \u001b[1;33m\u001b[0m\u001b[0m\n\u001b[0;32m      6\u001b[0m \u001b[0mlisting_2019_April_OP\u001b[0m\u001b[1;33m.\u001b[0m\u001b[0mhead\u001b[0m\u001b[1;33m(\u001b[0m\u001b[1;36m5\u001b[0m\u001b[1;33m)\u001b[0m\u001b[1;33m\u001b[0m\u001b[1;33m\u001b[0m\u001b[0m\n",
      "\u001b[1;31mNameError\u001b[0m: name 'listing_2019_April_OP' is not defined"
     ]
    }
   ],
   "source": [
    "#I want to group my priced as they range from 0 to 2500 and this will make it simpler for Visualizations\n",
    "bins = [ 0, 101, 151, 201, 301, 401, 601, 1001] #Here I create pricing groups\n",
    "labels = ['0-100', '101-150', '151-200', '201-300', '301-600', '601-1000', '1001 +']\n",
    "listing_2019_April_OP['GroupedbyPriceRange'] = pd.cut(listing_2019_April_OP.price, bins, labels = labels,include_lowest = True)\n",
    "\n",
    "listing_2019_April_OP.head(5)"
   ]
  },
  {
   "cell_type": "code",
   "execution_count": 72,
   "metadata": {
    "scrolled": true
   },
   "outputs": [
    {
     "ename": "NameError",
     "evalue": "name 'listing_2019_April_OP' is not defined",
     "output_type": "error",
     "traceback": [
      "\u001b[1;31m---------------------------------------------------------------------------\u001b[0m",
      "\u001b[1;31mNameError\u001b[0m                                 Traceback (most recent call last)",
      "\u001b[1;32m<ipython-input-72-61e9aae3c393>\u001b[0m in \u001b[0;36m<module>\u001b[1;34m\u001b[0m\n\u001b[0;32m      2\u001b[0m \u001b[0mbins\u001b[0m \u001b[1;33m=\u001b[0m \u001b[1;33m[\u001b[0m \u001b[1;36m0\u001b[0m\u001b[1;33m,\u001b[0m \u001b[1;36m26\u001b[0m\u001b[1;33m,\u001b[0m \u001b[1;36m51\u001b[0m\u001b[1;33m,\u001b[0m \u001b[1;36m76\u001b[0m\u001b[1;33m,\u001b[0m \u001b[1;36m86\u001b[0m\u001b[1;33m,\u001b[0m \u001b[1;36m96\u001b[0m\u001b[1;33m,\u001b[0m \u001b[1;36m100\u001b[0m\u001b[1;33m]\u001b[0m \u001b[1;31m#Here I create pricing groups\u001b[0m\u001b[1;33m\u001b[0m\u001b[1;33m\u001b[0m\u001b[0m\n\u001b[0;32m      3\u001b[0m \u001b[0mlabels\u001b[0m \u001b[1;33m=\u001b[0m \u001b[1;33m[\u001b[0m\u001b[1;34m'0-25.0'\u001b[0m\u001b[1;33m,\u001b[0m \u001b[1;34m'26.0-50.0'\u001b[0m\u001b[1;33m,\u001b[0m \u001b[1;34m'51.0-75.0'\u001b[0m\u001b[1;33m,\u001b[0m \u001b[1;34m'76.0-85.0'\u001b[0m\u001b[1;33m,\u001b[0m \u001b[1;34m'86.0-95.0'\u001b[0m\u001b[1;33m,\u001b[0m \u001b[1;34m'96+'\u001b[0m\u001b[1;33m]\u001b[0m\u001b[1;33m\u001b[0m\u001b[1;33m\u001b[0m\u001b[0m\n\u001b[1;32m----> 4\u001b[1;33m \u001b[0mlisting_2019_April_OP\u001b[0m\u001b[1;33m[\u001b[0m\u001b[1;34m'Rating_By_Range'\u001b[0m\u001b[1;33m]\u001b[0m \u001b[1;33m=\u001b[0m \u001b[0mpd\u001b[0m\u001b[1;33m.\u001b[0m\u001b[0mcut\u001b[0m\u001b[1;33m(\u001b[0m\u001b[0mlisting_2019_April_OP\u001b[0m\u001b[1;33m.\u001b[0m\u001b[0mprice\u001b[0m\u001b[1;33m,\u001b[0m \u001b[0mbins\u001b[0m\u001b[1;33m,\u001b[0m \u001b[0mlabels\u001b[0m \u001b[1;33m=\u001b[0m \u001b[0mlabels\u001b[0m\u001b[1;33m,\u001b[0m\u001b[0minclude_lowest\u001b[0m \u001b[1;33m=\u001b[0m \u001b[1;32mTrue\u001b[0m\u001b[1;33m)\u001b[0m\u001b[1;33m\u001b[0m\u001b[1;33m\u001b[0m\u001b[0m\n\u001b[0m\u001b[0;32m      5\u001b[0m \u001b[1;33m\u001b[0m\u001b[0m\n\u001b[0;32m      6\u001b[0m \u001b[0mlisting_2019_April_OP\u001b[0m\u001b[1;33m.\u001b[0m\u001b[0mhead\u001b[0m\u001b[1;33m(\u001b[0m\u001b[1;36m5\u001b[0m\u001b[1;33m)\u001b[0m\u001b[1;33m\u001b[0m\u001b[1;33m\u001b[0m\u001b[0m\n",
      "\u001b[1;31mNameError\u001b[0m: name 'listing_2019_April_OP' is not defined"
     ]
    }
   ],
   "source": [
    "#I want to group my Reviews \n",
    "bins = [ 0, 26, 51, 76, 86, 96, 100] #Here I create pricing groups\n",
    "labels = ['0-25.0', '26.0-50.0', '51.0-75.0', '76.0-85.0', '86.0-95.0', '96+']\n",
    "listing_2019_April_OP['Rating_By_Range'] = pd.cut(listing_2019_April_OP.price, bins, labels = labels,include_lowest = True)\n",
    "\n",
    "listing_2019_April_OP.head(5)"
   ]
  },
  {
   "cell_type": "code",
   "execution_count": 73,
   "metadata": {},
   "outputs": [
    {
     "ename": "NameError",
     "evalue": "name 'listing_2019_April_OP' is not defined",
     "output_type": "error",
     "traceback": [
      "\u001b[1;31m---------------------------------------------------------------------------\u001b[0m",
      "\u001b[1;31mNameError\u001b[0m                                 Traceback (most recent call last)",
      "\u001b[1;32m<ipython-input-73-737571f1e3dc>\u001b[0m in \u001b[0;36m<module>\u001b[1;34m\u001b[0m\n\u001b[1;32m----> 1\u001b[1;33m \u001b[0mlisting_2019_April_OP\u001b[0m\u001b[1;33m.\u001b[0m\u001b[0mgroupby\u001b[0m\u001b[1;33m(\u001b[0m\u001b[1;33m[\u001b[0m\u001b[1;34m'property_type'\u001b[0m\u001b[1;33m]\u001b[0m\u001b[1;33m)\u001b[0m\u001b[1;33m.\u001b[0m\u001b[0magg\u001b[0m\u001b[1;33m(\u001b[0m\u001b[1;33m{\u001b[0m\u001b[1;34m'id'\u001b[0m\u001b[1;33m:\u001b[0m\u001b[1;34m'count'\u001b[0m\u001b[1;33m}\u001b[0m\u001b[1;33m)\u001b[0m \u001b[1;31m#Let's see how many types of property we have by listings ID\u001b[0m\u001b[1;33m\u001b[0m\u001b[1;33m\u001b[0m\u001b[0m\n\u001b[0m",
      "\u001b[1;31mNameError\u001b[0m: name 'listing_2019_April_OP' is not defined"
     ]
    }
   ],
   "source": [
    "listing_2019_April_OP.groupby(['property_type']).agg({'id':'count'}) #Let's see how many types of property we have by listings ID"
   ]
  },
  {
   "cell_type": "code",
   "execution_count": 74,
   "metadata": {},
   "outputs": [
    {
     "ename": "NameError",
     "evalue": "name 'listing_2019_April' is not defined",
     "output_type": "error",
     "traceback": [
      "\u001b[1;31m---------------------------------------------------------------------------\u001b[0m",
      "\u001b[1;31mNameError\u001b[0m                                 Traceback (most recent call last)",
      "\u001b[1;32m<ipython-input-74-537bd2c1ce12>\u001b[0m in \u001b[0;36m<module>\u001b[1;34m\u001b[0m\n\u001b[1;32m----> 1\u001b[1;33m \u001b[0mlisting_2019_April\u001b[0m\u001b[1;33m.\u001b[0m\u001b[0mOP\u001b[0m\u001b[1;33m.\u001b[0m\u001b[0mgroupby\u001b[0m\u001b[1;33m(\u001b[0m\u001b[1;33m[\u001b[0m\u001b[1;34m'property_type'\u001b[0m\u001b[1;33m,\u001b[0m \u001b[1;34m'room_type'\u001b[0m\u001b[1;33m]\u001b[0m\u001b[1;33m)\u001b[0m\u001b[1;33m.\u001b[0m\u001b[0magg\u001b[0m\u001b[1;33m(\u001b[0m\u001b[1;33m{\u001b[0m\u001b[1;34m'id'\u001b[0m\u001b[1;33m:\u001b[0m\u001b[1;34m'count'\u001b[0m\u001b[1;33m}\u001b[0m\u001b[1;33m)\u001b[0m \u001b[1;31m#Now let's break it down by room type\u001b[0m\u001b[1;33m\u001b[0m\u001b[1;33m\u001b[0m\u001b[0m\n\u001b[0m",
      "\u001b[1;31mNameError\u001b[0m: name 'listing_2019_April' is not defined"
     ]
    }
   ],
   "source": [
    "listing_2019_April.OP.groupby(['property_type', 'room_type']).agg({'id':'count'}) #Now let's break it down by room type"
   ]
  },
  {
   "cell_type": "code",
   "execution_count": 75,
   "metadata": {},
   "outputs": [
    {
     "ename": "NameError",
     "evalue": "name 'listing_2019_April' is not defined",
     "output_type": "error",
     "traceback": [
      "\u001b[1;31m---------------------------------------------------------------------------\u001b[0m",
      "\u001b[1;31mNameError\u001b[0m                                 Traceback (most recent call last)",
      "\u001b[1;32m<ipython-input-75-1ab9f9453b58>\u001b[0m in \u001b[0;36m<module>\u001b[1;34m\u001b[0m\n\u001b[0;32m      4\u001b[0m \u001b[1;33m\u001b[0m\u001b[0m\n\u001b[0;32m      5\u001b[0m \u001b[1;31m# Draw a nested barplot to show Churn levels by Salary and Age\u001b[0m\u001b[1;33m\u001b[0m\u001b[1;33m\u001b[0m\u001b[1;33m\u001b[0m\u001b[0m\n\u001b[1;32m----> 6\u001b[1;33m g = sns.catplot(x=\"rating_ind\", y=\"room_type\", hue=\"GroupedbyPriceRange\", data=listing_2019_April.OP,\n\u001b[0m\u001b[0;32m      7\u001b[0m                 height=6, kind=\"bar\", palette=\"muted\")\n\u001b[0;32m      8\u001b[0m \u001b[0mg\u001b[0m\u001b[1;33m.\u001b[0m\u001b[0mdespine\u001b[0m\u001b[1;33m(\u001b[0m\u001b[0mleft\u001b[0m\u001b[1;33m=\u001b[0m\u001b[1;32mTrue\u001b[0m\u001b[1;33m)\u001b[0m\u001b[1;33m\u001b[0m\u001b[1;33m\u001b[0m\u001b[0m\n",
      "\u001b[1;31mNameError\u001b[0m: name 'listing_2019_April' is not defined"
     ]
    }
   ],
   "source": [
    "import seaborn as sns #Here we look at Types of Rentals by both Price Groupings and how highly they were rated\n",
    "sns.set(style=\"whitegrid\")\n",
    "cmap = sns.cubehelix_palette(12, start=.5, rot=-.85, as_cmap=True)\n",
    "\n",
    "# Draw a nested barplot to show Churn levels by Salary and Age\n",
    "g = sns.catplot(x=\"rating_ind\", y=\"room_type\", hue=\"GroupedbyPriceRange\", data=listing_2019_April.OP,\n",
    "                height=6, kind=\"bar\", palette=\"muted\")\n",
    "g.despine(left=True)\n",
    "g.set_ylabels(\"Grouped by Price Range\")"
   ]
  },
  {
   "cell_type": "code",
   "execution_count": null,
   "metadata": {},
   "outputs": [],
   "source": []
  },
  {
   "cell_type": "code",
   "execution_count": 76,
   "metadata": {},
   "outputs": [],
   "source": [
    "#Here I wish to review the types of amenities the properites have but first I must clean my data"
   ]
  },
  {
   "cell_type": "code",
   "execution_count": 77,
   "metadata": {},
   "outputs": [
    {
     "ename": "NameError",
     "evalue": "name 'listing_2019_April' is not defined",
     "output_type": "error",
     "traceback": [
      "\u001b[1;31m---------------------------------------------------------------------------\u001b[0m",
      "\u001b[1;31mNameError\u001b[0m                                 Traceback (most recent call last)",
      "\u001b[1;32m<ipython-input-77-a54d4fbfe274>\u001b[0m in \u001b[0;36m<module>\u001b[1;34m\u001b[0m\n\u001b[1;32m----> 1\u001b[1;33m \u001b[0mlisting_2019_April\u001b[0m\u001b[1;33m.\u001b[0m\u001b[0mOP\u001b[0m\u001b[1;33m.\u001b[0m\u001b[0mhead\u001b[0m\u001b[1;33m(\u001b[0m\u001b[1;36m5\u001b[0m\u001b[1;33m)\u001b[0m\u001b[1;33m\u001b[0m\u001b[1;33m\u001b[0m\u001b[0m\n\u001b[0m",
      "\u001b[1;31mNameError\u001b[0m: name 'listing_2019_April' is not defined"
     ]
    }
   ],
   "source": [
    "listing_2019_April.OP.head(5)"
   ]
  },
  {
   "cell_type": "code",
   "execution_count": 78,
   "metadata": {},
   "outputs": [
    {
     "ename": "NameError",
     "evalue": "name 'listing_2019_April' is not defined",
     "output_type": "error",
     "traceback": [
      "\u001b[1;31m---------------------------------------------------------------------------\u001b[0m",
      "\u001b[1;31mNameError\u001b[0m                                 Traceback (most recent call last)",
      "\u001b[1;32m<ipython-input-78-8b4d44982525>\u001b[0m in \u001b[0;36m<module>\u001b[1;34m\u001b[0m\n\u001b[0;32m      1\u001b[0m \u001b[1;31m#Here  I am curious to see how many Property Types there are:\u001b[0m\u001b[1;33m\u001b[0m\u001b[1;33m\u001b[0m\u001b[1;33m\u001b[0m\u001b[0m\n\u001b[1;32m----> 2\u001b[1;33m \u001b[0mlisting_2019_April\u001b[0m\u001b[1;33m.\u001b[0m\u001b[0mOP\u001b[0m\u001b[1;33m.\u001b[0m\u001b[0mgroupby\u001b[0m\u001b[1;33m(\u001b[0m\u001b[1;34m'property_type'\u001b[0m\u001b[1;33m)\u001b[0m\u001b[1;33m.\u001b[0m\u001b[0mid\u001b[0m\u001b[1;33m.\u001b[0m\u001b[0mcount\u001b[0m\u001b[1;33m(\u001b[0m\u001b[1;33m)\u001b[0m\u001b[1;33m\u001b[0m\u001b[1;33m\u001b[0m\u001b[0m\n\u001b[0m",
      "\u001b[1;31mNameError\u001b[0m: name 'listing_2019_April' is not defined"
     ]
    }
   ],
   "source": [
    "#Here  I am curious to see how many Property Types there are:\n",
    "listing_2019_April.OP.groupby('property_type').id.count()"
   ]
  },
  {
   "cell_type": "code",
   "execution_count": 79,
   "metadata": {
    "scrolled": true
   },
   "outputs": [
    {
     "ename": "NameError",
     "evalue": "name 'listing_2019_April' is not defined",
     "output_type": "error",
     "traceback": [
      "\u001b[1;31m---------------------------------------------------------------------------\u001b[0m",
      "\u001b[1;31mNameError\u001b[0m                                 Traceback (most recent call last)",
      "\u001b[1;32m<ipython-input-79-002fec75e377>\u001b[0m in \u001b[0;36m<module>\u001b[1;34m\u001b[0m\n\u001b[1;32m----> 1\u001b[1;33m \u001b[0mPrice_By_Type\u001b[0m \u001b[1;33m=\u001b[0m \u001b[0mlisting_2019_April\u001b[0m\u001b[1;33m.\u001b[0m\u001b[0mOP\u001b[0m\u001b[1;33m.\u001b[0m\u001b[0msort_values\u001b[0m\u001b[1;33m(\u001b[0m\u001b[0mby\u001b[0m\u001b[1;33m=\u001b[0m\u001b[1;34m'property_type'\u001b[0m\u001b[1;33m)\u001b[0m\u001b[1;33m\u001b[0m\u001b[1;33m\u001b[0m\u001b[0m\n\u001b[0m\u001b[0;32m      2\u001b[0m \u001b[1;33m\u001b[0m\u001b[0m\n\u001b[0;32m      3\u001b[0m \u001b[0mfig\u001b[0m \u001b[1;33m=\u001b[0m \u001b[0mplt\u001b[0m\u001b[1;33m.\u001b[0m\u001b[0mfigure\u001b[0m\u001b[1;33m(\u001b[0m\u001b[0mfigsize\u001b[0m\u001b[1;33m=\u001b[0m\u001b[1;33m(\u001b[0m\u001b[1;36m21\u001b[0m\u001b[1;33m,\u001b[0m\u001b[1;36m16\u001b[0m\u001b[1;33m)\u001b[0m\u001b[1;33m)\u001b[0m\u001b[1;33m\u001b[0m\u001b[1;33m\u001b[0m\u001b[0m\n\u001b[0;32m      4\u001b[0m \u001b[1;33m\u001b[0m\u001b[0m\n\u001b[0;32m      5\u001b[0m \u001b[0max\u001b[0m \u001b[1;33m=\u001b[0m \u001b[0msns\u001b[0m\u001b[1;33m.\u001b[0m\u001b[0mbarplot\u001b[0m\u001b[1;33m(\u001b[0m \u001b[0mx\u001b[0m\u001b[1;33m=\u001b[0m\u001b[1;34m'property_type'\u001b[0m\u001b[1;33m,\u001b[0m \u001b[0my\u001b[0m\u001b[1;33m=\u001b[0m\u001b[1;34m'price'\u001b[0m\u001b[1;33m,\u001b[0m \u001b[0mdata\u001b[0m\u001b[1;33m=\u001b[0m\u001b[0mPrice_By_Type\u001b[0m\u001b[1;33m,\u001b[0m \u001b[0mpalette\u001b[0m\u001b[1;33m=\u001b[0m\u001b[1;34m\"rocket\"\u001b[0m\u001b[1;33m)\u001b[0m \u001b[1;31m#change palette try\u001b[0m\u001b[1;33m\u001b[0m\u001b[1;33m\u001b[0m\u001b[0m\n",
      "\u001b[1;31mNameError\u001b[0m: name 'listing_2019_April' is not defined"
     ]
    }
   ],
   "source": [
    "\n",
    "\n",
    "Price_By_Type = listing_2019_April.OP.sort_values(by='property_type')\n",
    "\n",
    "fig = plt.figure(figsize=(21,16))\n",
    "\n",
    "ax = sns.barplot( x='property_type', y='price', data=Price_By_Type, palette=\"rocket\") #change palette try\n",
    "ax.set_title('Price by Property Type', fontsize=18) \n",
    "ax.set_xlabel('Property Type', fontsize=20) \n",
    "ax.set_ylabel('Average Price', fontsize=18) \n",
    "ax.set_xticklabels(labels=Price_By_Type['property_type'].unique(), rotation=90) \n"
   ]
  },
  {
   "cell_type": "code",
   "execution_count": 80,
   "metadata": {},
   "outputs": [
    {
     "ename": "IndentationError",
     "evalue": "unexpected indent (<ipython-input-80-68bd1e826cc9>, line 6)",
     "output_type": "error",
     "traceback": [
      "\u001b[1;36m  File \u001b[1;32m\"<ipython-input-80-68bd1e826cc9>\"\u001b[1;36m, line \u001b[1;32m6\u001b[0m\n\u001b[1;33m    sns.boxplot(y='price', x='bed_type', data=listings.loc[(listings.price <= 600) & (listings.price > 0)], order=sort_price)\u001b[0m\n\u001b[1;37m    ^\u001b[0m\n\u001b[1;31mIndentationError\u001b[0m\u001b[1;31m:\u001b[0m unexpected indent\n"
     ]
    }
   ],
   "source": [
    "sort_price = listing_2019_April.OP.loc[(listing_2019_April.OP.price <= 800) & (listing_2019_April.OP.price > 20)]\\\n",
    "\t                    .groupby('bed_type')['price']\\\n",
    "\t                    .median()\\\n",
    "\t                    .sort_values(ascending=False)\\\n",
    "\t                    .index\n",
    "\tsns.boxplot(y='price', x='bed_type', data=listings.loc[(listings.price <= 600) & (listings.price > 0)], order=sort_price)\n",
    "\tax = plt.gca()\n",
    "\tax.set_xticklabels(ax.get_xticklabels(), rotation=45, ha='right')\n",
    "\tplt.show();\n",
    "\n"
   ]
  },
  {
   "cell_type": "code",
   "execution_count": 81,
   "metadata": {},
   "outputs": [
    {
     "ename": "NameError",
     "evalue": "name 'listing_2019_April' is not defined",
     "output_type": "error",
     "traceback": [
      "\u001b[1;31m---------------------------------------------------------------------------\u001b[0m",
      "\u001b[1;31mNameError\u001b[0m                                 Traceback (most recent call last)",
      "\u001b[1;32m<ipython-input-81-cd209f612cf8>\u001b[0m in \u001b[0;36m<module>\u001b[1;34m\u001b[0m\n\u001b[0;32m      1\u001b[0m \u001b[0mplt\u001b[0m\u001b[1;33m.\u001b[0m\u001b[0mfigure\u001b[0m\u001b[1;33m(\u001b[0m\u001b[0mfigsize\u001b[0m\u001b[1;33m=\u001b[0m\u001b[1;33m(\u001b[0m\u001b[1;36m12\u001b[0m\u001b[1;33m,\u001b[0m\u001b[1;36m6\u001b[0m\u001b[1;33m)\u001b[0m\u001b[1;33m)\u001b[0m \u001b[1;31m#let's see a distribution of ratings\u001b[0m\u001b[1;33m\u001b[0m\u001b[1;33m\u001b[0m\u001b[0m\n\u001b[1;32m----> 2\u001b[1;33m \u001b[0msns\u001b[0m\u001b[1;33m.\u001b[0m\u001b[0mdistplot\u001b[0m\u001b[1;33m(\u001b[0m\u001b[0mlisting_2019_April\u001b[0m\u001b[1;33m.\u001b[0m\u001b[0mOP\u001b[0m\u001b[1;33m.\u001b[0m\u001b[0mreview_scores_rating\u001b[0m\u001b[1;33m.\u001b[0m\u001b[0mdropna\u001b[0m\u001b[1;33m(\u001b[0m\u001b[1;33m)\u001b[0m\u001b[1;33m,\u001b[0m \u001b[0mrug\u001b[0m\u001b[1;33m=\u001b[0m\u001b[1;32mTrue\u001b[0m\u001b[1;33m)\u001b[0m\u001b[1;33m\u001b[0m\u001b[1;33m\u001b[0m\u001b[0m\n\u001b[0m\u001b[0;32m      3\u001b[0m \u001b[0msns\u001b[0m\u001b[1;33m.\u001b[0m\u001b[0mdespine\u001b[0m\u001b[1;33m(\u001b[0m\u001b[1;33m)\u001b[0m\u001b[1;33m\u001b[0m\u001b[1;33m\u001b[0m\u001b[0m\n\u001b[0;32m      4\u001b[0m \u001b[0mplt\u001b[0m\u001b[1;33m.\u001b[0m\u001b[0mshow\u001b[0m\u001b[1;33m(\u001b[0m\u001b[1;33m)\u001b[0m\u001b[1;33m;\u001b[0m\u001b[1;33m\u001b[0m\u001b[1;33m\u001b[0m\u001b[0m\n",
      "\u001b[1;31mNameError\u001b[0m: name 'listing_2019_April' is not defined"
     ]
    },
    {
     "data": {
      "text/plain": [
       "<Figure size 864x432 with 0 Axes>"
      ]
     },
     "metadata": {},
     "output_type": "display_data"
    }
   ],
   "source": [
    "plt.figure(figsize=(12,6)) #let's see a distribution of ratings\n",
    "sns.distplot(listing_2019_April.OP.review_scores_rating.dropna(), rug=True)\n",
    "sns.despine()\n",
    "plt.show();\n"
   ]
  },
  {
   "cell_type": "code",
   "execution_count": 82,
   "metadata": {},
   "outputs": [
    {
     "ename": "NameError",
     "evalue": "name 'listing_2019_April' is not defined",
     "output_type": "error",
     "traceback": [
      "\u001b[1;31m---------------------------------------------------------------------------\u001b[0m",
      "\u001b[1;31mNameError\u001b[0m                                 Traceback (most recent call last)",
      "\u001b[1;32m<ipython-input-82-8e9b25ee26bc>\u001b[0m in \u001b[0;36m<module>\u001b[1;34m\u001b[0m\n\u001b[1;32m----> 1\u001b[1;33m \u001b[0msns\u001b[0m\u001b[1;33m.\u001b[0m\u001b[0mboxplot\u001b[0m\u001b[1;33m(\u001b[0m\u001b[0mx\u001b[0m\u001b[1;33m=\u001b[0m\u001b[0mlisting_2019_April\u001b[0m\u001b[1;33m.\u001b[0m\u001b[0mOP\u001b[0m\u001b[1;33m[\u001b[0m\u001b[1;34m'rating_ind'\u001b[0m\u001b[1;33m]\u001b[0m\u001b[1;33m,\u001b[0m \u001b[0my\u001b[0m\u001b[1;33m=\u001b[0m\u001b[0mlisting_2019_April\u001b[0m\u001b[1;33m.\u001b[0m\u001b[0mOP\u001b[0m\u001b[1;33m[\u001b[0m\u001b[1;34m'price'\u001b[0m\u001b[1;33m]\u001b[0m\u001b[1;33m,\u001b[0m \u001b[0mshowmeans\u001b[0m\u001b[1;33m=\u001b[0m\u001b[1;32mTrue\u001b[0m\u001b[1;33m)\u001b[0m\u001b[1;33m\u001b[0m\u001b[1;33m\u001b[0m\u001b[0m\n\u001b[0m\u001b[0;32m      2\u001b[0m \u001b[0mplt\u001b[0m\u001b[1;33m.\u001b[0m\u001b[0mtitle\u001b[0m\u001b[1;33m(\u001b[0m\u001b[1;34m'Rating Indicator vs Price'\u001b[0m\u001b[1;33m,\u001b[0m\u001b[0mfontsize\u001b[0m\u001b[1;33m=\u001b[0m\u001b[1;36m20\u001b[0m \u001b[1;33m)\u001b[0m\u001b[1;33m\u001b[0m\u001b[1;33m\u001b[0m\u001b[0m\n\u001b[0;32m      3\u001b[0m \u001b[0mplt\u001b[0m\u001b[1;33m.\u001b[0m\u001b[0mxticks\u001b[0m\u001b[1;33m(\u001b[0m\u001b[1;33m[\u001b[0m\u001b[1;36m0\u001b[0m\u001b[1;33m,\u001b[0m\u001b[1;36m1\u001b[0m\u001b[1;33m]\u001b[0m\u001b[1;33m,\u001b[0m\u001b[1;33m[\u001b[0m\u001b[1;34m'Unrated Properties'\u001b[0m\u001b[1;33m,\u001b[0m \u001b[1;34m'Rated Properties'\u001b[0m\u001b[1;33m]\u001b[0m\u001b[1;33m)\u001b[0m\u001b[1;33m\u001b[0m\u001b[1;33m\u001b[0m\u001b[0m\n\u001b[0;32m      4\u001b[0m \u001b[0mplt\u001b[0m\u001b[1;33m.\u001b[0m\u001b[0mshow\u001b[0m\u001b[1;33m(\u001b[0m\u001b[1;33m)\u001b[0m\u001b[1;33m\u001b[0m\u001b[1;33m\u001b[0m\u001b[0m\n",
      "\u001b[1;31mNameError\u001b[0m: name 'listing_2019_April' is not defined"
     ]
    }
   ],
   "source": [
    "sns.boxplot(x=listing_2019_April.OP['rating_ind'], y=listing_2019_April.OP['price'], showmeans=True)\n",
    "plt.title('Rating Indicator vs Price',fontsize=20 )\n",
    "plt.xticks([0,1],['Unrated Properties', 'Rated Properties'])\n",
    "plt.show()"
   ]
  },
  {
   "cell_type": "code",
   "execution_count": 83,
   "metadata": {
    "scrolled": true
   },
   "outputs": [
    {
     "ename": "NameError",
     "evalue": "name 'listing_2019_April' is not defined",
     "output_type": "error",
     "traceback": [
      "\u001b[1;31m---------------------------------------------------------------------------\u001b[0m",
      "\u001b[1;31mNameError\u001b[0m                                 Traceback (most recent call last)",
      "\u001b[1;32m<ipython-input-83-fbd9a264bc8a>\u001b[0m in \u001b[0;36m<module>\u001b[1;34m\u001b[0m\n\u001b[1;32m----> 1\u001b[1;33m listing_2019_April.OP.drop(columns=['latitude', 'longitude', #Here I drop columns that are not relevant to my analysis\n\u001b[0m\u001b[0;32m      2\u001b[0m                              \u001b[1;34m'availability_365'\u001b[0m\u001b[1;33m,\u001b[0m\u001b[1;33m\u001b[0m\u001b[1;33m\u001b[0m\u001b[0m\n\u001b[0;32m      3\u001b[0m                              \u001b[1;34m'calculated_host_listings_count'\u001b[0m\u001b[1;33m,\u001b[0m\u001b[1;33m\u001b[0m\u001b[1;33m\u001b[0m\u001b[0m\n\u001b[0;32m      4\u001b[0m                              \u001b[1;34m'number_of_reviews'\u001b[0m\u001b[1;33m,\u001b[0m\u001b[1;33m\u001b[0m\u001b[1;33m\u001b[0m\u001b[0m\n\u001b[0;32m      5\u001b[0m                              'reviews_per_month']).hist(bins=50, figsize=(16, 10),color='green',\n",
      "\u001b[1;31mNameError\u001b[0m: name 'listing_2019_April' is not defined"
     ]
    }
   ],
   "source": [
    "listing_2019_April.OP.drop(columns=['latitude', 'longitude', #Here I drop columns that are not relevant to my analysis\n",
    "                             'availability_365',\n",
    "                             'calculated_host_listings_count',\n",
    "                             'number_of_reviews',\n",
    "                             'reviews_per_month']).hist(bins=50, figsize=(16, 10),color='green',\n",
    "                                                        cumulative=True, density=True)\n",
    "plt.subplots_adjust(hspace=0.2)\n",
    "plt.show()\n",
    "# plt.savefig('2019_04-data-description.png', bbox_inches='tight')"
   ]
  },
  {
   "cell_type": "markdown",
   "metadata": {},
   "source": [
    "According to the histograms above, we find that in Paris 50% of each of the locations are able to accommodate at minumum of  2 persons, the review scores rating is 100/100 (Scores are from 0 to 100%) for 18% locations, nearly 50% locations need clients to reserve at least 2 nights. Moreover, the most important point, the price of one night is less than $100 for 50% locations."
   ]
  },
  {
   "cell_type": "code",
   "execution_count": 84,
   "metadata": {},
   "outputs": [
    {
     "ename": "NameError",
     "evalue": "name 'listing_2019_April' is not defined",
     "output_type": "error",
     "traceback": [
      "\u001b[1;31m---------------------------------------------------------------------------\u001b[0m",
      "\u001b[1;31mNameError\u001b[0m                                 Traceback (most recent call last)",
      "\u001b[1;32m<ipython-input-84-6da1f1fd1920>\u001b[0m in \u001b[0;36m<module>\u001b[1;34m\u001b[0m\n\u001b[1;32m----> 1\u001b[1;33m plt.hist(listing_2019_April.OP[\"accommodates\"],  #Here we notice the majority of the rentals are for 2 persons\n\u001b[0m\u001b[0;32m      2\u001b[0m         \u001b[0mfacecolor\u001b[0m\u001b[1;33m=\u001b[0m\u001b[1;34m\"peru\"\u001b[0m\u001b[1;33m,\u001b[0m\u001b[1;33m\u001b[0m\u001b[1;33m\u001b[0m\u001b[0m\n\u001b[0;32m      3\u001b[0m         \u001b[0medgecolor\u001b[0m\u001b[1;33m=\u001b[0m\u001b[1;34m\"blue\"\u001b[0m\u001b[1;33m,\u001b[0m\u001b[1;33m\u001b[0m\u001b[1;33m\u001b[0m\u001b[0m\n\u001b[0;32m      4\u001b[0m         \u001b[0mbins\u001b[0m \u001b[1;33m=\u001b[0m \u001b[1;36m16\u001b[0m\u001b[1;33m,\u001b[0m\u001b[1;33m\u001b[0m\u001b[1;33m\u001b[0m\u001b[0m\n\u001b[0;32m      5\u001b[0m         range = (0, 16))\n",
      "\u001b[1;31mNameError\u001b[0m: name 'listing_2019_April' is not defined"
     ]
    }
   ],
   "source": [
    "plt.hist(listing_2019_April.OP[\"accommodates\"],  #Here we notice the majority of the rentals are for 2 persons\n",
    "        facecolor=\"peru\",\n",
    "        edgecolor=\"blue\",\n",
    "        bins = 16,\n",
    "        range = (0, 16))\n",
    "plt.show()"
   ]
  },
  {
   "cell_type": "code",
   "execution_count": 85,
   "metadata": {},
   "outputs": [
    {
     "ename": "NameError",
     "evalue": "name 'listing_2019_April' is not defined",
     "output_type": "error",
     "traceback": [
      "\u001b[1;31m---------------------------------------------------------------------------\u001b[0m",
      "\u001b[1;31mNameError\u001b[0m                                 Traceback (most recent call last)",
      "\u001b[1;32m<ipython-input-85-8839c11e782e>\u001b[0m in \u001b[0;36m<module>\u001b[1;34m\u001b[0m\n\u001b[0;32m      3\u001b[0m \u001b[0mAIRBNB_CIRCLE\u001b[0m \u001b[1;33m=\u001b[0m \u001b[0mplt\u001b[0m\u001b[1;33m.\u001b[0m\u001b[0mCircle\u001b[0m\u001b[1;33m(\u001b[0m\u001b[1;33m(\u001b[0m\u001b[1;36m0\u001b[0m\u001b[1;33m,\u001b[0m \u001b[1;36m0\u001b[0m\u001b[1;33m)\u001b[0m\u001b[1;33m,\u001b[0m \u001b[1;36m0.7\u001b[0m\u001b[1;33m,\u001b[0m \u001b[0mcolor\u001b[0m\u001b[1;33m=\u001b[0m\u001b[1;34m'white'\u001b[0m\u001b[1;33m)\u001b[0m\u001b[1;33m\u001b[0m\u001b[1;33m\u001b[0m\u001b[0m\n\u001b[0;32m      4\u001b[0m \u001b[1;33m\u001b[0m\u001b[0m\n\u001b[1;32m----> 5\u001b[1;33m d = plt.pie(listing_2019_April.OP.groupby(['room_type'])['id'].nunique().reset_index().id,\n\u001b[0m\u001b[0;32m      6\u001b[0m             \u001b[0mlabels\u001b[0m\u001b[1;33m=\u001b[0m\u001b[0mlisting_2019_April\u001b[0m\u001b[1;33m.\u001b[0m\u001b[0mOP\u001b[0m\u001b[1;33m.\u001b[0m\u001b[0mroom_type\u001b[0m\u001b[1;33m.\u001b[0m\u001b[0munique\u001b[0m\u001b[1;33m(\u001b[0m\u001b[1;33m)\u001b[0m\u001b[1;33m,\u001b[0m\u001b[1;33m\u001b[0m\u001b[1;33m\u001b[0m\u001b[0m\n\u001b[0;32m      7\u001b[0m             \u001b[0mautopct\u001b[0m\u001b[1;33m=\u001b[0m\u001b[1;34m'%1.1f%%'\u001b[0m\u001b[1;33m,\u001b[0m\u001b[1;33m\u001b[0m\u001b[1;33m\u001b[0m\u001b[0m\n",
      "\u001b[1;31mNameError\u001b[0m: name 'listing_2019_April' is not defined"
     ]
    },
    {
     "data": {
      "text/plain": [
       "<Figure size 504x504 with 0 Axes>"
      ]
     },
     "metadata": {},
     "output_type": "display_data"
    }
   ],
   "source": [
    "plt.figure(figsize=(7, 7)) #Here we notice that 86.4 % entire full apartments \n",
    "\n",
    "AIRBNB_CIRCLE = plt.Circle((0, 0), 0.7, color='white')\n",
    "\n",
    "d = plt.pie(listing_2019_April.OP.groupby(['room_type'])['id'].nunique().reset_index().id,\n",
    "            labels=listing_2019_April.OP.room_type.unique(),\n",
    "            autopct='%1.1f%%',\n",
    "            startangle=90,\n",
    "            labeldistance=1.1)\n",
    "plt.axis('equal')\n",
    "plt.gca().add_artist(AIRBNB_CIRCLE)\n",
    "\n",
    "for i, (a, b, c) in enumerate(d):\n",
    "    if i > 0:\n",
    "        a.set_fontsize(18)\n",
    "        b.set_fontsize(18)\n",
    "        c.set_fontsize(18)"
   ]
  },
  {
   "cell_type": "code",
   "execution_count": 86,
   "metadata": {},
   "outputs": [
    {
     "ename": "NameError",
     "evalue": "name 'listing_2019_April_OP' is not defined",
     "output_type": "error",
     "traceback": [
      "\u001b[1;31m---------------------------------------------------------------------------\u001b[0m",
      "\u001b[1;31mNameError\u001b[0m                                 Traceback (most recent call last)",
      "\u001b[1;32m<ipython-input-86-5ddc7fed0d6a>\u001b[0m in \u001b[0;36m<module>\u001b[1;34m\u001b[0m\n\u001b[1;32m----> 1\u001b[1;33m \u001b[0mlisting_2019_April_OP\u001b[0m\u001b[1;33m.\u001b[0m\u001b[0mgroupby\u001b[0m\u001b[1;33m(\u001b[0m\u001b[1;34m'host_id'\u001b[0m\u001b[1;33m)\u001b[0m\u001b[1;33m[\u001b[0m\u001b[1;34m'id'\u001b[0m\u001b[1;33m]\u001b[0m\u001b[1;33m.\u001b[0m\u001b[0mnunique\u001b[0m\u001b[1;33m(\u001b[0m\u001b[1;33m)\u001b[0m\u001b[1;33m.\u001b[0m\u001b[0mreset_index\u001b[0m\u001b[1;33m(\u001b[0m\u001b[1;33m)\u001b[0m\u001b[1;33m.\u001b[0m\u001b[0mdescribe\u001b[0m\u001b[1;33m(\u001b[0m\u001b[0mpercentiles\u001b[0m\u001b[1;33m=\u001b[0m\u001b[1;33m(\u001b[0m\u001b[1;36m0.75\u001b[0m\u001b[1;33m,\u001b[0m \u001b[1;36m0.95\u001b[0m\u001b[1;33m)\u001b[0m\u001b[1;33m)\u001b[0m \u001b[1;31m#From this data it looks like 5% of the hosts in Paris rent more than one location\u001b[0m\u001b[1;33m\u001b[0m\u001b[1;33m\u001b[0m\u001b[0m\n\u001b[0m",
      "\u001b[1;31mNameError\u001b[0m: name 'listing_2019_April_OP' is not defined"
     ]
    }
   ],
   "source": [
    "listing_2019_April_OP.groupby('host_id')['id'].nunique().reset_index().describe(percentiles=(0.75, 0.95)) #From this data it looks like 5% of the hosts in Paris rent more than one location"
   ]
  },
  {
   "cell_type": "markdown",
   "metadata": {},
   "source": [
    " # Here I create a new list where I group by neighborhoods and their listing ids associated listing id so we can see # of listings by neighborhood"
   ]
  },
  {
   "cell_type": "code",
   "execution_count": 87,
   "metadata": {},
   "outputs": [
    {
     "ename": "NameError",
     "evalue": "name 'listing_2019_April_OP' is not defined",
     "output_type": "error",
     "traceback": [
      "\u001b[1;31m---------------------------------------------------------------------------\u001b[0m",
      "\u001b[1;31mNameError\u001b[0m                                 Traceback (most recent call last)",
      "\u001b[1;32m<ipython-input-87-adae0bd8b10d>\u001b[0m in \u001b[0;36m<module>\u001b[1;34m\u001b[0m\n\u001b[1;32m----> 1\u001b[1;33m \u001b[0mnbh_count_2019_04_OP\u001b[0m \u001b[1;33m=\u001b[0m \u001b[0mlisting_2019_April_OP\u001b[0m\u001b[1;33m.\u001b[0m\u001b[0mgroupby\u001b[0m\u001b[1;33m(\u001b[0m\u001b[1;34m'neighbourhood'\u001b[0m\u001b[1;33m)\u001b[0m\u001b[1;33m[\u001b[0m\u001b[1;34m'id'\u001b[0m\u001b[1;33m]\u001b[0m\u001b[1;33m.\u001b[0m\u001b[0mnunique\u001b[0m\u001b[1;33m(\u001b[0m\u001b[1;33m)\u001b[0m\u001b[1;33m.\u001b[0m\u001b[0mreset_index\u001b[0m\u001b[1;33m(\u001b[0m\u001b[1;33m)\u001b[0m\u001b[1;33m\u001b[0m\u001b[1;33m\u001b[0m\u001b[0m\n\u001b[0m\u001b[0;32m      2\u001b[0m \u001b[0mnbh_count_2019_04_OP\u001b[0m\u001b[1;33m.\u001b[0m\u001b[0mrename\u001b[0m\u001b[1;33m(\u001b[0m\u001b[0mcolumns\u001b[0m\u001b[1;33m=\u001b[0m\u001b[1;33m{\u001b[0m\u001b[1;34m'id'\u001b[0m\u001b[1;33m:\u001b[0m\u001b[1;34m'nb'\u001b[0m\u001b[1;33m}\u001b[0m\u001b[1;33m,\u001b[0m \u001b[0minplace\u001b[0m\u001b[1;33m=\u001b[0m\u001b[1;32mTrue\u001b[0m\u001b[1;33m)\u001b[0m \u001b[1;31m#nb=an airbnb listing\u001b[0m\u001b[1;33m\u001b[0m\u001b[1;33m\u001b[0m\u001b[0m\n",
      "\u001b[1;31mNameError\u001b[0m: name 'listing_2019_April_OP' is not defined"
     ]
    }
   ],
   "source": [
    "nbh_count_2019_04_OP = listing_2019_April_OP.groupby('neighbourhood')['id'].nunique().reset_index() \n",
    "nbh_count_2019_04_OP.rename(columns={'id':'nb'}, inplace=True) #nb=an airbnb listing\n"
   ]
  },
  {
   "cell_type": "code",
   "execution_count": 88,
   "metadata": {},
   "outputs": [
    {
     "ename": "NameError",
     "evalue": "name 'nbh_count_2019_04_OP' is not defined",
     "output_type": "error",
     "traceback": [
      "\u001b[1;31m---------------------------------------------------------------------------\u001b[0m",
      "\u001b[1;31mNameError\u001b[0m                                 Traceback (most recent call last)",
      "\u001b[1;32m<ipython-input-88-e455520265d4>\u001b[0m in \u001b[0;36m<module>\u001b[1;34m\u001b[0m\n\u001b[1;32m----> 1\u001b[1;33m \u001b[0mnbh_count_2019_04_OP\u001b[0m\u001b[1;33m.\u001b[0m\u001b[0mhead\u001b[0m\u001b[1;33m(\u001b[0m\u001b[1;36m55\u001b[0m\u001b[1;33m)\u001b[0m \u001b[1;31m#Here are my counts by Neighborhood\u001b[0m\u001b[1;33m\u001b[0m\u001b[1;33m\u001b[0m\u001b[0m\n\u001b[0m",
      "\u001b[1;31mNameError\u001b[0m: name 'nbh_count_2019_04_OP' is not defined"
     ]
    }
   ],
   "source": [
    "nbh_count_2019_04_OP.head(55) #Here are my counts by Neighborhood"
   ]
  },
  {
   "cell_type": "markdown",
   "metadata": {},
   "source": []
  },
  {
   "cell_type": "code",
   "execution_count": 89,
   "metadata": {},
   "outputs": [
    {
     "ename": "NameError",
     "evalue": "name 'Geo_NBH_2019_OP' is not defined",
     "output_type": "error",
     "traceback": [
      "\u001b[1;31m---------------------------------------------------------------------------\u001b[0m",
      "\u001b[1;31mNameError\u001b[0m                                 Traceback (most recent call last)",
      "\u001b[1;32m<ipython-input-89-5e5823d1b071>\u001b[0m in \u001b[0;36m<module>\u001b[1;34m\u001b[0m\n\u001b[1;32m----> 1\u001b[1;33m \u001b[0mGeo_NBH_2019_OP\u001b[0m \u001b[1;33m=\u001b[0m \u001b[0mpd\u001b[0m\u001b[1;33m.\u001b[0m\u001b[0mmerge\u001b[0m\u001b[1;33m(\u001b[0m\u001b[0mGeo_NBH_2019_OP\u001b[0m\u001b[1;33m,\u001b[0m \u001b[0mnbh_count_2019_04\u001b[0m\u001b[1;33m,\u001b[0m \u001b[0mon\u001b[0m\u001b[1;33m=\u001b[0m\u001b[1;34m'neighbourhood'\u001b[0m\u001b[1;33m)\u001b[0m\u001b[1;33m\u001b[0m\u001b[1;33m\u001b[0m\u001b[0m\n\u001b[0m\u001b[0;32m      2\u001b[0m \u001b[0mGeo_NBH_2019_OP\u001b[0m\u001b[1;33m[\u001b[0m\u001b[1;34m'QP'\u001b[0m\u001b[1;33m]\u001b[0m \u001b[1;33m=\u001b[0m \u001b[0mGeo_NBH_2019_OP\u001b[0m\u001b[1;33m[\u001b[0m\u001b[1;34m'nb'\u001b[0m\u001b[1;33m]\u001b[0m \u001b[1;33m/\u001b[0m \u001b[0mGeo_NBH_2019_OP\u001b[0m\u001b[1;33m[\u001b[0m\u001b[1;34m'nb'\u001b[0m\u001b[1;33m]\u001b[0m\u001b[1;33m.\u001b[0m\u001b[0msum\u001b[0m\u001b[1;33m(\u001b[0m\u001b[1;33m)\u001b[0m\u001b[1;33m\u001b[0m\u001b[1;33m\u001b[0m\u001b[0m\n\u001b[0;32m      3\u001b[0m \u001b[0mGeo_NBH_2019_OP\u001b[0m\u001b[1;33m[\u001b[0m\u001b[1;34m'QP_str'\u001b[0m\u001b[1;33m]\u001b[0m \u001b[1;33m=\u001b[0m \u001b[0mGeo_NBH_2019_OP\u001b[0m\u001b[1;33m[\u001b[0m\u001b[1;34m'QP'\u001b[0m\u001b[1;33m]\u001b[0m\u001b[1;33m.\u001b[0m\u001b[0mapply\u001b[0m\u001b[1;33m(\u001b[0m\u001b[1;32mlambda\u001b[0m \u001b[0mx\u001b[0m \u001b[1;33m:\u001b[0m \u001b[0mstr\u001b[0m\u001b[1;33m(\u001b[0m\u001b[0mround\u001b[0m\u001b[1;33m(\u001b[0m\u001b[0mx\u001b[0m\u001b[1;33m*\u001b[0m\u001b[1;36m100\u001b[0m\u001b[1;33m,\u001b[0m \u001b[1;36m1\u001b[0m\u001b[1;33m)\u001b[0m\u001b[1;33m)\u001b[0m \u001b[1;33m+\u001b[0m \u001b[1;34m'%'\u001b[0m\u001b[1;33m)\u001b[0m\u001b[1;33m\u001b[0m\u001b[1;33m\u001b[0m\u001b[0m\n",
      "\u001b[1;31mNameError\u001b[0m: name 'Geo_NBH_2019_OP' is not defined"
     ]
    }
   ],
   "source": [
    "Geo_NBH_2019_OP = pd.merge(Geo_NBH_2019_OP, nbh_count_2019_04, on='neighbourhood')\n",
    "Geo_NBH_2019_OP['QP'] = Geo_NBH_2019_OP['nb'] / Geo_NBH_2019_OP['nb'].sum()\n",
    "Geo_NBH_2019_OP['QP_str'] = Geo_NBH_2019_OP['QP'].apply(lambda x : str(round(x*100, 1)) + '%')"
   ]
  },
  {
   "cell_type": "code",
   "execution_count": 90,
   "metadata": {},
   "outputs": [
    {
     "ename": "NameError",
     "evalue": "name 'Geo_NBH_2019_OP' is not defined",
     "output_type": "error",
     "traceback": [
      "\u001b[1;31m---------------------------------------------------------------------------\u001b[0m",
      "\u001b[1;31mNameError\u001b[0m                                 Traceback (most recent call last)",
      "\u001b[1;32m<ipython-input-90-be50494ed9cc>\u001b[0m in \u001b[0;36m<module>\u001b[1;34m\u001b[0m\n\u001b[1;32m----> 1\u001b[1;33m \u001b[0mGeo_NBH_2019_OP\u001b[0m\u001b[1;33m.\u001b[0m\u001b[0mhead\u001b[0m\u001b[1;33m(\u001b[0m\u001b[1;36m25\u001b[0m\u001b[1;33m)\u001b[0m\u001b[1;33m\u001b[0m\u001b[1;33m\u001b[0m\u001b[0m\n\u001b[0m",
      "\u001b[1;31mNameError\u001b[0m: name 'Geo_NBH_2019_OP' is not defined"
     ]
    }
   ],
   "source": [
    "Geo_NBH_2019_OP.head(25)"
   ]
  },
  {
   "cell_type": "code",
   "execution_count": 91,
   "metadata": {},
   "outputs": [
    {
     "ename": "NameError",
     "evalue": "name 'branca' is not defined",
     "output_type": "error",
     "traceback": [
      "\u001b[1;31m---------------------------------------------------------------------------\u001b[0m",
      "\u001b[1;31mNameError\u001b[0m                                 Traceback (most recent call last)",
      "\u001b[1;32m<ipython-input-91-0b18733d9c9d>\u001b[0m in \u001b[0;36m<module>\u001b[1;34m\u001b[0m\n\u001b[1;32m----> 1\u001b[1;33m nbh_color_map_2019_04 = branca.colormap.linear.YlOrRd_09.scale(min(nbh_count_2019_04['nb']),\n\u001b[0m\u001b[0;32m      2\u001b[0m                                                                    max(nbh_count_2019_04['nb']))\n",
      "\u001b[1;31mNameError\u001b[0m: name 'branca' is not defined"
     ]
    }
   ],
   "source": [
    "nbh_color_map_2019_04 = branca.colormap.linear.YlOrRd_09.scale(min(nbh_count_2019_04['nb']),\n",
    "                                                                   max(nbh_count_2019_04['nb']))"
   ]
  },
  {
   "cell_type": "code",
   "execution_count": 92,
   "metadata": {},
   "outputs": [
    {
     "ename": "NameError",
     "evalue": "name 'nbh_color_map_2019_04' is not defined",
     "output_type": "error",
     "traceback": [
      "\u001b[1;31m---------------------------------------------------------------------------\u001b[0m",
      "\u001b[1;31mNameError\u001b[0m                                 Traceback (most recent call last)",
      "\u001b[1;32m<ipython-input-92-d2633b0e6cb3>\u001b[0m in \u001b[0;36m<module>\u001b[1;34m\u001b[0m\n\u001b[1;32m----> 1\u001b[1;33m \u001b[0mmap_test\u001b[0m \u001b[1;33m=\u001b[0m \u001b[0mnbh_color_map_2019_04\u001b[0m\u001b[1;33m\u001b[0m\u001b[1;33m\u001b[0m\u001b[0m\n\u001b[0m",
      "\u001b[1;31mNameError\u001b[0m: name 'nbh_color_map_2019_04' is not defined"
     ]
    }
   ],
   "source": [
    "map_test = nbh_color_map_2019_04    "
   ]
  },
  {
   "cell_type": "code",
   "execution_count": 93,
   "metadata": {},
   "outputs": [
    {
     "ename": "NameError",
     "evalue": "name 'nbh_color_map_2019_04' is not defined",
     "output_type": "error",
     "traceback": [
      "\u001b[1;31m---------------------------------------------------------------------------\u001b[0m",
      "\u001b[1;31mNameError\u001b[0m                                 Traceback (most recent call last)",
      "\u001b[1;32m<ipython-input-93-ab71f4c18d14>\u001b[0m in \u001b[0;36m<module>\u001b[1;34m\u001b[0m\n\u001b[1;32m----> 1\u001b[1;33m \u001b[0mnbh_color_map_2019_04\u001b[0m\u001b[1;33m\u001b[0m\u001b[1;33m\u001b[0m\u001b[0m\n\u001b[0m",
      "\u001b[1;31mNameError\u001b[0m: name 'nbh_color_map_2019_04' is not defined"
     ]
    }
   ],
   "source": [
    "nbh_color_map_2019_04\n"
   ]
  },
  {
   "cell_type": "code",
   "execution_count": 94,
   "metadata": {},
   "outputs": [
    {
     "ename": "NameError",
     "evalue": "name 'folium' is not defined",
     "output_type": "error",
     "traceback": [
      "\u001b[1;31m---------------------------------------------------------------------------\u001b[0m",
      "\u001b[1;31mNameError\u001b[0m                                 Traceback (most recent call last)",
      "\u001b[1;32m<ipython-input-94-a073f51fee54>\u001b[0m in \u001b[0;36m<module>\u001b[1;34m\u001b[0m\n\u001b[1;32m----> 1\u001b[1;33m \u001b[0mnbh_locs_2019_04_map\u001b[0m \u001b[1;33m=\u001b[0m \u001b[0mfolium\u001b[0m\u001b[1;33m.\u001b[0m\u001b[0mMap\u001b[0m\u001b[1;33m(\u001b[0m\u001b[0mlocation\u001b[0m\u001b[1;33m=\u001b[0m\u001b[1;33m[\u001b[0m\u001b[1;36m48.856614\u001b[0m\u001b[1;33m,\u001b[0m \u001b[1;36m2.3522219\u001b[0m\u001b[1;33m]\u001b[0m\u001b[1;33m,\u001b[0m \u001b[0mzoom_start\u001b[0m \u001b[1;33m=\u001b[0m \u001b[1;36m12\u001b[0m\u001b[1;33m,\u001b[0m \u001b[0mtiles\u001b[0m\u001b[1;33m=\u001b[0m\u001b[1;34m'cartodbpositron'\u001b[0m\u001b[1;33m)\u001b[0m\u001b[1;33m\u001b[0m\u001b[1;33m\u001b[0m\u001b[0m\n\u001b[0m\u001b[0;32m      2\u001b[0m style_function = lambda x: {\n\u001b[0;32m      3\u001b[0m     \u001b[1;34m'fillColor'\u001b[0m\u001b[1;33m:\u001b[0m \u001b[0mmap_test\u001b[0m \u001b[1;33m(\u001b[0m\u001b[0mx\u001b[0m\u001b[1;33m[\u001b[0m\u001b[1;34m'properties'\u001b[0m\u001b[1;33m]\u001b[0m\u001b[1;33m[\u001b[0m\u001b[1;34m'nb'\u001b[0m\u001b[1;33m]\u001b[0m\u001b[1;33m)\u001b[0m\u001b[1;33m,\u001b[0m\u001b[1;33m\u001b[0m\u001b[1;33m\u001b[0m\u001b[0m\n\u001b[0;32m      4\u001b[0m     \u001b[1;34m'color'\u001b[0m\u001b[1;33m:\u001b[0m \u001b[1;34m'white'\u001b[0m\u001b[1;33m,\u001b[0m\u001b[1;33m\u001b[0m\u001b[1;33m\u001b[0m\u001b[0m\n\u001b[0;32m      5\u001b[0m     \u001b[1;34m'weight'\u001b[0m\u001b[1;33m:\u001b[0m \u001b[1;36m1\u001b[0m\u001b[1;33m,\u001b[0m\u001b[1;33m\u001b[0m\u001b[1;33m\u001b[0m\u001b[0m\n",
      "\u001b[1;31mNameError\u001b[0m: name 'folium' is not defined"
     ]
    }
   ],
   "source": [
    "nbh_locs_2019_04_map = folium.Map(location=[48.856614, 2.3522219], zoom_start = 12, tiles='cartodbpositron')\n",
    "style_function = lambda x: {\n",
    "    'fillColor': map_test (x['properties']['nb']),\n",
    "    'color': 'white',\n",
    "    'weight': 1,\n",
    "    'fillOpacity': 0.7\n",
    "}\n",
    "nbh_locsNb_2019_04 = folium.GeoJson(\n",
    "   Geo_NBH_2019,\n",
    "    style_function=style_function,\n",
    "    tooltip=folium.GeoJsonTooltip(\n",
    "        fields=['neighbourhood', 'nb', 'QP_str'],\n",
    "        aliases=['Neighbourhood', 'Location amount', 'Quote-part'],\n",
    "        localize=True\n",
    "    )\n",
    ").add_to(nbh_locs_2019_04_map)\n",
    "\n",
    "map_test.add_to(nbh_locs_2019_04_map)\n",
    "map_test.caption = 'Airbnb location amount'\n",
    "map_test.add_to(nbh_locs_2019_04_map)"
   ]
  },
  {
   "cell_type": "code",
   "execution_count": 95,
   "metadata": {},
   "outputs": [
    {
     "ename": "NameError",
     "evalue": "name 'nbh_locs_2019_04_map' is not defined",
     "output_type": "error",
     "traceback": [
      "\u001b[1;31m---------------------------------------------------------------------------\u001b[0m",
      "\u001b[1;31mNameError\u001b[0m                                 Traceback (most recent call last)",
      "\u001b[1;32m<ipython-input-95-2f3d2809bb8f>\u001b[0m in \u001b[0;36m<module>\u001b[1;34m\u001b[0m\n\u001b[1;32m----> 1\u001b[1;33m \u001b[0mnbh_locs_2019_04_map\u001b[0m\u001b[1;33m\u001b[0m\u001b[1;33m\u001b[0m\u001b[0m\n\u001b[0m",
      "\u001b[1;31mNameError\u001b[0m: name 'nbh_locs_2019_04_map' is not defined"
     ]
    }
   ],
   "source": [
    "nbh_locs_2019_04_map\n"
   ]
  },
  {
   "cell_type": "markdown",
   "metadata": {},
   "source": [
    "# Below I read in a file I pulled from Trip Advisor on the Top 10 Attractions in Paris"
   ]
  },
  {
   "cell_type": "code",
   "execution_count": 96,
   "metadata": {},
   "outputs": [
    {
     "data": {
      "text/html": [
       "<div>\n",
       "<style scoped>\n",
       "    .dataframe tbody tr th:only-of-type {\n",
       "        vertical-align: middle;\n",
       "    }\n",
       "\n",
       "    .dataframe tbody tr th {\n",
       "        vertical-align: top;\n",
       "    }\n",
       "\n",
       "    .dataframe thead th {\n",
       "        text-align: right;\n",
       "    }\n",
       "</style>\n",
       "<table border=\"1\" class=\"dataframe\">\n",
       "  <thead>\n",
       "    <tr style=\"text-align: right;\">\n",
       "      <th></th>\n",
       "      <th>Unnamed: 0</th>\n",
       "      <th>name</th>\n",
       "      <th>latitude</th>\n",
       "      <th>longitude</th>\n",
       "      <th>arrondissement</th>\n",
       "      <th>area</th>\n",
       "    </tr>\n",
       "  </thead>\n",
       "  <tbody>\n",
       "    <tr>\n",
       "      <th>0</th>\n",
       "      <td>NaN</td>\n",
       "      <td>Eiffel Tower</td>\n",
       "      <td>48.8584</td>\n",
       "      <td>2.2945</td>\n",
       "      <td>7</td>\n",
       "      <td>Palais-Bourbon</td>\n",
       "    </tr>\n",
       "    <tr>\n",
       "      <th>1</th>\n",
       "      <td>NaN</td>\n",
       "      <td>The Louvre</td>\n",
       "      <td>48.8606</td>\n",
       "      <td>2.3376</td>\n",
       "      <td>1</td>\n",
       "      <td>Louvre</td>\n",
       "    </tr>\n",
       "    <tr>\n",
       "      <th>2</th>\n",
       "      <td>NaN</td>\n",
       "      <td>Jardin du Luxembourg</td>\n",
       "      <td>48.8462</td>\n",
       "      <td>2.3372</td>\n",
       "      <td>6</td>\n",
       "      <td>Luxembourg</td>\n",
       "    </tr>\n",
       "    <tr>\n",
       "      <th>3</th>\n",
       "      <td>NaN</td>\n",
       "      <td>Le Marais</td>\n",
       "      <td>48.8587</td>\n",
       "      <td>2.3588</td>\n",
       "      <td>3</td>\n",
       "      <td>Hôtel-de-Ville</td>\n",
       "    </tr>\n",
       "    <tr>\n",
       "      <th>4</th>\n",
       "      <td>NaN</td>\n",
       "      <td>Musee d'Orsay</td>\n",
       "      <td>48.8600</td>\n",
       "      <td>2.3266</td>\n",
       "      <td>7</td>\n",
       "      <td>Palais-Bourbon</td>\n",
       "    </tr>\n",
       "  </tbody>\n",
       "</table>\n",
       "</div>"
      ],
      "text/plain": [
       "   Unnamed: 0                  name  latitude  longitude  arrondissement  \\\n",
       "0         NaN          Eiffel Tower   48.8584     2.2945               7   \n",
       "1         NaN            The Louvre   48.8606     2.3376               1   \n",
       "2         NaN  Jardin du Luxembourg   48.8462     2.3372               6   \n",
       "3         NaN             Le Marais   48.8587     2.3588               3   \n",
       "4         NaN         Musee d'Orsay   48.8600     2.3266               7   \n",
       "\n",
       "             area  \n",
       "0  Palais-Bourbon  \n",
       "1          Louvre  \n",
       "2      Luxembourg  \n",
       "3  Hôtel-de-Ville  \n",
       "4  Palais-Bourbon  "
      ]
     },
     "execution_count": 96,
     "metadata": {},
     "output_type": "execute_result"
    }
   ],
   "source": [
    "paris_top_10 = pd.read_excel('Top_10.xlsx', encoding = \"latin1\")\n",
    "paris_top_10.head(5)"
   ]
  },
  {
   "cell_type": "code",
   "execution_count": 97,
   "metadata": {},
   "outputs": [],
   "source": [
    "paris_top_10.drop(['Unnamed: 0'], axis=1,inplace=True)"
   ]
  },
  {
   "cell_type": "code",
   "execution_count": 98,
   "metadata": {},
   "outputs": [],
   "source": [
    "paris_top_10.drop(['arrondissement'], axis=1,inplace=True)"
   ]
  },
  {
   "cell_type": "code",
   "execution_count": 99,
   "metadata": {},
   "outputs": [
    {
     "data": {
      "image/png": "[encoded data removed]",
      "text/plain": [
       "<Figure size 864x144 with 1 Axes>"
      ]
     },
     "metadata": {},
     "output_type": "display_data"
    }
   ],
   "source": [
    "import pandas as pd\n",
    "import matplotlib.pyplot as plt\n",
    "\n",
    "#from pandas.plotting.table import table\n",
    "import numpy as np\n",
    "from pandas.plotting import scatter_matrix\n",
    "from pandas.plotting import table\n",
    "\n",
    "fig, ax = plt.subplots(figsize=(12, 2)) # set size frame\n",
    "ax.xaxis.set_visible(False)  # hide the x axis\n",
    "ax.yaxis.set_visible(False)  # hide the y axis\n",
    "ax.set_frame_on(False)  # no visible frame, uncomment if size is ok\n",
    "tabla = table(ax, paris_top_10, loc='upper right', colWidths=[0.17]*len(paris_top_10.columns))  # where df is your data frame\n",
    "tabla.auto_set_font_size(False) # Activate set fontsize manually\n",
    "tabla.set_fontsize(12) # if ++fontsize is necessary ++colWidths\n",
    "tabla.scale(1.2, 1.2) # change size table\n",
    "plt.savefig('table.png', transparent=True)"
   ]
  },
  {
   "cell_type": "markdown",
   "metadata": {},
   "source": [
    "#Below I created a formula using the haversine calculation and applying to the coordinates of Paris Proper"
   ]
  },
  {
   "cell_type": "code",
   "execution_count": 100,
   "metadata": {},
   "outputs": [],
   "source": [
    "from math import radians, cos, sin, asin, sqrt\n",
    "\n",
    "def haversine(lat1, lon1, lat2, lon2):\n",
    "    \n",
    "    '''Calculate the great circle distance between two points \n",
    "    on the earth (specified in decimal degrees)'''\n",
    "    \n",
    "    lat1 = float(lat1)\n",
    "    lon1 = float(lon1)\n",
    "    lat2 = float(lat2)\n",
    "    lon2 = float(lon2)\n",
    "    #miles_constant = 3959\n",
    "    lat1, lon1, lat2, lon2 = map(radians, [lat1, lon1, lat2, lon2])\n",
    "    #haversine formula\n",
    "    dlat = lat2 - lat1\n",
    "    dlon = lon2 - lon1\n",
    "    a = sin(dlat/2)**2 + cos(lat1) * cos(lat2) * sin(dlon/2)**2\n",
    "    c = 2 * asin(sqrt(a))\n",
    "    r = 3959\n",
    "    mi = r * c\n",
    "    return mi"
   ]
  },
  {
   "cell_type": "code",
   "execution_count": 101,
   "metadata": {},
   "outputs": [
    {
     "name": "stdout",
     "output_type": "stream",
     "text": [
      "2.98311774765089\n"
     ]
    }
   ],
   "source": [
    "print(haversine(48.89247049179856,2.378547117789503,48.8516,2.3574))"
   ]
  },
  {
   "cell_type": "code",
   "execution_count": 102,
   "metadata": {},
   "outputs": [
    {
     "data": {
      "text/html": [
       "<div>\n",
       "<style scoped>\n",
       "    .dataframe tbody tr th:only-of-type {\n",
       "        vertical-align: middle;\n",
       "    }\n",
       "\n",
       "    .dataframe tbody tr th {\n",
       "        vertical-align: top;\n",
       "    }\n",
       "\n",
       "    .dataframe thead th {\n",
       "        text-align: right;\n",
       "    }\n",
       "</style>\n",
       "<table border=\"1\" class=\"dataframe\">\n",
       "  <thead>\n",
       "    <tr style=\"text-align: right;\">\n",
       "      <th></th>\n",
       "      <th>index</th>\n",
       "      <th>name</th>\n",
       "      <th>latitude</th>\n",
       "      <th>longitude</th>\n",
       "      <th>area</th>\n",
       "    </tr>\n",
       "  </thead>\n",
       "  <tbody>\n",
       "    <tr>\n",
       "      <th>0</th>\n",
       "      <td>0</td>\n",
       "      <td>Eiffel Tower</td>\n",
       "      <td>48.8584</td>\n",
       "      <td>2.2945</td>\n",
       "      <td>Palais-Bourbon</td>\n",
       "    </tr>\n",
       "    <tr>\n",
       "      <th>1</th>\n",
       "      <td>1</td>\n",
       "      <td>The Louvre</td>\n",
       "      <td>48.8606</td>\n",
       "      <td>2.3376</td>\n",
       "      <td>Louvre</td>\n",
       "    </tr>\n",
       "    <tr>\n",
       "      <th>2</th>\n",
       "      <td>2</td>\n",
       "      <td>Jardin du Luxembourg</td>\n",
       "      <td>48.8462</td>\n",
       "      <td>2.3372</td>\n",
       "      <td>Luxembourg</td>\n",
       "    </tr>\n",
       "    <tr>\n",
       "      <th>3</th>\n",
       "      <td>3</td>\n",
       "      <td>Le Marais</td>\n",
       "      <td>48.8587</td>\n",
       "      <td>2.3588</td>\n",
       "      <td>Hôtel-de-Ville</td>\n",
       "    </tr>\n",
       "    <tr>\n",
       "      <th>4</th>\n",
       "      <td>4</td>\n",
       "      <td>Musee d'Orsay</td>\n",
       "      <td>48.8600</td>\n",
       "      <td>2.3266</td>\n",
       "      <td>Palais-Bourbon</td>\n",
       "    </tr>\n",
       "    <tr>\n",
       "      <th>5</th>\n",
       "      <td>5</td>\n",
       "      <td>Sainte-Chapelle</td>\n",
       "      <td>48.8554</td>\n",
       "      <td>2.3450</td>\n",
       "      <td>Louvre</td>\n",
       "    </tr>\n",
       "    <tr>\n",
       "      <th>6</th>\n",
       "      <td>6</td>\n",
       "      <td>Palais Garnier - Opera</td>\n",
       "      <td>48.8720</td>\n",
       "      <td>2.3316</td>\n",
       "      <td>Opéra</td>\n",
       "    </tr>\n",
       "    <tr>\n",
       "      <th>7</th>\n",
       "      <td>7</td>\n",
       "      <td>Notre Dame Cathedral</td>\n",
       "      <td>48.8530</td>\n",
       "      <td>2.3499</td>\n",
       "      <td>Hôtel-de-Ville</td>\n",
       "    </tr>\n",
       "    <tr>\n",
       "      <th>8</th>\n",
       "      <td>8</td>\n",
       "      <td>Musee de l'Orangerie</td>\n",
       "      <td>48.8638</td>\n",
       "      <td>2.3227</td>\n",
       "      <td>Louvre</td>\n",
       "    </tr>\n",
       "    <tr>\n",
       "      <th>9</th>\n",
       "      <td>9</td>\n",
       "      <td>Pont Alexandre III</td>\n",
       "      <td>48.8639</td>\n",
       "      <td>2.3136</td>\n",
       "      <td>Palais-Bourbon</td>\n",
       "    </tr>\n",
       "  </tbody>\n",
       "</table>\n",
       "</div>"
      ],
      "text/plain": [
       "   index                    name  latitude  longitude            area\n",
       "0      0            Eiffel Tower   48.8584     2.2945  Palais-Bourbon\n",
       "1      1              The Louvre   48.8606     2.3376          Louvre\n",
       "2      2    Jardin du Luxembourg   48.8462     2.3372      Luxembourg\n",
       "3      3               Le Marais   48.8587     2.3588  Hôtel-de-Ville\n",
       "4      4           Musee d'Orsay   48.8600     2.3266  Palais-Bourbon\n",
       "5      5         Sainte-Chapelle   48.8554     2.3450          Louvre\n",
       "6      6  Palais Garnier - Opera   48.8720     2.3316           Opéra\n",
       "7      7    Notre Dame Cathedral   48.8530     2.3499  Hôtel-de-Ville\n",
       "8      8    Musee de l'Orangerie   48.8638     2.3227          Louvre\n",
       "9      9      Pont Alexandre III   48.8639     2.3136  Palais-Bourbon"
      ]
     },
     "execution_count": 102,
     "metadata": {},
     "output_type": "execute_result"
    }
   ],
   "source": [
    "paris_top_10.reset_index()"
   ]
  },
  {
   "cell_type": "code",
   "execution_count": 103,
   "metadata": {},
   "outputs": [
    {
     "ename": "NameError",
     "evalue": "name 'listing_2019_April_OP' is not defined",
     "output_type": "error",
     "traceback": [
      "\u001b[1;31m---------------------------------------------------------------------------\u001b[0m",
      "\u001b[1;31mNameError\u001b[0m                                 Traceback (most recent call last)",
      "\u001b[1;32m<ipython-input-103-5c5bf5c519b6>\u001b[0m in \u001b[0;36m<module>\u001b[1;34m\u001b[0m\n\u001b[0;32m      7\u001b[0m \u001b[1;33m\u001b[0m\u001b[0m\n\u001b[0;32m      8\u001b[0m \u001b[1;31m#set columns for distance to attraction\u001b[0m\u001b[1;33m\u001b[0m\u001b[1;33m\u001b[0m\u001b[1;33m\u001b[0m\u001b[0m\n\u001b[1;32m----> 9\u001b[1;33m \u001b[1;32mfor\u001b[0m \u001b[0mi\u001b[0m\u001b[1;33m,\u001b[0m \u001b[0mbnb\u001b[0m \u001b[1;32min\u001b[0m \u001b[0mlisting_2019_April_OP\u001b[0m\u001b[1;33m.\u001b[0m\u001b[0miterrows\u001b[0m\u001b[1;33m(\u001b[0m\u001b[1;33m)\u001b[0m\u001b[1;33m:\u001b[0m\u001b[1;33m\u001b[0m\u001b[1;33m\u001b[0m\u001b[0m\n\u001b[0m\u001b[0;32m     10\u001b[0m     \u001b[0mdist_to_attraction\u001b[0m \u001b[1;33m=\u001b[0m \u001b[1;33m[\u001b[0m\u001b[1;33m]\u001b[0m\u001b[1;33m\u001b[0m\u001b[1;33m\u001b[0m\u001b[0m\n\u001b[0;32m     11\u001b[0m \u001b[1;33m\u001b[0m\u001b[0m\n",
      "\u001b[1;31mNameError\u001b[0m: name 'listing_2019_April_OP' is not defined"
     ]
    }
   ],
   "source": [
    "\n",
    "#Create new data points:\n",
    "#closest_attraction - set to the Attraction name with the shortest distance to the Airbnb property\n",
    "#attraction_dist - set to the distance of the Attraction closest to the Airbnb property\n",
    "#site_count - set to the number of attractions within 1 mile of the Airbnb property\n",
    "#a new column is created for each of the top attraction, which contains the distance between the Airbnb\n",
    "#property and the attraction/site\n",
    "\n",
    "#set columns for distance to attraction\n",
    "for i, bnb in listing_2019_April_OP.iterrows():\n",
    "    dist_to_attraction = []\n",
    "    \n",
    "    site_count = 0\n",
    "    \n",
    "    for j, site in paris_top_10.iterrows():\n",
    "        \n",
    "        locitem = {}\n",
    "        locitem['name'] = paris_top_10.loc[j, 'name']\n",
    "        #print(site['area'], site['attraction'])\n",
    "        locitem['distance'] = haversine(listing_2019_April_OP.loc[i, 'latitude'], \n",
    "                                        listing_2019_April_OP.loc[i, 'longitude'],\n",
    "                                         site['latitude'],site['longitude'])\n",
    "        listing_2019_April_OP.loc[i, site['name']] = locitem['distance']\n",
    "        dist_to_attraction.append(locitem)\n",
    "        \n",
    "        if locitem['distance'] <= 1.0:\n",
    "            site_count += 1\n",
    "    \n",
    "    dist_sorted = sorted(dist_to_attraction, key = lambda i: (i['distance'], i['name']))    \n",
    "    listing_2019_April_OP.loc[i,'nearest_attraction'] = dist_sorted[0]['name']\n",
    "    listing_2019_April_OP.loc[i,'attraction_dist'] = dist_sorted[0]['distance']\n",
    "    \n",
    "    listing_2019_April_OP.loc[i, 'site_count'] = site_count\n",
    "    \n",
    "    if dist_sorted[0]['distance'] < 2.0:\n",
    "        listing_2019_April_OP.loc[i,'close_to_attraction'] = 1\n",
    "    else:\n",
    "        listing_2019_April_OP.loc[i,'close_to_attraction'] = 0"
   ]
  },
  {
   "cell_type": "code",
   "execution_count": 104,
   "metadata": {},
   "outputs": [
    {
     "ename": "NameError",
     "evalue": "name 'listing_2019_April_OP' is not defined",
     "output_type": "error",
     "traceback": [
      "\u001b[1;31m---------------------------------------------------------------------------\u001b[0m",
      "\u001b[1;31mNameError\u001b[0m                                 Traceback (most recent call last)",
      "\u001b[1;32m<ipython-input-104-f97279235118>\u001b[0m in \u001b[0;36m<module>\u001b[1;34m\u001b[0m\n\u001b[1;32m----> 1\u001b[1;33m \u001b[0mlisting_2019_April_OP\u001b[0m\u001b[1;33m.\u001b[0m\u001b[0mcolumns\u001b[0m\u001b[1;33m\u001b[0m\u001b[1;33m\u001b[0m\u001b[0m\n\u001b[0m",
      "\u001b[1;31mNameError\u001b[0m: name 'listing_2019_April_OP' is not defined"
     ]
    }
   ],
   "source": [
    "listing_2019_April_OP.columns"
   ]
  },
  {
   "cell_type": "markdown",
   "metadata": {},
   "source": [
    "Index(['accommodates', 'amenities', 'availability_30', 'availability_60',\n",
    "       'availability_90', 'bathrooms', 'bedrooms', 'beds',\n",
    "       'cancellation_policy', 'guests_included', 'host_since',\n",
    "       'host_total_listings_count', 'id', 'last_review', 'latitude',\n",
    "       'longitude', 'minimum_nights', 'neighbourhood_cleansed',\n",
    "       'number_of_reviews', 'price', 'property_type', 'review_scores_accuracy',\n",
    "       'review_scores_checkin', 'review_scores_cleanliness',\n",
    "       'review_scores_communication', 'review_scores_location',\n",
    "       'review_scores_rating', 'review_scores_value', 'reviews_per_month',\n",
    "       'room_type', 'summary', 'transit', 'zipcode', 'arrondissement',\n",
    "       'arrond_name', 'rating_ind', 'Eiffel Tower', 'The Louvre',\n",
    "       'Jardin du Luxembourg', 'Le Marais', 'Musee d'Orsay', 'Sainte-Chapelle',\n",
    "       'Palais Garnier - Opera', 'Notre Dame Cathedral',\n",
    "       'Musee de l'Orangerie', 'Pont Alexandre III', 'closest_attraction',\n",
    "       'attraction_dist', 'site_count', 'close_to_attraction'],\n",
    "      dtype='object')"
   ]
  },
  {
   "cell_type": "code",
   "execution_count": 105,
   "metadata": {},
   "outputs": [
    {
     "ename": "NameError",
     "evalue": "name 'listing_2019_April_OP_OP' is not defined",
     "output_type": "error",
     "traceback": [
      "\u001b[1;31m---------------------------------------------------------------------------\u001b[0m",
      "\u001b[1;31mNameError\u001b[0m                                 Traceback (most recent call last)",
      "\u001b[1;32m<ipython-input-105-c0e38f8eac20>\u001b[0m in \u001b[0;36m<module>\u001b[1;34m\u001b[0m\n\u001b[1;32m----> 1\u001b[1;33m \u001b[0mlisting_2019_April_OP_OP\u001b[0m\u001b[1;33m.\u001b[0m\u001b[0mgroupby\u001b[0m\u001b[1;33m(\u001b[0m\u001b[1;33m[\u001b[0m\u001b[1;34m'neighbourhood'\u001b[0m\u001b[1;33m,\u001b[0m\u001b[1;34m'site_count'\u001b[0m\u001b[1;33m]\u001b[0m\u001b[1;33m)\u001b[0m\u001b[1;33m.\u001b[0m\u001b[0mid\u001b[0m\u001b[1;33m.\u001b[0m\u001b[0mcount\u001b[0m\u001b[1;33m(\u001b[0m\u001b[1;33m)\u001b[0m\u001b[1;33m\u001b[0m\u001b[1;33m\u001b[0m\u001b[0m\n\u001b[0m",
      "\u001b[1;31mNameError\u001b[0m: name 'listing_2019_April_OP_OP' is not defined"
     ]
    }
   ],
   "source": [
    "listing_2019_April_OP_OP.groupby(['neighbourhood','site_count']).id.count()"
   ]
  },
  {
   "cell_type": "code",
   "execution_count": 106,
   "metadata": {
    "scrolled": true
   },
   "outputs": [
    {
     "ename": "NameError",
     "evalue": "name 'listing_2019_April_OP' is not defined",
     "output_type": "error",
     "traceback": [
      "\u001b[1;31m---------------------------------------------------------------------------\u001b[0m",
      "\u001b[1;31mNameError\u001b[0m                                 Traceback (most recent call last)",
      "\u001b[1;32m<ipython-input-106-c54bc32b0f81>\u001b[0m in \u001b[0;36m<module>\u001b[1;34m\u001b[0m\n\u001b[1;32m----> 1\u001b[1;33m \u001b[0mlisting_2019_April_OP\u001b[0m\u001b[1;33m.\u001b[0m\u001b[0mhead\u001b[0m\u001b[1;33m(\u001b[0m\u001b[1;36m25\u001b[0m\u001b[1;33m)\u001b[0m\u001b[1;33m\u001b[0m\u001b[1;33m\u001b[0m\u001b[0m\n\u001b[0m",
      "\u001b[1;31mNameError\u001b[0m: name 'listing_2019_April_OP' is not defined"
     ]
    }
   ],
   "source": [
    "listing_2019_April_OP.head(25)"
   ]
  },
  {
   "cell_type": "code",
   "execution_count": 107,
   "metadata": {},
   "outputs": [
    {
     "ename": "NameError",
     "evalue": "name 'listing_2019_April_OP_OP' is not defined",
     "output_type": "error",
     "traceback": [
      "\u001b[1;31m---------------------------------------------------------------------------\u001b[0m",
      "\u001b[1;31mNameError\u001b[0m                                 Traceback (most recent call last)",
      "\u001b[1;32m<ipython-input-107-205c1550c9c0>\u001b[0m in \u001b[0;36m<module>\u001b[1;34m\u001b[0m\n\u001b[0;32m      1\u001b[0m \u001b[1;31m#ExperimentCode\u001b[0m\u001b[1;33m\u001b[0m\u001b[1;33m\u001b[0m\u001b[1;33m\u001b[0m\u001b[0m\n\u001b[1;32m----> 2\u001b[1;33m \u001b[0mPrice1\u001b[0m \u001b[1;33m=\u001b[0m \u001b[0mlisting_2019_April_OP_OP\u001b[0m\u001b[1;33m.\u001b[0m\u001b[0mprice\u001b[0m\u001b[1;33m[\u001b[0m\u001b[0mlisting_2019_April_OP_OP\u001b[0m\u001b[1;33m.\u001b[0m\u001b[0maccommodates\u001b[0m \u001b[1;33m==\u001b[0m \u001b[1;36m2\u001b[0m\u001b[1;33m]\u001b[0m \u001b[1;31m#I create objects by accomodates\u001b[0m\u001b[1;33m\u001b[0m\u001b[1;33m\u001b[0m\u001b[0m\n\u001b[0m\u001b[0;32m      3\u001b[0m \u001b[0mPrice2\u001b[0m \u001b[1;33m=\u001b[0m \u001b[0mlisting_2019_April_OP_OP\u001b[0m\u001b[1;33m.\u001b[0m\u001b[0mprice\u001b[0m\u001b[1;33m[\u001b[0m\u001b[0mlisting_2019_April_OP_OP\u001b[0m\u001b[1;33m.\u001b[0m\u001b[0maccommodates\u001b[0m \u001b[1;33m==\u001b[0m \u001b[1;36m4\u001b[0m\u001b[1;33m]\u001b[0m\u001b[1;33m\u001b[0m\u001b[1;33m\u001b[0m\u001b[0m\n\u001b[0;32m      4\u001b[0m \u001b[0mp1\u001b[0m \u001b[1;33m=\u001b[0m \u001b[0mlen\u001b[0m\u001b[1;33m(\u001b[0m\u001b[0mPrice1\u001b[0m\u001b[1;33m)\u001b[0m\u001b[1;33m\u001b[0m\u001b[1;33m\u001b[0m\u001b[0m\n\u001b[0;32m      5\u001b[0m \u001b[0mp2\u001b[0m \u001b[1;33m=\u001b[0m \u001b[0mlen\u001b[0m\u001b[1;33m(\u001b[0m\u001b[0mPrice2\u001b[0m\u001b[1;33m)\u001b[0m\u001b[1;33m\u001b[0m\u001b[1;33m\u001b[0m\u001b[0m\n",
      "\u001b[1;31mNameError\u001b[0m: name 'listing_2019_April_OP_OP' is not defined"
     ]
    }
   ],
   "source": [
    "#ExperimentCode\n",
    "Price1 = listing_2019_April_OP_OP.price[listing_2019_April_OP_OP.accommodates == 2] #I create objects by accomodates\n",
    "Price2 = listing_2019_April_OP_OP.price[listing_2019_April_OP_OP.accommodates == 4]\n",
    "p1 = len(Price1)\n",
    "p2 = len(Price2)\n"
   ]
  },
  {
   "cell_type": "code",
   "execution_count": 108,
   "metadata": {},
   "outputs": [
    {
     "ename": "NameError",
     "evalue": "name 'listing_2019_April_OP' is not defined",
     "output_type": "error",
     "traceback": [
      "\u001b[1;31m---------------------------------------------------------------------------\u001b[0m",
      "\u001b[1;31mNameError\u001b[0m                                 Traceback (most recent call last)",
      "\u001b[1;32m<ipython-input-108-1596ec985712>\u001b[0m in \u001b[0;36m<module>\u001b[1;34m\u001b[0m\n\u001b[1;32m----> 1\u001b[1;33m \u001b[0mPricesByReviews\u001b[0m \u001b[1;33m=\u001b[0m \u001b[0mlisting_2019_April_OP\u001b[0m\u001b[1;33m.\u001b[0m\u001b[0mgroupby\u001b[0m\u001b[1;33m(\u001b[0m\u001b[1;34m'review_scores_rating'\u001b[0m\u001b[1;33m)\u001b[0m\u001b[1;33m[\u001b[0m\u001b[1;34m'price'\u001b[0m\u001b[1;33m]\u001b[0m\u001b[1;33m.\u001b[0m\u001b[0mmean\u001b[0m\u001b[1;33m(\u001b[0m\u001b[1;33m)\u001b[0m\u001b[1;33m.\u001b[0m\u001b[0mreset_index\u001b[0m\u001b[1;33m(\u001b[0m\u001b[1;33m)\u001b[0m\u001b[1;33m\u001b[0m\u001b[1;33m\u001b[0m\u001b[0m\n\u001b[0m\u001b[0;32m      2\u001b[0m \u001b[0mPricesByReviews\u001b[0m\u001b[1;33m.\u001b[0m\u001b[0mrename\u001b[0m\u001b[1;33m(\u001b[0m\u001b[0mcolumns\u001b[0m\u001b[1;33m=\u001b[0m\u001b[1;33m{\u001b[0m\u001b[1;34m'price'\u001b[0m\u001b[1;33m:\u001b[0m\u001b[1;34m'avgPrice'\u001b[0m\u001b[1;33m}\u001b[0m\u001b[1;33m,\u001b[0m \u001b[0minplace\u001b[0m\u001b[1;33m=\u001b[0m\u001b[1;32mTrue\u001b[0m\u001b[1;33m)\u001b[0m\u001b[1;33m\u001b[0m\u001b[1;33m\u001b[0m\u001b[0m\n\u001b[0;32m      3\u001b[0m \u001b[0mPricesByReviews\u001b[0m\u001b[1;33m.\u001b[0m\u001b[0mhead\u001b[0m\u001b[1;33m(\u001b[0m\u001b[1;36m5\u001b[0m\u001b[1;33m)\u001b[0m\u001b[1;33m\u001b[0m\u001b[1;33m\u001b[0m\u001b[0m\n",
      "\u001b[1;31mNameError\u001b[0m: name 'listing_2019_April_OP' is not defined"
     ]
    }
   ],
   "source": [
    "PricesByReviews = listing_2019_April_OP.groupby('review_scores_rating')['price'].mean().reset_index()\n",
    "PricesByReviews.rename(columns={'price':'avgPrice'}, inplace=True) \n",
    "PricesByReviews.head(5)"
   ]
  },
  {
   "cell_type": "code",
   "execution_count": 109,
   "metadata": {},
   "outputs": [
    {
     "ename": "NameError",
     "evalue": "name 'listing_2019_April_OP' is not defined",
     "output_type": "error",
     "traceback": [
      "\u001b[1;31m---------------------------------------------------------------------------\u001b[0m",
      "\u001b[1;31mNameError\u001b[0m                                 Traceback (most recent call last)",
      "\u001b[1;32m<ipython-input-109-8b840b7bd3ea>\u001b[0m in \u001b[0;36m<module>\u001b[1;34m\u001b[0m\n\u001b[1;32m----> 1\u001b[1;33m \u001b[0mbyNBH\u001b[0m \u001b[1;33m=\u001b[0m \u001b[0mlisting_2019_April_OP\u001b[0m\u001b[1;33m.\u001b[0m\u001b[0msort_values\u001b[0m\u001b[1;33m(\u001b[0m\u001b[0mby\u001b[0m\u001b[1;33m=\u001b[0m\u001b[1;34m'neighbourhood'\u001b[0m\u001b[1;33m)\u001b[0m\u001b[1;33m\u001b[0m\u001b[1;33m\u001b[0m\u001b[0m\n\u001b[0m\u001b[0;32m      2\u001b[0m \u001b[0mfig\u001b[0m \u001b[1;33m=\u001b[0m \u001b[0mplt\u001b[0m\u001b[1;33m.\u001b[0m\u001b[0mfigure\u001b[0m\u001b[1;33m(\u001b[0m\u001b[0mfigsize\u001b[0m\u001b[1;33m=\u001b[0m\u001b[1;33m(\u001b[0m\u001b[1;36m18\u001b[0m\u001b[1;33m,\u001b[0m\u001b[1;36m9\u001b[0m\u001b[1;33m)\u001b[0m\u001b[1;33m)\u001b[0m\u001b[1;33m\u001b[0m\u001b[1;33m\u001b[0m\u001b[0m\n\u001b[0;32m      3\u001b[0m \u001b[0mbar\u001b[0m\u001b[1;33m,\u001b[0m \u001b[0max\u001b[0m \u001b[1;33m=\u001b[0m \u001b[0mplt\u001b[0m\u001b[1;33m.\u001b[0m\u001b[0msubplots\u001b[0m\u001b[1;33m(\u001b[0m\u001b[1;33m)\u001b[0m\u001b[1;33m\u001b[0m\u001b[1;33m\u001b[0m\u001b[0m\n\u001b[0;32m      4\u001b[0m \u001b[0max\u001b[0m \u001b[1;33m=\u001b[0m \u001b[0msns\u001b[0m\u001b[1;33m.\u001b[0m\u001b[0mbarplot\u001b[0m\u001b[1;33m(\u001b[0m \u001b[0mx\u001b[0m\u001b[1;33m=\u001b[0m\u001b[1;34m'neighbourhood'\u001b[0m\u001b[1;33m,\u001b[0m \u001b[0my\u001b[0m\u001b[1;33m=\u001b[0m\u001b[1;34m'price'\u001b[0m\u001b[1;33m,\u001b[0m \u001b[0mdata\u001b[0m\u001b[1;33m=\u001b[0m\u001b[0mlisting_2019_April_OP\u001b[0m\u001b[1;33m,\u001b[0m \u001b[0mcolor\u001b[0m\u001b[1;33m=\u001b[0m\u001b[1;34m'turquoise'\u001b[0m\u001b[1;33m)\u001b[0m\u001b[1;33m\u001b[0m\u001b[1;33m\u001b[0m\u001b[0m\n\u001b[0;32m      5\u001b[0m \u001b[0max\u001b[0m\u001b[1;33m.\u001b[0m\u001b[0mset_title\u001b[0m\u001b[1;33m(\u001b[0m\u001b[1;34m'Prices by Arrondissement for Properties'\u001b[0m\u001b[1;33m)\u001b[0m\u001b[1;33m\u001b[0m\u001b[1;33m\u001b[0m\u001b[0m\n",
      "\u001b[1;31mNameError\u001b[0m: name 'listing_2019_April_OP' is not defined"
     ]
    }
   ],
   "source": [
    "\n",
    "byNBH = listing_2019_April_OP.sort_values(by='neighbourhood')\n",
    "fig = plt.figure(figsize=(18,9))\n",
    "bar, ax = plt.subplots() \n",
    "ax = sns.barplot( x='neighbourhood', y='price', data=listing_2019_April_OP, color='turquoise') \n",
    "ax.set_title('Prices by Arrondissement for Properties') \n",
    "ax.set_xlabel('Paris Arrondissement') \n",
    "ax.set_ylabel('Prices') \n",
    "ax.set_xticklabels(labels=listing_2019_April_OP['neighbourhood'].unique(), rotation=90) \n",
    "plt.savefig('byNHB.png', bbox_inches='tight')"
   ]
  },
  {
   "cell_type": "code",
   "execution_count": 110,
   "metadata": {},
   "outputs": [
    {
     "ename": "NameError",
     "evalue": "name 'listing_2019_April_OP' is not defined",
     "output_type": "error",
     "traceback": [
      "\u001b[1;31m---------------------------------------------------------------------------\u001b[0m",
      "\u001b[1;31mNameError\u001b[0m                                 Traceback (most recent call last)",
      "\u001b[1;32m<ipython-input-110-fdc8af011ca1>\u001b[0m in \u001b[0;36m<module>\u001b[1;34m\u001b[0m\n\u001b[1;32m----> 1\u001b[1;33m \u001b[0mPrice_By_Type\u001b[0m \u001b[1;33m=\u001b[0m \u001b[0mlisting_2019_April_OP\u001b[0m\u001b[1;33m.\u001b[0m\u001b[0msort_values\u001b[0m\u001b[1;33m(\u001b[0m\u001b[0mby\u001b[0m\u001b[1;33m=\u001b[0m\u001b[1;34m'property_type'\u001b[0m\u001b[1;33m)\u001b[0m\u001b[1;33m\u001b[0m\u001b[1;33m\u001b[0m\u001b[0m\n\u001b[0m",
      "\u001b[1;31mNameError\u001b[0m: name 'listing_2019_April_OP' is not defined"
     ]
    }
   ],
   "source": [
    "Price_By_Type = listing_2019_April_OP.sort_values(by='property_type')"
   ]
  },
  {
   "cell_type": "code",
   "execution_count": 111,
   "metadata": {},
   "outputs": [
    {
     "ename": "NameError",
     "evalue": "name 'listing_2019_April_OP' is not defined",
     "output_type": "error",
     "traceback": [
      "\u001b[1;31m---------------------------------------------------------------------------\u001b[0m",
      "\u001b[1;31mNameError\u001b[0m                                 Traceback (most recent call last)",
      "\u001b[1;32m<ipython-input-111-5e428bdd1751>\u001b[0m in \u001b[0;36m<module>\u001b[1;34m\u001b[0m\n\u001b[0;32m      1\u001b[0m \u001b[0mfig\u001b[0m \u001b[1;33m=\u001b[0m \u001b[0mplt\u001b[0m\u001b[1;33m.\u001b[0m\u001b[0mfigure\u001b[0m\u001b[1;33m(\u001b[0m\u001b[0mfigsize\u001b[0m\u001b[1;33m=\u001b[0m\u001b[1;33m(\u001b[0m\u001b[1;36m20\u001b[0m\u001b[1;33m,\u001b[0m\u001b[1;36m14\u001b[0m\u001b[1;33m)\u001b[0m\u001b[1;33m)\u001b[0m\u001b[1;33m\u001b[0m\u001b[1;33m\u001b[0m\u001b[0m\n\u001b[0;32m      2\u001b[0m \u001b[0mbar\u001b[0m\u001b[1;33m,\u001b[0m \u001b[0max\u001b[0m \u001b[1;33m=\u001b[0m \u001b[0mplt\u001b[0m\u001b[1;33m.\u001b[0m\u001b[0msubplots\u001b[0m\u001b[1;33m(\u001b[0m\u001b[1;33m)\u001b[0m\u001b[1;33m\u001b[0m\u001b[1;33m\u001b[0m\u001b[0m\n\u001b[1;32m----> 3\u001b[1;33m \u001b[0max\u001b[0m \u001b[1;33m=\u001b[0m \u001b[0msns\u001b[0m\u001b[1;33m.\u001b[0m\u001b[0mbarplot\u001b[0m\u001b[1;33m(\u001b[0m \u001b[0mx\u001b[0m\u001b[1;33m=\u001b[0m\u001b[1;34m'Rating_By_Range'\u001b[0m\u001b[1;33m,\u001b[0m \u001b[0my\u001b[0m\u001b[1;33m=\u001b[0m\u001b[1;34m'price'\u001b[0m\u001b[1;33m,\u001b[0m \u001b[0mdata\u001b[0m\u001b[1;33m=\u001b[0m\u001b[0mlisting_2019_April_OP\u001b[0m\u001b[1;33m,\u001b[0m \u001b[0mcolor\u001b[0m\u001b[1;33m=\u001b[0m\u001b[1;33m(\u001b[0m\u001b[1;36m0.4\u001b[0m\u001b[1;33m,\u001b[0m \u001b[1;36m0.8\u001b[0m\u001b[1;33m,\u001b[0m \u001b[1;36m0.6\u001b[0m\u001b[1;33m,\u001b[0m \u001b[1;36m0.6\u001b[0m\u001b[1;33m)\u001b[0m\u001b[1;33m)\u001b[0m\u001b[1;33m\u001b[0m\u001b[1;33m\u001b[0m\u001b[0m\n\u001b[0m\u001b[0;32m      4\u001b[0m \u001b[0max\u001b[0m\u001b[1;33m.\u001b[0m\u001b[0mset_title\u001b[0m\u001b[1;33m(\u001b[0m\u001b[1;34m'Price by Review Score - 0 to 100%'\u001b[0m\u001b[1;33m)\u001b[0m\u001b[1;33m\u001b[0m\u001b[1;33m\u001b[0m\u001b[0m\n\u001b[0;32m      5\u001b[0m \u001b[0max\u001b[0m\u001b[1;33m.\u001b[0m\u001b[0mset_xlabel\u001b[0m\u001b[1;33m(\u001b[0m\u001b[1;34m'Review Score'\u001b[0m\u001b[1;33m)\u001b[0m\u001b[1;33m\u001b[0m\u001b[1;33m\u001b[0m\u001b[0m\n",
      "\u001b[1;31mNameError\u001b[0m: name 'listing_2019_April_OP' is not defined"
     ]
    },
    {
     "data": {
      "text/plain": [
       "<Figure size 1440x1008 with 0 Axes>"
      ]
     },
     "metadata": {},
     "output_type": "display_data"
    },
    {
     "data": {
      "image/png": "[encoded data removed]",
      "text/plain": [
       "<Figure size 432x288 with 1 Axes>"
      ]
     },
     "metadata": {},
     "output_type": "display_data"
    }
   ],
   "source": [
    "\n",
    "\n",
    "\n",
    "fig = plt.figure(figsize=(20,14))\n",
    "bar, ax = plt.subplots() \n",
    "ax = sns.barplot( x='Rating_By_Range', y='price', data=listing_2019_April_OP, color=(0.4, 0.8, 0.6, 0.6)) \n",
    "ax.set_title('Price by Review Score - 0 to 100%') \n",
    "ax.set_xlabel('Review Score') \n",
    "ax.set_ylabel('Average Price') \n",
    "\n",
    "\n"
   ]
  },
  {
   "cell_type": "code",
   "execution_count": 112,
   "metadata": {},
   "outputs": [
    {
     "ename": "NameError",
     "evalue": "name 'Price1' is not defined",
     "output_type": "error",
     "traceback": [
      "\u001b[1;31m---------------------------------------------------------------------------\u001b[0m",
      "\u001b[1;31mNameError\u001b[0m                                 Traceback (most recent call last)",
      "\u001b[1;32m<ipython-input-112-d69e7b7c9001>\u001b[0m in \u001b[0;36m<module>\u001b[1;34m\u001b[0m\n\u001b[1;32m----> 1\u001b[1;33m \u001b[0m_\u001b[0m \u001b[1;33m=\u001b[0m \u001b[0mplt\u001b[0m\u001b[1;33m.\u001b[0m\u001b[0mhist\u001b[0m\u001b[1;33m(\u001b[0m\u001b[0mPrice1\u001b[0m\u001b[1;33m,\u001b[0m \u001b[0mbins\u001b[0m\u001b[1;33m=\u001b[0m\u001b[1;36m30\u001b[0m\u001b[1;33m,\u001b[0m \u001b[0malpha\u001b[0m\u001b[1;33m=\u001b[0m\u001b[1;36m0.6\u001b[0m\u001b[1;33m,\u001b[0m \u001b[0mlabel\u001b[0m\u001b[1;33m=\u001b[0m\u001b[1;34m'2 Guests'\u001b[0m\u001b[1;33m)\u001b[0m \u001b[1;31m#Experimental Code\u001b[0m\u001b[1;33m\u001b[0m\u001b[1;33m\u001b[0m\u001b[0m\n\u001b[0m\u001b[0;32m      2\u001b[0m \u001b[0m_\u001b[0m \u001b[1;33m=\u001b[0m \u001b[0mplt\u001b[0m\u001b[1;33m.\u001b[0m\u001b[0mhist\u001b[0m\u001b[1;33m(\u001b[0m\u001b[0mPrice2\u001b[0m\u001b[1;33m,\u001b[0m \u001b[0mbins\u001b[0m\u001b[1;33m=\u001b[0m\u001b[1;36m30\u001b[0m\u001b[1;33m,\u001b[0m \u001b[0malpha\u001b[0m\u001b[1;33m=\u001b[0m\u001b[1;36m0.8\u001b[0m\u001b[1;33m,\u001b[0m \u001b[0mlabel\u001b[0m\u001b[1;33m=\u001b[0m\u001b[1;34m'4 Guests'\u001b[0m\u001b[1;33m)\u001b[0m\u001b[1;33m\u001b[0m\u001b[1;33m\u001b[0m\u001b[0m\n\u001b[0;32m      3\u001b[0m \u001b[0m_\u001b[0m \u001b[1;33m=\u001b[0m \u001b[0mplt\u001b[0m\u001b[1;33m.\u001b[0m\u001b[0mxlabel\u001b[0m\u001b[1;33m(\u001b[0m\u001b[1;34m'Price1'\u001b[0m\u001b[1;33m)\u001b[0m\u001b[1;33m\u001b[0m\u001b[1;33m\u001b[0m\u001b[0m\n\u001b[0;32m      4\u001b[0m \u001b[0m_\u001b[0m \u001b[1;33m=\u001b[0m \u001b[0mplt\u001b[0m\u001b[1;33m.\u001b[0m\u001b[0mylabel\u001b[0m\u001b[1;33m(\u001b[0m\u001b[1;34m'Price2'\u001b[0m\u001b[1;33m)\u001b[0m\u001b[1;33m\u001b[0m\u001b[1;33m\u001b[0m\u001b[0m\n\u001b[0;32m      5\u001b[0m \u001b[0m_\u001b[0m \u001b[1;33m=\u001b[0m \u001b[0mplt\u001b[0m\u001b[1;33m.\u001b[0m\u001b[0mlegend\u001b[0m\u001b[1;33m(\u001b[0m\u001b[1;33m)\u001b[0m\u001b[1;33m\u001b[0m\u001b[1;33m\u001b[0m\u001b[0m\n",
      "\u001b[1;31mNameError\u001b[0m: name 'Price1' is not defined"
     ]
    }
   ],
   "source": [
    "_ = plt.hist(Price1, bins=30, alpha=0.6, label='2 Guests') #Experimental Code\n",
    "_ = plt.hist(Price2, bins=30, alpha=0.8, label='4 Guests')\n",
    "_ = plt.xlabel('Price1')\n",
    "_ = plt.ylabel('Price2')\n",
    "_ = plt.legend()\n"
   ]
  },
  {
   "cell_type": "code",
   "execution_count": 113,
   "metadata": {},
   "outputs": [
    {
     "data": {
      "text/html": [],
      "text/plain": [
       "<IPython.core.display.HTML object>"
      ]
     },
     "execution_count": 113,
     "metadata": {},
     "output_type": "execute_result"
    }
   ],
   "source": [
    "from IPython.display import HTML\n",
    "HTML(\"\")"
   ]
  },
  {
   "cell_type": "code",
   "execution_count": 114,
   "metadata": {},
   "outputs": [
    {
     "ename": "NameError",
     "evalue": "name 'listing_2019_April_OP' is not defined",
     "output_type": "error",
     "traceback": [
      "\u001b[1;31m---------------------------------------------------------------------------\u001b[0m",
      "\u001b[1;31mNameError\u001b[0m                                 Traceback (most recent call last)",
      "\u001b[1;32m<ipython-input-114-948c594544be>\u001b[0m in \u001b[0;36m<module>\u001b[1;34m\u001b[0m\n\u001b[0;32m      1\u001b[0m \u001b[1;31m#How many listings are in each of the 19 neighborhoods; I immediately notice tht\u001b[0m\u001b[1;33m\u001b[0m\u001b[1;33m\u001b[0m\u001b[1;33m\u001b[0m\u001b[0m\n\u001b[1;32m----> 2\u001b[1;33m \u001b[0mlisting_2019_April_OP\u001b[0m\u001b[1;33m[\u001b[0m\u001b[1;34m'neighbourhood'\u001b[0m\u001b[1;33m]\u001b[0m\u001b[1;33m.\u001b[0m\u001b[0mvalue_counts\u001b[0m\u001b[1;33m(\u001b[0m\u001b[1;33m)\u001b[0m\u001b[1;33m\u001b[0m\u001b[1;33m\u001b[0m\u001b[0m\n\u001b[0m",
      "\u001b[1;31mNameError\u001b[0m: name 'listing_2019_April_OP' is not defined"
     ]
    }
   ],
   "source": [
    "#How many listings are in each of the 19 neighborhoods; I immediately notice tht \n",
    "listing_2019_April_OP['neighbourhood'].value_counts()"
   ]
  },
  {
   "cell_type": "code",
   "execution_count": null,
   "metadata": {},
   "outputs": [],
   "source": []
  },
  {
   "cell_type": "markdown",
   "metadata": {},
   "source": [
    "# Here I will review the average price per each neighborhood in Paris\n"
   ]
  },
  {
   "cell_type": "code",
   "execution_count": null,
   "metadata": {},
   "outputs": [],
   "source": [
    "Price_NBH_2019_04_OP = listing_2019_April_OP.groupby('neighbourhood')['price'].mean().reset_index() #Here I write a code to aggregate each neighborhood by average price \n",
    "Price_NBH_2019_04_OP.rename(columns={'price':'avgPrice'}, inplace=True) #I rename my price column to \"AVERAGE PRICE\"\n",
    "nbh_geo_price_2019_04_OP = pd.merge(Geo_NBH_2019, Price_NBH_2019_OP_04, on='neighbourhood')"
   ]
  },
  {
   "cell_type": "code",
   "execution_count": null,
   "metadata": {},
   "outputs": [],
   "source": [
    "Price_NBH_2019_04_OP.head(5)"
   ]
  },
  {
   "cell_type": "code",
   "execution_count": null,
   "metadata": {},
   "outputs": [],
   "source": [
    "nbh_price_colormap_2019_04_OP = branca.colormap.linear.YlGnBu_09.scale(min(Price_NBH_2019_OP_04['avgPrice']),\n",
    "                                                                 max(Price_NBH_2019_OP_04['avgPrice']))"
   ]
  },
  {
   "cell_type": "code",
   "execution_count": null,
   "metadata": {},
   "outputs": [],
   "source": [
    "NBH_LOC_PRICE_MAP_2019_04_OP = folium.Map(location=[48.856614, 2.3522219], zoom_start = 12, tiles='cartodbpositron')\n",
    "\n",
    "style_function = lambda x: {\n",
    "    'fillColor': nbh_price_colormap_2019_04_OP(x['properties']['avgPrice']),\n",
    "    'color': 'white',\n",
    "    'weight': 1,\n",
    "    'fillOpacity': 0.7\n",
    "}\n",
    "\n",
    "\n",
    "NBH_LOC_PRICE_MAP_2019_04_OP = folium.GeoJson(\n",
    "    nbh_geo_price_2019_04_OP,\n",
    "    style_function=style_function,\n",
    "    tooltip=folium.GeoJsonTooltip(\n",
    "        fields=['neighbourhood', 'avgPrice'],\n",
    "        aliases=['Neighbourhood', 'Average price'],\n",
    "        localize=True\n",
    "    )\n",
    ").add_to(NBH_LOC_PRICE_MAP_2019_04_OP)\n",
    "\n",
    "\n",
    "nbh_price_colormap_2019_04_OP.add_to(NBH_LOC_PRICE_MAP_2019_04_OP)\n",
    "nbh_price_colormap_2019_04_OP.caption = 'Paris Airbnb Neighborhood by Averge Price'\n",
    "nbh_price_colormap_2019_04_OP.add_to(NBH_LOC_PRICE_MAP_2019_04_OP)\n"
   ]
  },
  {
   "cell_type": "code",
   "execution_count": null,
   "metadata": {},
   "outputs": [],
   "source": [
    "NBH_LOC_PRICE_MAP_2019_04_OP"
   ]
  },
  {
   "cell_type": "code",
   "execution_count": null,
   "metadata": {},
   "outputs": [],
   "source": [
    "\n",
    "# nbh_locs_price_190709_map.save('neighbourhood_locations_price_190709.html')\n",
    "# nbh_locs_price_190709_map.save('20190813-neighbourhood-locations-price-190709.html')"
   ]
  },
  {
   "cell_type": "markdown",
   "metadata": {},
   "source": [
    "#Now I would like to explore room price by type (There are 3 basic types of rooms listed: Private room, Shared Room, Entire House/Apartment)"
   ]
  },
  {
   "cell_type": "code",
   "execution_count": null,
   "metadata": {},
   "outputs": [],
   "source": [
    "Price_By_Type_NBH_2019_04_OP= listing_2019_April_OP.groupby(['room_type', 'neighbourhood'])['price'].mean().reset_index()\n",
    "Price_By_Type_NBH_2019_04_OP= Price_By_Type_NBH_2019_04_OP.rename(columns={'price':'avg_price'})\n",
    "Price_By_Type_NBH_2019_04_OP= Price_By_Type_NBH_2019_04_OP.sort_values('avg_price', ascending=False).reset_index(drop=True)"
   ]
  },
  {
   "cell_type": "code",
   "execution_count": null,
   "metadata": {},
   "outputs": [],
   "source": [
    "Price_By_Type_NBH_2019_04_OP.head(5)\n",
    "    \n",
    "# We see that a Private room in the Elysee area is more expensive than a Private room in Opera"
   ]
  },
  {
   "cell_type": "markdown",
   "metadata": {},
   "source": [
    "Now I would like to further break down the neighborhoods and see the average prices per room type"
   ]
  },
  {
   "cell_type": "code",
   "execution_count": null,
   "metadata": {},
   "outputs": [],
   "source": [
    "Private_Room_AVG_2019_04_OP = Price_By_Type_NBH_2019_04_OP[Price_By_Type_NBH_2019_04_OP['room_type']=='Private room'].reset_index(drop=True)\n",
    "Entire_Hs_AVG_2019_04_OP = Price_By_Type_NBH_2019_04_OP[Price_By_Type_NBH_2019_04_OP['room_type']=='Entire home/apt'].reset_index(drop=True)\n",
    "Shared_Room_2019_04_OP = Price_By_Type_NBH_2019_04_OP[Price_By_Type_NBH_2019_04_OP['room_type']=='Shared room'].reset_index(drop=True)"
   ]
  },
  {
   "cell_type": "code",
   "execution_count": null,
   "metadata": {},
   "outputs": [],
   "source": [
    "Private_Room_AVG_2019_04_OP"
   ]
  },
  {
   "cell_type": "markdown",
   "metadata": {},
   "source": [
    "#Let's review these 3 room types"
   ]
  },
  {
   "cell_type": "code",
   "execution_count": null,
   "metadata": {},
   "outputs": [],
   "source": [
    "Room_TYPE_Accomodates = pd.pivot_table(data=listing_2019_April_OP,\n",
    "                                        index='accommodates',\n",
    "                                        columns='room_type',\n",
    "                                        values='id',\n",
    "                                        aggfunc='count',\n",
    "                                        fill_value=0).reset_index()"
   ]
  },
  {
   "cell_type": "markdown",
   "metadata": {},
   "source": [
    "# Below I create a function to show the experience of each host and how many listings each year of experience has"
   ]
  },
  {
   "cell_type": "code",
   "execution_count": null,
   "metadata": {},
   "outputs": [],
   "source": [
    "def hosts_expertise_by_year(this_year, start_date):\n",
    "    if type(start_date) == int:\n",
    "        return '0 year'\n",
    "    else:\n",
    "        seniority = this_year - start_date.year\n",
    "        if seniority < 2:\n",
    "            return str(seniority) + ' year'\n",
    "        elif 2 <= seniority < 8:\n",
    "            return str(seniority) + ' years'\n",
    "        else:\n",
    "            return '>= 8 years'"
   ]
  },
  {
   "cell_type": "code",
   "execution_count": null,
   "metadata": {},
   "outputs": [],
   "source": [
    "\n",
    "now = datetime.datetime.now()\n",
    "listing_2019_April_04_OP['host_expertise'] = listing_2019_April_04_OP['host_since'].apply(lambda x: hosts_expertise_by_year(now.year, x))"
   ]
  },
  {
   "cell_type": "code",
   "execution_count": null,
   "metadata": {},
   "outputs": [],
   "source": [
    "host_expertise_2019_04_OP_OP = listing_2019_April_OP_OP.groupby('host_expertise')['host_id'].nunique().reset_index()\n",
    "\n",
    "host_expertise_2019_04_OP.rename(columns={'host_id':'nb'}, inplace=True)\n",
    "host_expertise_2019_04_OP['QP'] = host_expertise_2019_04_OP['nb'] / host_expertise_2019_04_OP['nb'].sum()\n",
    "host_expertise_2019_04_OP['labels'] = host_expertise_2019_04_OP.apply(\n",
    "    lambda row: '%s\\n%d locations\\n(%.1f%%)' % (row['host_seniority'], row['nb'], row['QP']*100),\n",
    "    axis=1)\n",
    "host_expertise_2019_04_OP.sort_values('QP', ascending=False, inplace=True)"
   ]
  },
  {
   "cell_type": "code",
   "execution_count": null,
   "metadata": {},
   "outputs": [],
   "source": [
    "plt.figure(figsize=(16, 12))\n",
    "\n",
    "plt.rc('font', size=13)\n",
    "squarify.plot(sizes=host_expertise_2019_04_OP.nb,\n",
    "              label=host_expertise_2019_04_OP.labels,\n",
    "              alpha=0.7)\n",
    "plt.axis('off')"
   ]
  },
  {
   "cell_type": "markdown",
   "metadata": {},
   "source": [
    "Insights:  "
   ]
  },
  {
   "cell_type": "code",
   "execution_count": null,
   "metadata": {},
   "outputs": [],
   "source": [
    "from shapely.geometry import Point, shape \n",
    "import geopandas as gpd\n",
    "import folium\n",
    "\n",
    "locs_2019_04_OP_geometry = [Point(xy) for xy in zip(listing_2019_April_OP.longitude, listing_2019_April_OP.latitude)]\n",
    "crs = {'init': 'epsg:4326'} # Coordinate Reference Systems, \"epsg:4326\" is a common projection of WGS84 Latitude/Longitude\n",
    "locs_2019_04_OP_gdf = gpd.GeoDataFrame(listing_2019_April_OP, crs=crs, geometry=locs_2019_04_geometry)"
   ]
  },
  {
   "cell_type": "code",
   "execution_count": null,
   "metadata": {},
   "outputs": [],
   "source": [
    "from folium import plugins\n",
    "locs_2019_04_OP_OP_map = folium.Map(location=[48.856614, 2.3522219], zoom_start = 13, tiles='cartodbpositron')\n",
    "\n",
    "feature_ea = folium.FeatureGroup(name='Entire home/apt')\n",
    "feature_pr = folium.FeatureGroup(name='Private room')\n",
    "feature_sr = folium.FeatureGroup(name='Shared room')\n",
    "\n",
    "for i, v in locs_2019_04_OP_OP_gdf.iterrows(): #here I use HTML to create my pop-up menu\n",
    "    popup = \"\"\"\n",
    "    Location id : <b>%s</b><br>\n",
    "    Host name : <b>%s</b><br>\n",
    "    Room type : <b>%s</b><br>\n",
    "    Neighbourhood : <b>%s</b><br>\n",
    "    Price : <b>%d</b><br>\n",
    "    Minimum nights : <b>%d</b><br>\n",
    "    \"\"\" % (v['id'], v['host_name'], v['room_type'], v['neighbourhood'], v['price'], v['minimum_nights'])\n",
    "    \n",
    "    if v['room_type'] == 'Entire home/apt':\n",
    "        folium.CircleMarker(location=[v['latitude'], v['longitude']],\n",
    "                            radius=1,\n",
    "                            tooltip=popup,\n",
    "                            color='#FFBA00',\n",
    "                            fill_color='#FFBA00',\n",
    "                            fill=True).add_to(feature_ea)\n",
    "    elif v['room_type'] == 'Private room':\n",
    "        folium.CircleMarker(location=[v['latitude'], v['longitude']],\n",
    "                            radius=1,\n",
    "                            tooltip=popup,\n",
    "                            color='#087FBF',\n",
    "                            fill_color='#087FBF',\n",
    "                            fill=True).add_to(feature_pr)\n",
    "    elif v['room_type'] == 'Shared room':\n",
    "        folium.CircleMarker(location=[v['latitude'], v['longitude']],\n",
    "                            radius=1,\n",
    "                            tooltip=popup,\n",
    "                            color='#FF0700',\n",
    "                            fill_color='#FF0700',\n",
    "                            fill=True).add_to(feature_sr)\n",
    "\n",
    "feature_ea.add_to(locs_2019_04_OP_map)\n",
    "feature_pr.add_to(locs_2019_04_OP_map)\n",
    "feature_sr.add_to(locs_2019_04_OP_map)\n",
    "folium.LayerControl(collapsed=False).add_to(locs_2019_04_OP_map)"
   ]
  },
  {
   "cell_type": "code",
   "execution_count": null,
   "metadata": {},
   "outputs": [],
   "source": [
    "locs_2019_04_OPmap"
   ]
  },
  {
   "cell_type": "code",
   "execution_count": null,
   "metadata": {},
   "outputs": [],
   "source": [
    "\n",
    "locs_2019_04_OP_map_b = folium.Map(location=[48.856614, 2.3522219], zoom_start = 13, tiles='cartodbpositron')\n",
    "\n",
    "marker_cluster = plugins.MarkerCluster().add_to(locs_2019_04_OP_map_b)\n",
    "\n",
    "for i, v in locs_2019_04_OP_gdf.iterrows():\n",
    "    popup = \"\"\"\n",
    "    Location id : <b>%s</b><br>\n",
    "    Host name : <b>%s</b><br>\n",
    "    Room type : <b>%s</b><br>\n",
    "    Neighbourhood : <b>%s</b><br>\n",
    "    Price : <b>%d</b><br>\n",
    "    Minimum nights : <b>%d</b><br>\n",
    "    \"\"\" % (v['id'], v['host_name'], v['room_type'], v['neighbourhood'], v['price'], v['minimum_nights'])\n",
    "    \n",
    "    if v['room_type'] == 'Entire home/apt':\n",
    "        folium.CircleMarker(location=[v['latitude'], v['longitude']],\n",
    "                            radius=3,\n",
    "                            tooltip=popup,\n",
    "                            color='#FFBA00',\n",
    "                            fill_color='#FFBA00',\n",
    "                            fill=True).add_to(marker_cluster)\n",
    "    elif v['room_type'] == 'Private room':\n",
    "        folium.CircleMarker(location=[v['latitude'], v['longitude']],\n",
    "                            radius=3,\n",
    "                            tooltip=popup,\n",
    "                            color='#087FBF',\n",
    "                            fill_color='#087FBF',\n",
    "                            fill=True).add_to(marker_cluster)\n",
    "    elif v['room_type'] == 'Shared room':\n",
    "        folium.CircleMarker(location=[v['latitude'], v['longitude']],\n",
    "                            radius=3,\n",
    "                            tooltip=popup,\n",
    "                            color='#FF0700',\n",
    "                            fill_color='#FF0700',\n",
    "                            fill=True).add_to(marker_cluster)"
   ]
  },
  {
   "cell_type": "markdown",
   "metadata": {},
   "source": [
    "\n"
   ]
  },
  {
   "cell_type": "markdown",
   "metadata": {},
   "source": [
    "I will merge both my listing data and my review data together "
   ]
  },
  {
   "cell_type": "markdown",
   "metadata": {},
   "source": [
    "# Markdown\n",
    "\n"
   ]
  },
  {
   "cell_type": "code",
   "execution_count": null,
   "metadata": {},
   "outputs": [],
   "source": []
  }
 ],
 "metadata": {
  "kernelspec": {
   "display_name": "Python 3",
   "language": "python",
   "name": "python3"
  }
 },
 "nbformat": 4,
 "nbformat_minor": 2
}
